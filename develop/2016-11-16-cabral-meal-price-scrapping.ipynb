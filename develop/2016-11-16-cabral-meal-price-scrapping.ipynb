{
 "cells": [
  {
   "cell_type": "code",
   "execution_count": 38,
   "metadata": {
    "collapsed": false
   },
   "outputs": [],
   "source": [
    "%matplotlib notebook\n",
    "import matplotlib.pyplot as plt\n",
    "import numpy as np\n",
    "import pandas as pd\n",
    "import seaborn as sns\n",
    "from statistics import mean\n",
    "import re\n",
    "#For scrapping usage\n",
    "from urllib.request import urlopen\n",
    "from bs4 import BeautifulSoup\n",
    "\n"
   ]
  },
  {
   "cell_type": "code",
   "execution_count": 2,
   "metadata": {
    "collapsed": false
   },
   "outputs": [
    {
     "name": "stderr",
     "output_type": "stream",
     "text": [
      "/home/cabral/anaconda3/lib/python3.5/site-packages/bs4/__init__.py:181: UserWarning: No parser was explicitly specified, so I'm using the best available HTML parser for this system (\"lxml\"). This usually isn't a problem, but if you run this code on another system, or in a different virtual environment, it may use a different parser and behave differently.\n",
      "\n",
      "The code that caused this warning is on line 184 of the file /home/cabral/anaconda3/lib/python3.5/runpy.py. To get rid of this warning, change code that looks like this:\n",
      "\n",
      " BeautifulSoup([your markup])\n",
      "\n",
      "to this:\n",
      "\n",
      " BeautifulSoup([your markup], \"lxml\")\n",
      "\n",
      "  markup_type=markup_type))\n"
     ]
    }
   ],
   "source": [
    "#using just one hard coded URL for runnung tests\n",
    "place = \"https://www.tripadvisor.com/Restaurant_Review-g303322-d2347734-Reviews-Coco_Bambu_Lago_Sul-Brasilia_Federal_District.html\"\n",
    "page = urlopen(place)\n",
    "soup = BeautifulSoup(page)"
   ]
  },
  {
   "cell_type": "code",
   "execution_count": 3,
   "metadata": {
    "collapsed": false
   },
   "outputs": [],
   "source": [
    "#To check the URL strutcture\n",
    "#too long, commented it\n",
    "#print (soup.prettify)"
   ]
  },
  {
   "cell_type": "code",
   "execution_count": 4,
   "metadata": {
    "collapsed": false
   },
   "outputs": [
    {
     "name": "stdout",
     "output_type": "stream",
     "text": [
      "<title>Coco Bambu Lago Sul, Brasilia - Restaurant Reviews, Phone Number &amp; Photos - TripAdvisor</title>\n"
     ]
    }
   ],
   "source": [
    "print (soup.title)"
   ]
  },
  {
   "cell_type": "code",
   "execution_count": 5,
   "metadata": {
    "collapsed": false
   },
   "outputs": [
    {
     "name": "stdout",
     "output_type": "stream",
     "text": [
      "<div id=\"fb-root\"></div>\n"
     ]
    }
   ],
   "source": [
    "print (soup.div)"
   ]
  },
  {
   "cell_type": "code",
   "execution_count": 6,
   "metadata": {
    "collapsed": false
   },
   "outputs": [],
   "source": [
    "#soup.find_all(\"div\")\n",
    "#Found out too many divs"
   ]
  },
  {
   "cell_type": "code",
   "execution_count": 20,
   "metadata": {
    "collapsed": false
   },
   "outputs": [],
   "source": [
    "pricetag = soup.find(\"div\", { \"class\" : \"detail first price_rating separator\" })"
   ]
  },
  {
   "cell_type": "code",
   "execution_count": 21,
   "metadata": {
    "collapsed": false
   },
   "outputs": [],
   "source": [
    "pricetag = pricetag.string.strip()"
   ]
  },
  {
   "cell_type": "code",
   "execution_count": 22,
   "metadata": {
    "collapsed": false
   },
   "outputs": [
    {
     "data": {
      "text/plain": [
       "'$$ - $$$'"
      ]
     },
     "execution_count": 22,
     "metadata": {},
     "output_type": "execute_result"
    }
   ],
   "source": [
    "pricetag"
   ]
  },
  {
   "cell_type": "code",
   "execution_count": 23,
   "metadata": {
    "collapsed": false
   },
   "outputs": [
    {
     "name": "stdout",
     "output_type": "stream",
     "text": [
      "2.5\n"
     ]
    }
   ],
   "source": [
    "#Transforming price tag in intergers \n",
    "\n",
    "def translate_symbol_to_numeral(pricetag): \n",
    "    pricetag = pricetag.replace(' ', '')\n",
    "    tags = pricetag.split('-')\n",
    "    tags = list(map(lambda x : len(x), tags))\n",
    "    if len(tags) == 1:\n",
    "        return tags[0]\n",
    "    else:\n",
    "        return mean(tags)\n",
    "pricetag = translate_symbol_to_numeral(pricetag)\n",
    "print (pricetag)\n",
    "    "
   ]
  },
  {
   "cell_type": "markdown",
   "metadata": {},
   "source": [
    "## Sourcing the meal places"
   ]
  },
  {
   "cell_type": "code",
   "execution_count": 26,
   "metadata": {
    "collapsed": false
   },
   "outputs": [],
   "source": [
    "data = pd.read_csv('../data/2016-08-08-last-year.xz',\n",
    "                   parse_dates=[16],\n",
    "                   dtype={'document_id': np.str,\n",
    "                          'congressperson_id': np.str,\n",
    "                          'congressperson_document': np.str,\n",
    "                          'term_id': np.str,\n",
    "                          'cnpj_cpf': np.str,\n",
    "                          'reimbursement_number': np.str})"
   ]
  },
  {
   "cell_type": "code",
   "execution_count": 27,
   "metadata": {
    "collapsed": false
   },
   "outputs": [],
   "source": [
    "meals = data[data.subquota_description == 'Congressperson meal']"
   ]
  },
  {
   "cell_type": "code",
   "execution_count": 28,
   "metadata": {
    "collapsed": false
   },
   "outputs": [
    {
     "name": "stdout",
     "output_type": "stream",
     "text": [
      "33540 total cnpj/cpfs, 5926 are unique\n"
     ]
    }
   ],
   "source": [
    "grouped = meals.groupby('cnpj_cpf', as_index=False)\n",
    "\n",
    "print('{} total cnpj/cpfs, {} are unique'.format(len(meals), len(grouped)))"
   ]
  },
  {
   "cell_type": "markdown",
   "metadata": {},
   "source": [
    "\n",
    "## Creating a dataframe with the first supplier name for each cnpj_cpf:\n"
   ]
  },
  {
   "cell_type": "code",
   "execution_count": 14,
   "metadata": {
    "collapsed": false
   },
   "outputs": [
    {
     "data": {
      "text/html": [
       "<div>\n",
       "<table border=\"1\" class=\"dataframe\">\n",
       "  <thead>\n",
       "    <tr style=\"text-align: right;\">\n",
       "      <th></th>\n",
       "      <th>cnpj_cpf</th>\n",
       "      <th>supplier_name</th>\n",
       "    </tr>\n",
       "  </thead>\n",
       "  <tbody>\n",
       "    <tr>\n",
       "      <th>0</th>\n",
       "      <td>00006453000125</td>\n",
       "      <td>RIPA NA BRASA</td>\n",
       "    </tr>\n",
       "    <tr>\n",
       "      <th>1</th>\n",
       "      <td>00009332000137</td>\n",
       "      <td>SORVETERIA E CONFEITARIA DOM BOSCO LTDA</td>\n",
       "    </tr>\n",
       "    <tr>\n",
       "      <th>2</th>\n",
       "      <td>00015014000189</td>\n",
       "      <td>Mercado Natural Ltda.</td>\n",
       "    </tr>\n",
       "    <tr>\n",
       "      <th>3</th>\n",
       "      <td>00015228000155</td>\n",
       "      <td>Polipan Paes e Doces LTDA</td>\n",
       "    </tr>\n",
       "    <tr>\n",
       "      <th>4</th>\n",
       "      <td>00015327000137</td>\n",
       "      <td>YELLOW - COMIDA CASEIRA E PIZZARIA LTDA. - ME</td>\n",
       "    </tr>\n",
       "  </tbody>\n",
       "</table>\n",
       "</div>"
      ],
      "text/plain": [
       "         cnpj_cpf                                  supplier_name\n",
       "0  00006453000125                                  RIPA NA BRASA\n",
       "1  00009332000137        SORVETERIA E CONFEITARIA DOM BOSCO LTDA\n",
       "2  00015014000189                          Mercado Natural Ltda.\n",
       "3  00015228000155                      Polipan Paes e Doces LTDA\n",
       "4  00015327000137  YELLOW - COMIDA CASEIRA E PIZZARIA LTDA. - ME"
      ]
     },
     "execution_count": 14,
     "metadata": {},
     "output_type": "execute_result"
    }
   ],
   "source": [
    "cnpj_cpfs = []\n",
    "names = []\n",
    "for group in grouped:\n",
    "    cnpj_cpfs.append(group[0])\n",
    "    names.append(group[1].iloc[0].supplier)\n",
    "\n",
    "names = pd.DataFrame({'cnpj_cpf': cnpj_cpfs, 'supplier_name': names})\n",
    "names.head()"
   ]
  },
  {
   "cell_type": "markdown",
   "metadata": {},
   "source": [
    "## Isolating the supplier model "
   ]
  },
  {
   "cell_type": "code",
   "execution_count": 15,
   "metadata": {
    "collapsed": false
   },
   "outputs": [],
   "source": [
    "coco_bambu = names.loc[names['supplier_name'] == 'COCO BAMBU LAGO SUL COMERCIO DE ALIMENTOS LTDA.']"
   ]
  },
  {
   "cell_type": "code",
   "execution_count": 16,
   "metadata": {
    "collapsed": false
   },
   "outputs": [
    {
     "data": {
      "text/html": [
       "<div>\n",
       "<table border=\"1\" class=\"dataframe\">\n",
       "  <thead>\n",
       "    <tr style=\"text-align: right;\">\n",
       "      <th></th>\n",
       "      <th>cnpj_cpf</th>\n",
       "      <th>supplier_name</th>\n",
       "    </tr>\n",
       "  </thead>\n",
       "  <tbody>\n",
       "    <tr>\n",
       "      <th>2668</th>\n",
       "      <td>10542662000147</td>\n",
       "      <td>COCO BAMBU LAGO SUL COMERCIO DE ALIMENTOS LTDA.</td>\n",
       "    </tr>\n",
       "  </tbody>\n",
       "</table>\n",
       "</div>"
      ],
      "text/plain": [
       "            cnpj_cpf                                    supplier_name\n",
       "2668  10542662000147  COCO BAMBU LAGO SUL COMERCIO DE ALIMENTOS LTDA."
      ]
     },
     "execution_count": 16,
     "metadata": {},
     "output_type": "execute_result"
    }
   ],
   "source": [
    "coco_bambu"
   ]
  },
  {
   "cell_type": "markdown",
   "metadata": {},
   "source": [
    "## Adding pricetag to the DF"
   ]
  },
  {
   "cell_type": "code",
   "execution_count": 17,
   "metadata": {
    "collapsed": false
   },
   "outputs": [
    {
     "name": "stderr",
     "output_type": "stream",
     "text": [
      "/home/cabral/anaconda3/lib/python3.5/site-packages/ipykernel/__main__.py:1: SettingWithCopyWarning: \n",
      "A value is trying to be set on a copy of a slice from a DataFrame.\n",
      "Try using .loc[row_indexer,col_indexer] = value instead\n",
      "\n",
      "See the caveats in the documentation: http://pandas.pydata.org/pandas-docs/stable/indexing.html#indexing-view-versus-copy\n",
      "  if __name__ == '__main__':\n"
     ]
    }
   ],
   "source": [
    "coco_bambu['price_range'] = pricetag"
   ]
  },
  {
   "cell_type": "code",
   "execution_count": 18,
   "metadata": {
    "collapsed": false
   },
   "outputs": [
    {
     "data": {
      "text/html": [
       "<div>\n",
       "<table border=\"1\" class=\"dataframe\">\n",
       "  <thead>\n",
       "    <tr style=\"text-align: right;\">\n",
       "      <th></th>\n",
       "      <th>cnpj_cpf</th>\n",
       "      <th>supplier_name</th>\n",
       "      <th>price_range</th>\n",
       "    </tr>\n",
       "  </thead>\n",
       "  <tbody>\n",
       "    <tr>\n",
       "      <th>2668</th>\n",
       "      <td>10542662000147</td>\n",
       "      <td>COCO BAMBU LAGO SUL COMERCIO DE ALIMENTOS LTDA.</td>\n",
       "      <td>2.5</td>\n",
       "    </tr>\n",
       "  </tbody>\n",
       "</table>\n",
       "</div>"
      ],
      "text/plain": [
       "            cnpj_cpf                                    supplier_name  \\\n",
       "2668  10542662000147  COCO BAMBU LAGO SUL COMERCIO DE ALIMENTOS LTDA.   \n",
       "\n",
       "      price_range  \n",
       "2668          2.5  "
      ]
     },
     "execution_count": 18,
     "metadata": {},
     "output_type": "execute_result"
    }
   ],
   "source": [
    "coco_bambu"
   ]
  },
  {
   "cell_type": "markdown",
   "metadata": {},
   "source": [
    "## Sourcing Companies dataset\n",
    "### Will compare CNPJ numbers and retrieve name and fantasy name for future research"
   ]
  },
  {
   "cell_type": "code",
   "execution_count": 35,
   "metadata": {
    "collapsed": false
   },
   "outputs": [
    {
     "name": "stderr",
     "output_type": "stream",
     "text": [
      "/home/cabral/anaconda3/lib/python3.5/site-packages/IPython/core/interactiveshell.py:2717: DtypeWarning: Columns (21,22,101,102,103,104,105,106,107,108,109,110,111,112,115,116,117,118,119,120,121,122,123,124,125,126,127,128,129,130,131,132,133,134,137,138,139,140,141,142,143,144,145,146,147,148,149,150,151,152,153,154,155,156,159,160,161,162,163,164,165,166,167,168,169,170,171,172,173,174,175,176,177,178,181,182,183,184,185,186,187,188,189,190,191,192,193,194,195,196,197,198,199,200,203,204,205,206,207,208,209,210,211,212,213,214,215,216,217,218,219,220,221,222) have mixed types. Specify dtype option on import or set low_memory=False.\n",
      "  interactivity=interactivity, compiler=compiler, result=result)\n"
     ]
    }
   ],
   "source": [
    "companies = pd.read_csv('../data/2016-09-03-companies.xz', dtype={'trade_name': np.str})"
   ]
  },
  {
   "cell_type": "code",
   "execution_count": 36,
   "metadata": {
    "collapsed": false
   },
   "outputs": [
    {
     "data": {
      "text/plain": [
       "situation_date                                                     03/11/2005\n",
       "type                                                                   MATRIZ\n",
       "name                             COMPANHIA DE AGUAS E ESGOTOS DE RORAIMA CAER\n",
       "phone                                                          (95) 3626-5165\n",
       "situation                                                               ATIVA\n",
       "neighborhood                                                        SAO PEDRO\n",
       "address                                                        R MELVIN JONES\n",
       "number                                                                    219\n",
       "zip_code                                                           69.306-610\n",
       "city                                                                BOA VISTA\n",
       "state                                                                      RR\n",
       "opening                                                            21/11/1969\n",
       "legal_entity                              203-8 - SOCIEDADE DE ECONOMIA MISTA\n",
       "trade_name                                                                NaN\n",
       "cnpj                                                       05.939.467/0001-15\n",
       "last_updated                                         2016-07-08T05:55:31.679Z\n",
       "status                                                                     OK\n",
       "additional_address_details                                                NaN\n",
       "email                                                                     NaN\n",
       "responsible_federative_entity                                             NaN\n",
       "situation_reason                                                          NaN\n",
       "special_situation                                                         NaN\n",
       "special_situation_date                                                    NaN\n",
       "message                                                                   NaN\n",
       "main_activity_code                                                 36.00-6-01\n",
       "main_activity                     Captação, tratamento e distribuição de água\n",
       "secondary_activity_1                                                      NaN\n",
       "secondary_activity_10                                                     NaN\n",
       "secondary_activity_10_code                                                NaN\n",
       "secondary_activity_11                                                     NaN\n",
       "                                                     ...                     \n",
       "secondary_activity_88_code                                                NaN\n",
       "secondary_activity_89                                                     NaN\n",
       "secondary_activity_89_code                                                NaN\n",
       "secondary_activity_8_code                                                 NaN\n",
       "secondary_activity_9                                                      NaN\n",
       "secondary_activity_90                                                     NaN\n",
       "secondary_activity_90_code                                                NaN\n",
       "secondary_activity_91                                                     NaN\n",
       "secondary_activity_91_code                                                NaN\n",
       "secondary_activity_92                                                     NaN\n",
       "secondary_activity_92_code                                                NaN\n",
       "secondary_activity_93                                                     NaN\n",
       "secondary_activity_93_code                                                NaN\n",
       "secondary_activity_94                                                     NaN\n",
       "secondary_activity_94_code                                                NaN\n",
       "secondary_activity_95                                                     NaN\n",
       "secondary_activity_95_code                                                NaN\n",
       "secondary_activity_96                                                     NaN\n",
       "secondary_activity_96_code                                                NaN\n",
       "secondary_activity_97                                                     NaN\n",
       "secondary_activity_97_code                                                NaN\n",
       "secondary_activity_98                                                     NaN\n",
       "secondary_activity_98_code                                                NaN\n",
       "secondary_activity_99                                                     NaN\n",
       "secondary_activity_99_code                                                NaN\n",
       "secondary_activity_9_code                                                 NaN\n",
       "latitude                                                              2.82788\n",
       "longitude                                                            -60.6601\n",
       "latitude.1                                                            2.82788\n",
       "longitude.1                                                          -60.6601\n",
       "Name: 0, dtype: object"
      ]
     },
     "execution_count": 36,
     "metadata": {},
     "output_type": "execute_result"
    }
   ],
   "source": [
    "companies.iloc[0]"
   ]
  },
  {
   "cell_type": "code",
   "execution_count": 49,
   "metadata": {
    "collapsed": false
   },
   "outputs": [
    {
     "data": {
      "text/plain": [
       "'893443243241323'"
      ]
     },
     "execution_count": 49,
     "metadata": {},
     "output_type": "execute_result"
    }
   ],
   "source": [
    "def cleanup_cnpj(cnpj):\n",
    "    # print(type(cnpj))\n",
    "    regex = r'\\d'\n",
    "    digits = re.findall(regex, cnpj)\n",
    "    return ''.join(digits)\n",
    "\n",
    "cleanup_cnpj('89344324.3241-323')"
   ]
  },
  {
   "cell_type": "code",
   "execution_count": 50,
   "metadata": {
    "collapsed": false
   },
   "outputs": [
    {
     "data": {
      "text/plain": [
       "situation_date                                                     03/11/2005\n",
       "type                                                                   MATRIZ\n",
       "name                             COMPANHIA DE AGUAS E ESGOTOS DE RORAIMA CAER\n",
       "phone                                                          (95) 3626-5165\n",
       "situation                                                               ATIVA\n",
       "neighborhood                                                        SAO PEDRO\n",
       "address                                                        R MELVIN JONES\n",
       "number                                                                    219\n",
       "zip_code                                                           69.306-610\n",
       "city                                                                BOA VISTA\n",
       "state                                                                      RR\n",
       "opening                                                            21/11/1969\n",
       "legal_entity                              203-8 - SOCIEDADE DE ECONOMIA MISTA\n",
       "trade_name                                                                NaN\n",
       "cnpj                                                       05.939.467/0001-15\n",
       "last_updated                                         2016-07-08T05:55:31.679Z\n",
       "status                                                                     OK\n",
       "additional_address_details                                                NaN\n",
       "email                                                                     NaN\n",
       "responsible_federative_entity                                             NaN\n",
       "situation_reason                                                          NaN\n",
       "special_situation                                                         NaN\n",
       "special_situation_date                                                    NaN\n",
       "message                                                                   NaN\n",
       "main_activity_code                                                 36.00-6-01\n",
       "main_activity                     Captação, tratamento e distribuição de água\n",
       "secondary_activity_1                                                      NaN\n",
       "secondary_activity_10                                                     NaN\n",
       "secondary_activity_10_code                                                NaN\n",
       "secondary_activity_11                                                     NaN\n",
       "                                                     ...                     \n",
       "secondary_activity_89                                                     NaN\n",
       "secondary_activity_89_code                                                NaN\n",
       "secondary_activity_8_code                                                 NaN\n",
       "secondary_activity_9                                                      NaN\n",
       "secondary_activity_90                                                     NaN\n",
       "secondary_activity_90_code                                                NaN\n",
       "secondary_activity_91                                                     NaN\n",
       "secondary_activity_91_code                                                NaN\n",
       "secondary_activity_92                                                     NaN\n",
       "secondary_activity_92_code                                                NaN\n",
       "secondary_activity_93                                                     NaN\n",
       "secondary_activity_93_code                                                NaN\n",
       "secondary_activity_94                                                     NaN\n",
       "secondary_activity_94_code                                                NaN\n",
       "secondary_activity_95                                                     NaN\n",
       "secondary_activity_95_code                                                NaN\n",
       "secondary_activity_96                                                     NaN\n",
       "secondary_activity_96_code                                                NaN\n",
       "secondary_activity_97                                                     NaN\n",
       "secondary_activity_97_code                                                NaN\n",
       "secondary_activity_98                                                     NaN\n",
       "secondary_activity_98_code                                                NaN\n",
       "secondary_activity_99                                                     NaN\n",
       "secondary_activity_99_code                                                NaN\n",
       "secondary_activity_9_code                                                 NaN\n",
       "latitude                                                              2.82788\n",
       "longitude                                                            -60.6601\n",
       "latitude.1                                                            2.82788\n",
       "longitude.1                                                          -60.6601\n",
       "cleaned_cnpj                                                   05939467000115\n",
       "Name: 0, dtype: object"
      ]
     },
     "execution_count": 50,
     "metadata": {},
     "output_type": "execute_result"
    }
   ],
   "source": [
    "companies['cleaned_cnpj'] = companies['cnpj'].map(cleanup_cnpj)\n",
    "companies.iloc[0]"
   ]
  },
  {
   "cell_type": "code",
   "execution_count": 60,
   "metadata": {
    "collapsed": false
   },
   "outputs": [
    {
     "data": {
      "text/plain": [
       "(5655, 229)"
      ]
     },
     "execution_count": 60,
     "metadata": {},
     "output_type": "execute_result"
    }
   ],
   "source": [
    "congressperson_meal_companies = companies[companies['cleaned_cnpj'].isin(names['cnpj_cpf'])]\n",
    "# a_dataset[a_dataset['cnpj'].isin(another_data['cnpj])]\n",
    "congressperson_meal_companies.shape\n"
   ]
  },
  {
   "cell_type": "markdown",
   "metadata": {},
   "source": [
    "Default Tripadivsor URL for study purpose\n",
    "https://www.tripadvisor.com/Search?geo=303322&pid=3826&typeaheadRedirect=true&redirect=&startTime=1479311838571&uiOrigin=MASTHEAD&q=coco+bambu&returnTo=__2F__Restaurant__5F__Review__2D__g303322__2D__d2347734__2D__Reviews__2D__Coco__5F__Bambu__5F__Lago__5F__Sul__2D__Brasilia__5F__Federal__5F__District__2E__html&searchSessionId=882DF6A9A9540BDAD8FD36432D65D45B1479311256604ssid\n",
    "\n",
    "https://www.tripadvisor.com/Search?geo=294280&redirect&q=COCO+BAMBU+FRUTOS+DO+MAR&uiOrigin=MASTHEAD&ssrc=e&typeaheadRedirect=true&returnTo=__2F__Restaurant__5F__Review__2D__g303322__2D__d2347734__2D__Reviews__2D__Coco__5F__Bambu__5F__Lago__5F__Sul__2D__Brasilia__5F__Federal__5F__District__2E__html&pid=3825&startTime=undefined&searchSessionId=882DF6A9A9540BDAD8FD36432D65D45B1479314836242ssid"
   ]
  },
  {
   "cell_type": "code",
   "execution_count": 64,
   "metadata": {
    "collapsed": false
   },
   "outputs": [
    {
     "data": {
      "text/plain": [
       "situation_date                                                          15/12/2008\n",
       "type                                                                        MATRIZ\n",
       "name                                COCO BAMBU LAGO SUL COMERCIO DE ALIMENTOS LTDA\n",
       "phone                                                               (61) 3561-0025\n",
       "situation                                                                    ATIVA\n",
       "neighborhood                                                              BRASILIA\n",
       "address                          ST CLUBES ESPORTIVOS SUL TRECHO 2 CONJUNTO 36 ...\n",
       "number                                                                         301\n",
       "zip_code                                                                70.200-002\n",
       "city                                                                      BRASILIA\n",
       "state                                                                           DF\n",
       "opening                                                                 15/12/2008\n",
       "legal_entity                                 206-2 - SOCIEDADE EMPRESARIA LIMITADA\n",
       "trade_name                                                COCO BAMBU FRUTOS DO MAR\n",
       "cnpj                                                            10.542.662/0001-47\n",
       "last_updated                                              2016-07-02T15:25:41.752Z\n",
       "status                                                                          OK\n",
       "additional_address_details                                                     NaN\n",
       "email                                                                          NaN\n",
       "responsible_federative_entity                                                  NaN\n",
       "situation_reason                                                               NaN\n",
       "special_situation                                                              NaN\n",
       "special_situation_date                                                         NaN\n",
       "message                                                                        NaN\n",
       "main_activity_code                                                      56.11-2-01\n",
       "main_activity                                             Restaurantes e similares\n",
       "secondary_activity_1             Serviços de alimentação para eventos e recepçõ...\n",
       "secondary_activity_10                                                          NaN\n",
       "secondary_activity_10_code                                                     NaN\n",
       "secondary_activity_11                                                          NaN\n",
       "                                                       ...                        \n",
       "secondary_activity_89                                                          NaN\n",
       "secondary_activity_89_code                                                     NaN\n",
       "secondary_activity_8_code                                                      NaN\n",
       "secondary_activity_9                                                           NaN\n",
       "secondary_activity_90                                                          NaN\n",
       "secondary_activity_90_code                                                     NaN\n",
       "secondary_activity_91                                                          NaN\n",
       "secondary_activity_91_code                                                     NaN\n",
       "secondary_activity_92                                                          NaN\n",
       "secondary_activity_92_code                                                     NaN\n",
       "secondary_activity_93                                                          NaN\n",
       "secondary_activity_93_code                                                     NaN\n",
       "secondary_activity_94                                                          NaN\n",
       "secondary_activity_94_code                                                     NaN\n",
       "secondary_activity_95                                                          NaN\n",
       "secondary_activity_95_code                                                     NaN\n",
       "secondary_activity_96                                                          NaN\n",
       "secondary_activity_96_code                                                     NaN\n",
       "secondary_activity_97                                                          NaN\n",
       "secondary_activity_97_code                                                     NaN\n",
       "secondary_activity_98                                                          NaN\n",
       "secondary_activity_98_code                                                     NaN\n",
       "secondary_activity_99                                                          NaN\n",
       "secondary_activity_99_code                                                     NaN\n",
       "secondary_activity_9_code                                                      NaN\n",
       "latitude                                                                  -15.7942\n",
       "longitude                                                                 -47.8822\n",
       "latitude.1                                                                -15.7942\n",
       "longitude.1                                                               -47.8822\n",
       "cleaned_cnpj                                                        10542662000147\n",
       "Name: 2975, dtype: object"
      ]
     },
     "execution_count": 64,
     "metadata": {},
     "output_type": "execute_result"
    }
   ],
   "source": [
    "congressperson_meal_companies[congressperson_meal_companies['cleaned_cnpj'] == '10542662000147'].iloc[0]"
   ]
  },
  {
   "cell_type": "code",
   "execution_count": null,
   "metadata": {
    "collapsed": true
   },
   "outputs": [],
   "source": []
  }
 ],
 "metadata": {
  "kernelspec": {
   "display_name": "Python 3",
   "language": "python",
   "name": "python3"
  },
  "language_info": {
   "codemirror_mode": {
    "name": "ipython",
    "version": 3
   },
   "file_extension": ".py",
   "mimetype": "text/x-python",
   "name": "python",
   "nbconvert_exporter": "python",
   "pygments_lexer": "ipython3",
   "version": "3.5.2"
  }
 },
 "nbformat": 4,
 "nbformat_minor": 1
}
