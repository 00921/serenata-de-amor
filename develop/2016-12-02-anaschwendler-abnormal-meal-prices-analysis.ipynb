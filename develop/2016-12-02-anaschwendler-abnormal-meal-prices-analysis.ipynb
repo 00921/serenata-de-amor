{
 "cells": [
  {
   "cell_type": "markdown",
   "metadata": {},
   "source": [
    "# Detecting abnormal meal prices"
   ]
  },
  {
   "cell_type": "markdown",
   "metadata": {},
   "source": [
    "There's a list of meal reimbursements made using the CEAP. We want to alert about anomalies found in this dataset based on known information about food expenses. By the start, me and @filipelinhares are proposing grouping the congressperson that had reimbursement at the same places and same days to find how the consumption behave."
   ]
  },
  {
   "cell_type": "code",
   "execution_count": 2,
   "metadata": {
    "collapsed": true
   },
   "outputs": [],
   "source": [
    "%matplotlib notebook\n",
    "import matplotlib.pyplot as plt\n",
    "import numpy as np\n",
    "import pandas as pd\n",
    "import seaborn as sns"
   ]
  },
  {
   "cell_type": "code",
   "execution_count": 3,
   "metadata": {
    "collapsed": true
   },
   "outputs": [],
   "source": [
    "reimbursements = pd.read_csv('../data/2016-11-19-reimbursements.xz',\n",
    "                      dtype={'document_id': np.str,\n",
    "                          'congressperson_id': np.str,\n",
    "                          'congressperson_document': np.str,\n",
    "                          'term_id': np.str,\n",
    "                          'cnpj_cpf': np.str,\n",
    "                          'reimbursement_number': np.str},\n",
    "                      low_memory=False)"
   ]
  },
  {
   "cell_type": "code",
   "execution_count": 4,
   "metadata": {
    "collapsed": true
   },
   "outputs": [],
   "source": [
    "reimbursements['issue_date'] = pd.to_datetime(reimbursements['issue_date'], errors='coerce')\n",
    "reimbursements.sort_values('issue_date', inplace=True)"
   ]
  },
  {
   "cell_type": "markdown",
   "metadata": {},
   "source": [
    "## Data preparation"
   ]
  },
  {
   "cell_type": "code",
   "execution_count": 5,
   "metadata": {
    "collapsed": false
   },
   "outputs": [
    {
     "data": {
      "text/html": [
       "<div>\n",
       "<table border=\"1\" class=\"dataframe\">\n",
       "  <thead>\n",
       "    <tr style=\"text-align: right;\">\n",
       "      <th></th>\n",
       "      <th>year</th>\n",
       "      <th>applicant_id</th>\n",
       "      <th>document_id</th>\n",
       "      <th>reimbursement_value_total</th>\n",
       "      <th>total_net_value</th>\n",
       "      <th>reimbursement_numbers</th>\n",
       "      <th>congressperson_name</th>\n",
       "      <th>congressperson_id</th>\n",
       "      <th>congressperson_document</th>\n",
       "      <th>term</th>\n",
       "      <th>...</th>\n",
       "      <th>issue_date</th>\n",
       "      <th>document_value</th>\n",
       "      <th>remark_value</th>\n",
       "      <th>net_values</th>\n",
       "      <th>month</th>\n",
       "      <th>installment</th>\n",
       "      <th>passenger</th>\n",
       "      <th>leg_of_the_trip</th>\n",
       "      <th>batch_number</th>\n",
       "      <th>reimbursement_values</th>\n",
       "    </tr>\n",
       "  </thead>\n",
       "  <tbody>\n",
       "    <tr>\n",
       "      <th>107417</th>\n",
       "      <td>2009</td>\n",
       "      <td>1880</td>\n",
       "      <td>1701507</td>\n",
       "      <td>NaN</td>\n",
       "      <td>22.36</td>\n",
       "      <td>3105</td>\n",
       "      <td>LUIZ PAULO VELLOZO LUCAS</td>\n",
       "      <td>141489</td>\n",
       "      <td>278</td>\n",
       "      <td>2007.0</td>\n",
       "      <td>...</td>\n",
       "      <td>2000-10-20</td>\n",
       "      <td>22.36</td>\n",
       "      <td>0.0</td>\n",
       "      <td>22.36</td>\n",
       "      <td>10</td>\n",
       "      <td>0</td>\n",
       "      <td>NaN</td>\n",
       "      <td>NaN</td>\n",
       "      <td>431507</td>\n",
       "      <td>NaN</td>\n",
       "    </tr>\n",
       "    <tr>\n",
       "      <th>518515</th>\n",
       "      <td>2011</td>\n",
       "      <td>2303</td>\n",
       "      <td>2003049</td>\n",
       "      <td>NaN</td>\n",
       "      <td>80.00</td>\n",
       "      <td>3554</td>\n",
       "      <td>RONALDO ZULKE</td>\n",
       "      <td>160594</td>\n",
       "      <td>515</td>\n",
       "      <td>2011.0</td>\n",
       "      <td>...</td>\n",
       "      <td>2001-02-01</td>\n",
       "      <td>80.00</td>\n",
       "      <td>0.0</td>\n",
       "      <td>80.00</td>\n",
       "      <td>2</td>\n",
       "      <td>0</td>\n",
       "      <td>NaN</td>\n",
       "      <td>NaN</td>\n",
       "      <td>519202</td>\n",
       "      <td>NaN</td>\n",
       "    </tr>\n",
       "    <tr>\n",
       "      <th>293600</th>\n",
       "      <td>2010</td>\n",
       "      <td>1862</td>\n",
       "      <td>1895063</td>\n",
       "      <td>NaN</td>\n",
       "      <td>29.00</td>\n",
       "      <td>3386</td>\n",
       "      <td>JOSÉ PAULO TÓFFANO</td>\n",
       "      <td>141471</td>\n",
       "      <td>378</td>\n",
       "      <td>2007.0</td>\n",
       "      <td>...</td>\n",
       "      <td>2007-07-14</td>\n",
       "      <td>29.00</td>\n",
       "      <td>0.0</td>\n",
       "      <td>29.00</td>\n",
       "      <td>7</td>\n",
       "      <td>0</td>\n",
       "      <td>NaN</td>\n",
       "      <td>NaN</td>\n",
       "      <td>486871</td>\n",
       "      <td>NaN</td>\n",
       "    </tr>\n",
       "    <tr>\n",
       "      <th>292266</th>\n",
       "      <td>2010</td>\n",
       "      <td>1858</td>\n",
       "      <td>1811373</td>\n",
       "      <td>NaN</td>\n",
       "      <td>76.00</td>\n",
       "      <td>3281</td>\n",
       "      <td>JOÃO OLIVEIRA</td>\n",
       "      <td>141460</td>\n",
       "      <td>61</td>\n",
       "      <td>2007.0</td>\n",
       "      <td>...</td>\n",
       "      <td>2008-03-28</td>\n",
       "      <td>76.00</td>\n",
       "      <td>0.0</td>\n",
       "      <td>76.00</td>\n",
       "      <td>3</td>\n",
       "      <td>0</td>\n",
       "      <td>NaN</td>\n",
       "      <td>NaN</td>\n",
       "      <td>463938</td>\n",
       "      <td>NaN</td>\n",
       "    </tr>\n",
       "    <tr>\n",
       "      <th>375589</th>\n",
       "      <td>2010</td>\n",
       "      <td>995</td>\n",
       "      <td>1767225</td>\n",
       "      <td>NaN</td>\n",
       "      <td>39.68</td>\n",
       "      <td>3218</td>\n",
       "      <td>CLAUDIO CAJADO</td>\n",
       "      <td>74537</td>\n",
       "      <td>186</td>\n",
       "      <td>2015.0</td>\n",
       "      <td>...</td>\n",
       "      <td>2009-01-18</td>\n",
       "      <td>39.68</td>\n",
       "      <td>0.0</td>\n",
       "      <td>39.68</td>\n",
       "      <td>1</td>\n",
       "      <td>0</td>\n",
       "      <td>NaN</td>\n",
       "      <td>NaN</td>\n",
       "      <td>450865</td>\n",
       "      <td>NaN</td>\n",
       "    </tr>\n",
       "  </tbody>\n",
       "</table>\n",
       "<p>5 rows × 31 columns</p>\n",
       "</div>"
      ],
      "text/plain": [
       "        year  applicant_id document_id  reimbursement_value_total  \\\n",
       "107417  2009          1880     1701507                        NaN   \n",
       "518515  2011          2303     2003049                        NaN   \n",
       "293600  2010          1862     1895063                        NaN   \n",
       "292266  2010          1858     1811373                        NaN   \n",
       "375589  2010           995     1767225                        NaN   \n",
       "\n",
       "        total_net_value reimbursement_numbers       congressperson_name  \\\n",
       "107417            22.36                  3105  LUIZ PAULO VELLOZO LUCAS   \n",
       "518515            80.00                  3554             RONALDO ZULKE   \n",
       "293600            29.00                  3386        JOSÉ PAULO TÓFFANO   \n",
       "292266            76.00                  3281             JOÃO OLIVEIRA   \n",
       "375589            39.68                  3218            CLAUDIO CAJADO   \n",
       "\n",
       "       congressperson_id congressperson_document    term         ...           \\\n",
       "107417            141489                     278  2007.0         ...            \n",
       "518515            160594                     515  2011.0         ...            \n",
       "293600            141471                     378  2007.0         ...            \n",
       "292266            141460                      61  2007.0         ...            \n",
       "375589             74537                     186  2015.0         ...            \n",
       "\n",
       "       issue_date document_value remark_value  net_values month  installment  \\\n",
       "107417 2000-10-20          22.36          0.0       22.36    10            0   \n",
       "518515 2001-02-01          80.00          0.0       80.00     2            0   \n",
       "293600 2007-07-14          29.00          0.0       29.00     7            0   \n",
       "292266 2008-03-28          76.00          0.0       76.00     3            0   \n",
       "375589 2009-01-18          39.68          0.0       39.68     1            0   \n",
       "\n",
       "       passenger leg_of_the_trip batch_number reimbursement_values  \n",
       "107417       NaN             NaN       431507                  NaN  \n",
       "518515       NaN             NaN       519202                  NaN  \n",
       "293600       NaN             NaN       486871                  NaN  \n",
       "292266       NaN             NaN       463938                  NaN  \n",
       "375589       NaN             NaN       450865                  NaN  \n",
       "\n",
       "[5 rows x 31 columns]"
      ]
     },
     "execution_count": 5,
     "metadata": {},
     "output_type": "execute_result"
    }
   ],
   "source": [
    "meals = reimbursements[reimbursements.subquota_description == 'Congressperson meal']\n",
    "meals.head()"
   ]
  },
  {
   "cell_type": "code",
   "execution_count": 6,
   "metadata": {
    "collapsed": false
   },
   "outputs": [
    {
     "data": {
      "text/plain": [
       "count    191724.000000\n",
       "mean         65.758414\n",
       "std          98.156313\n",
       "min           0.010000\n",
       "25%          24.800000\n",
       "50%          46.060000\n",
       "75%          85.250000\n",
       "max        6205.000000\n",
       "Name: total_net_value, dtype: float64"
      ]
     },
     "execution_count": 6,
     "metadata": {},
     "output_type": "execute_result"
    }
   ],
   "source": [
    "meals.total_net_value.describe()"
   ]
  },
  {
   "cell_type": "code",
   "execution_count": 7,
   "metadata": {
    "collapsed": false
   },
   "outputs": [
    {
     "data": {
      "text/plain": [
       "(190763, 31)"
      ]
     },
     "execution_count": 7,
     "metadata": {},
     "output_type": "execute_result"
    }
   ],
   "source": [
    "meals = meals[meals['congressperson_id'].notnull()]\n",
    "meals.shape"
   ]
  },
  {
   "cell_type": "code",
   "execution_count": 8,
   "metadata": {
    "collapsed": false
   },
   "outputs": [],
   "source": [
    "# grouped = meals.groupby('cnpj_cpf', as_index=False)\n",
    "# print('{} total cnpj/cpfs, {} are unique'.format(len(meals), len(grouped)))"
   ]
  },
  {
   "cell_type": "code",
   "execution_count": 9,
   "metadata": {
    "collapsed": false
   },
   "outputs": [],
   "source": [
    "# cnpj_cpfs = []\n",
    "# names = []\n",
    "# for group in grouped:\n",
    "#     cnpj_cpfs.append(group[0])\n",
    "#     names.append(group[1].iloc[0].supplier)\n",
    "\n",
    "# names = pd.DataFrame({'cnpj_cpf': cnpj_cpfs, 'supplier_name': names})\n",
    "# names.head()"
   ]
  },
  {
   "cell_type": "markdown",
   "metadata": {},
   "source": [
    "## CNPJs/CPFs that received the most expenses in days."
   ]
  },
  {
   "cell_type": "code",
   "execution_count": 12,
   "metadata": {
    "collapsed": false
   },
   "outputs": [],
   "source": [
    "keys = ['cnpj_cpf', 'supplier', 'issue_date']\n",
    "aggregation = meals.groupby(keys)['total_net_value']. \\\n",
    "    agg({'sum': np.sum, 'expenses': len, 'mean': np.mean})"
   ]
  },
  {
   "cell_type": "code",
   "execution_count": 14,
   "metadata": {
    "collapsed": false
   },
   "outputs": [
    {
     "data": {
      "text/html": [
       "<div>\n",
       "<table border=\"1\" class=\"dataframe\">\n",
       "  <thead>\n",
       "    <tr style=\"text-align: right;\">\n",
       "      <th></th>\n",
       "      <th></th>\n",
       "      <th></th>\n",
       "      <th>expenses</th>\n",
       "      <th>sum</th>\n",
       "      <th>mean</th>\n",
       "    </tr>\n",
       "    <tr>\n",
       "      <th>cnpj_cpf</th>\n",
       "      <th>supplier</th>\n",
       "      <th>issue_date</th>\n",
       "      <th></th>\n",
       "      <th></th>\n",
       "      <th></th>\n",
       "    </tr>\n",
       "  </thead>\n",
       "  <tbody>\n",
       "    <tr>\n",
       "      <th>33469172000672</th>\n",
       "      <th>SERVIÇO NAC. DE APRENDIZAGEM COMERCIAL - SENAC</th>\n",
       "      <th>2016-05-24</th>\n",
       "      <td>73.0</td>\n",
       "      <td>1755.48</td>\n",
       "      <td>24.047671</td>\n",
       "    </tr>\n",
       "    <tr>\n",
       "      <th>33469172001644</th>\n",
       "      <th>SENAC - COMP. ADM. CAM. DEP. ANEXO IV 10º ANDAR</th>\n",
       "      <th>2015-03-18</th>\n",
       "      <td>60.0</td>\n",
       "      <td>2745.06</td>\n",
       "      <td>45.751000</td>\n",
       "    </tr>\n",
       "    <tr>\n",
       "      <th>33469172000672</th>\n",
       "      <th>SERVIÇO NACIONAL DE APRENDIZAGEM COMERCIAL - SENAC</th>\n",
       "      <th>2016-10-05</th>\n",
       "      <td>60.0</td>\n",
       "      <td>1590.70</td>\n",
       "      <td>26.511667</td>\n",
       "    </tr>\n",
       "    <tr>\n",
       "      <th>33469172001644</th>\n",
       "      <th>SENAC - COMP. ADM. CAM. DEP. ANEXO IV 10º ANDAR</th>\n",
       "      <th>2015-05-06</th>\n",
       "      <td>57.0</td>\n",
       "      <td>2647.78</td>\n",
       "      <td>46.452281</td>\n",
       "    </tr>\n",
       "    <tr>\n",
       "      <th>33469172000672</th>\n",
       "      <th>SERV. NAC. DE APRENDIZAGEM COMERCIAL - SENAC</th>\n",
       "      <th>2015-03-11</th>\n",
       "      <td>56.0</td>\n",
       "      <td>1024.00</td>\n",
       "      <td>18.285714</td>\n",
       "    </tr>\n",
       "    <tr>\n",
       "      <th rowspan=\"2\" valign=\"top\">33469172001644</th>\n",
       "      <th rowspan=\"2\" valign=\"top\">SENAC - COMP. ADM. CAM. DEP. ANEXO IV 10º ANDAR</th>\n",
       "      <th>2015-03-17</th>\n",
       "      <td>55.0</td>\n",
       "      <td>2462.66</td>\n",
       "      <td>44.775636</td>\n",
       "    </tr>\n",
       "    <tr>\n",
       "      <th>2015-05-07</th>\n",
       "      <td>55.0</td>\n",
       "      <td>2414.76</td>\n",
       "      <td>43.904727</td>\n",
       "    </tr>\n",
       "    <tr>\n",
       "      <th rowspan=\"2\" valign=\"top\">33469172000672</th>\n",
       "      <th>SERVIÇO NACIONAL DE APRENDIZAGEM COMERCIAL - SENAC</th>\n",
       "      <th>2015-07-01</th>\n",
       "      <td>55.0</td>\n",
       "      <td>1391.17</td>\n",
       "      <td>25.294000</td>\n",
       "    </tr>\n",
       "    <tr>\n",
       "      <th>SERV. NAC. DE APRENDIZAGEM COMERCIAL - SENAC</th>\n",
       "      <th>2015-03-25</th>\n",
       "      <td>55.0</td>\n",
       "      <td>1257.93</td>\n",
       "      <td>22.871455</td>\n",
       "    </tr>\n",
       "    <tr>\n",
       "      <th>33469172001644</th>\n",
       "      <th>SENAC - COMP. ADM. CAM. DEP. ANEXO IV 10º ANDAR</th>\n",
       "      <th>2015-04-28</th>\n",
       "      <td>54.0</td>\n",
       "      <td>2358.54</td>\n",
       "      <td>43.676667</td>\n",
       "    </tr>\n",
       "  </tbody>\n",
       "</table>\n",
       "</div>"
      ],
      "text/plain": [
       "                                                                              expenses  \\\n",
       "cnpj_cpf       supplier                                           issue_date             \n",
       "33469172000672 SERVIÇO NAC. DE APRENDIZAGEM COMERCIAL - SENAC     2016-05-24      73.0   \n",
       "33469172001644 SENAC - COMP. ADM. CAM. DEP. ANEXO IV 10º ANDAR    2015-03-18      60.0   \n",
       "33469172000672 SERVIÇO NACIONAL DE APRENDIZAGEM COMERCIAL - SENAC 2016-10-05      60.0   \n",
       "33469172001644 SENAC - COMP. ADM. CAM. DEP. ANEXO IV 10º ANDAR    2015-05-06      57.0   \n",
       "33469172000672 SERV. NAC. DE APRENDIZAGEM COMERCIAL - SENAC       2015-03-11      56.0   \n",
       "33469172001644 SENAC - COMP. ADM. CAM. DEP. ANEXO IV 10º ANDAR    2015-03-17      55.0   \n",
       "                                                                  2015-05-07      55.0   \n",
       "33469172000672 SERVIÇO NACIONAL DE APRENDIZAGEM COMERCIAL - SENAC 2015-07-01      55.0   \n",
       "               SERV. NAC. DE APRENDIZAGEM COMERCIAL - SENAC       2015-03-25      55.0   \n",
       "33469172001644 SENAC - COMP. ADM. CAM. DEP. ANEXO IV 10º ANDAR    2015-04-28      54.0   \n",
       "\n",
       "                                                                                  sum  \\\n",
       "cnpj_cpf       supplier                                           issue_date            \n",
       "33469172000672 SERVIÇO NAC. DE APRENDIZAGEM COMERCIAL - SENAC     2016-05-24  1755.48   \n",
       "33469172001644 SENAC - COMP. ADM. CAM. DEP. ANEXO IV 10º ANDAR    2015-03-18  2745.06   \n",
       "33469172000672 SERVIÇO NACIONAL DE APRENDIZAGEM COMERCIAL - SENAC 2016-10-05  1590.70   \n",
       "33469172001644 SENAC - COMP. ADM. CAM. DEP. ANEXO IV 10º ANDAR    2015-05-06  2647.78   \n",
       "33469172000672 SERV. NAC. DE APRENDIZAGEM COMERCIAL - SENAC       2015-03-11  1024.00   \n",
       "33469172001644 SENAC - COMP. ADM. CAM. DEP. ANEXO IV 10º ANDAR    2015-03-17  2462.66   \n",
       "                                                                  2015-05-07  2414.76   \n",
       "33469172000672 SERVIÇO NACIONAL DE APRENDIZAGEM COMERCIAL - SENAC 2015-07-01  1391.17   \n",
       "               SERV. NAC. DE APRENDIZAGEM COMERCIAL - SENAC       2015-03-25  1257.93   \n",
       "33469172001644 SENAC - COMP. ADM. CAM. DEP. ANEXO IV 10º ANDAR    2015-04-28  2358.54   \n",
       "\n",
       "                                                                                   mean  \n",
       "cnpj_cpf       supplier                                           issue_date             \n",
       "33469172000672 SERVIÇO NAC. DE APRENDIZAGEM COMERCIAL - SENAC     2016-05-24  24.047671  \n",
       "33469172001644 SENAC - COMP. ADM. CAM. DEP. ANEXO IV 10º ANDAR    2015-03-18  45.751000  \n",
       "33469172000672 SERVIÇO NACIONAL DE APRENDIZAGEM COMERCIAL - SENAC 2016-10-05  26.511667  \n",
       "33469172001644 SENAC - COMP. ADM. CAM. DEP. ANEXO IV 10º ANDAR    2015-05-06  46.452281  \n",
       "33469172000672 SERV. NAC. DE APRENDIZAGEM COMERCIAL - SENAC       2015-03-11  18.285714  \n",
       "33469172001644 SENAC - COMP. ADM. CAM. DEP. ANEXO IV 10º ANDAR    2015-03-17  44.775636  \n",
       "                                                                  2015-05-07  43.904727  \n",
       "33469172000672 SERVIÇO NACIONAL DE APRENDIZAGEM COMERCIAL - SENAC 2015-07-01  25.294000  \n",
       "               SERV. NAC. DE APRENDIZAGEM COMERCIAL - SENAC       2015-03-25  22.871455  \n",
       "33469172001644 SENAC - COMP. ADM. CAM. DEP. ANEXO IV 10º ANDAR    2015-04-28  43.676667  "
      ]
     },
     "execution_count": 14,
     "metadata": {},
     "output_type": "execute_result"
    }
   ],
   "source": [
    "aggregation.sort_values(['expenses', 'sum'], ascending=[False, False]).head(10)"
   ]
  },
  {
   "cell_type": "markdown",
   "metadata": {},
   "source": [
    "As we observe, there's a place that received 73 reimburses in one day, by now we are looking for a way to know what congressperson had lunch in those places and how many they had paid for it, in order to find if some of those congressperson had an abnormal expense."
   ]
  }
 ],
 "metadata": {
  "kernelspec": {
   "display_name": "Python 3",
   "language": "python",
   "name": "python3"
  }
 },
 "nbformat": 4,
 "nbformat_minor": 1
}
