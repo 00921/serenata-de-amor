{
 "cells": [
  {
   "cell_type": "markdown",
   "metadata": {},
   "source": [
    "# Traveled speeds\n",
    "\n",
    "The Quota for Exercise of Parliamentary Activity says that meal expenses can be reimbursed just for the politician, excluding guests and assistants. Creating a feature with information of traveled speed from last meal can help us detect anomalies compared to other expenses.\n",
    "\n",
    "Since we don't have in structured data the time of the expense, we want to anylize the group of expenses made in the same day.\n",
    "\n",
    "* Learn how to calculate distance between two coordinates.\n",
    "* Filter \"Congressperson meal\" expenses.\n",
    "* Order by date.\n",
    "* Merge `reimbursements.xz` dataset with `companies.xz`, so we have latitude/longitude for each expense.\n",
    "* Remove expenses with less than 12 hours of distance between each other.\n",
    "\n",
    "...\n",
    "\n",
    "\n",
    "* Filter specific congressperson."
   ]
  },
  {
   "cell_type": "code",
   "execution_count": 1,
   "metadata": {
    "collapsed": false
   },
   "outputs": [
    {
     "name": "stderr",
     "output_type": "stream",
     "text": [
      "/Users/irio/anaconda3/envs/serenata_de_amor/lib/python3.5/site-packages/IPython/core/interactiveshell.py:2705: DtypeWarning: Columns (5) have mixed types. Specify dtype option on import or set low_memory=False.\n",
      "  interactivity=interactivity, compiler=compiler, result=result)\n"
     ]
    }
   ],
   "source": [
    "import pandas as pd\n",
    "import numpy as np\n",
    "\n",
    "reimbursements = pd.read_csv('../data/2016-11-19-reimbursements.xz',\n",
    "                             dtype={'cnpj_cpf': np.str})"
   ]
  },
  {
   "cell_type": "code",
   "execution_count": 2,
   "metadata": {
    "collapsed": false
   },
   "outputs": [
    {
     "data": {
      "text/plain": [
       "year                                                       2009\n",
       "applicant_id                                               1001\n",
       "document_id                                             1564212\n",
       "reimbursement_value_total                                   NaN\n",
       "total_net_value                                             130\n",
       "reimbursement_numbers                                      2888\n",
       "congressperson_name                            DILCEU SPERAFICO\n",
       "congressperson_id                                         73768\n",
       "congressperson_document                                     444\n",
       "term                                                       2015\n",
       "state                                                        PR\n",
       "party                                                        PP\n",
       "term_id                                                      55\n",
       "subquota_number                                               3\n",
       "subquota_description                       Fuels and lubricants\n",
       "subquota_group_id                                             1\n",
       "subquota_group_description                 Veículos Automotores\n",
       "supplier                      MELHOR POSTO DE COMBUSTÍVEIS LTDA\n",
       "cnpj_cpf                                         02989654001197\n",
       "document_number                                           43059\n",
       "document_type                                                 0\n",
       "issue_date                                  2009-04-06T00:00:00\n",
       "document_value                                              130\n",
       "remark_value                                                  0\n",
       "net_values                                                  130\n",
       "month                                                         4\n",
       "installment                                                   0\n",
       "passenger                                                   NaN\n",
       "leg_of_the_trip                                             NaN\n",
       "batch_number                                             388810\n",
       "reimbursement_values                                        NaN\n",
       "Name: 0, dtype: object"
      ]
     },
     "execution_count": 2,
     "metadata": {},
     "output_type": "execute_result"
    }
   ],
   "source": [
    "reimbursements.iloc[0]"
   ]
  },
  {
   "cell_type": "code",
   "execution_count": 3,
   "metadata": {
    "collapsed": false
   },
   "outputs": [
    {
     "data": {
      "text/plain": [
       "(191724, 31)"
      ]
     },
     "execution_count": 3,
     "metadata": {},
     "output_type": "execute_result"
    }
   ],
   "source": [
    "reimbursements = reimbursements[reimbursements['subquota_description'] == 'Congressperson meal']\n",
    "reimbursements.shape"
   ]
  },
  {
   "cell_type": "code",
   "execution_count": 4,
   "metadata": {
    "collapsed": false
   },
   "outputs": [],
   "source": [
    "reimbursements['issue_date'] = pd.to_datetime(reimbursements['issue_date'], errors='coerce')\n",
    "reimbursements.sort_values('issue_date', inplace=True)"
   ]
  },
  {
   "cell_type": "code",
   "execution_count": 5,
   "metadata": {
    "collapsed": false
   },
   "outputs": [
    {
     "data": {
      "text/plain": [
       "(60047, 228)"
      ]
     },
     "execution_count": 5,
     "metadata": {},
     "output_type": "execute_result"
    }
   ],
   "source": [
    "companies = pd.read_csv('../data/2016-09-03-companies.xz', low_memory=False)\n",
    "companies.shape"
   ]
  },
  {
   "cell_type": "code",
   "execution_count": 6,
   "metadata": {
    "collapsed": false
   },
   "outputs": [
    {
     "data": {
      "text/plain": [
       "situation_date                                                     03/11/2005\n",
       "type                                                                   MATRIZ\n",
       "name                             COMPANHIA DE AGUAS E ESGOTOS DE RORAIMA CAER\n",
       "phone                                                          (95) 3626-5165\n",
       "situation                                                               ATIVA\n",
       "neighborhood                                                        SAO PEDRO\n",
       "address                                                        R MELVIN JONES\n",
       "number                                                                    219\n",
       "zip_code                                                           69.306-610\n",
       "city                                                                BOA VISTA\n",
       "state                                                                      RR\n",
       "opening                                                            21/11/1969\n",
       "legal_entity                              203-8 - SOCIEDADE DE ECONOMIA MISTA\n",
       "trade_name                                                                NaN\n",
       "cnpj                                                       05.939.467/0001-15\n",
       "last_updated                                         2016-07-08T05:55:31.679Z\n",
       "status                                                                     OK\n",
       "additional_address_details                                                NaN\n",
       "email                                                                     NaN\n",
       "responsible_federative_entity                                             NaN\n",
       "situation_reason                                                          NaN\n",
       "special_situation                                                         NaN\n",
       "special_situation_date                                                    NaN\n",
       "message                                                                   NaN\n",
       "main_activity_code                                                 36.00-6-01\n",
       "main_activity                     Captação, tratamento e distribuição de água\n",
       "secondary_activity_1                                                      NaN\n",
       "secondary_activity_10                                                     NaN\n",
       "secondary_activity_10_code                                                NaN\n",
       "secondary_activity_11                                                     NaN\n",
       "                                                     ...                     \n",
       "secondary_activity_88_code                                                NaN\n",
       "secondary_activity_89                                                     NaN\n",
       "secondary_activity_89_code                                                NaN\n",
       "secondary_activity_8_code                                                 NaN\n",
       "secondary_activity_9                                                      NaN\n",
       "secondary_activity_90                                                     NaN\n",
       "secondary_activity_90_code                                                NaN\n",
       "secondary_activity_91                                                     NaN\n",
       "secondary_activity_91_code                                                NaN\n",
       "secondary_activity_92                                                     NaN\n",
       "secondary_activity_92_code                                                NaN\n",
       "secondary_activity_93                                                     NaN\n",
       "secondary_activity_93_code                                                NaN\n",
       "secondary_activity_94                                                     NaN\n",
       "secondary_activity_94_code                                                NaN\n",
       "secondary_activity_95                                                     NaN\n",
       "secondary_activity_95_code                                                NaN\n",
       "secondary_activity_96                                                     NaN\n",
       "secondary_activity_96_code                                                NaN\n",
       "secondary_activity_97                                                     NaN\n",
       "secondary_activity_97_code                                                NaN\n",
       "secondary_activity_98                                                     NaN\n",
       "secondary_activity_98_code                                                NaN\n",
       "secondary_activity_99                                                     NaN\n",
       "secondary_activity_99_code                                                NaN\n",
       "secondary_activity_9_code                                                 NaN\n",
       "latitude                                                              2.82788\n",
       "longitude                                                            -60.6601\n",
       "latitude.1                                                            2.82788\n",
       "longitude.1                                                          -60.6601\n",
       "Name: 0, dtype: object"
      ]
     },
     "execution_count": 6,
     "metadata": {},
     "output_type": "execute_result"
    }
   ],
   "source": [
    "companies.iloc[0]"
   ]
  },
  {
   "cell_type": "code",
   "execution_count": 7,
   "metadata": {
    "collapsed": false
   },
   "outputs": [],
   "source": [
    "companies['cnpj'] = companies['cnpj'].str.replace(r'[\\.\\/\\-]', '')"
   ]
  },
  {
   "cell_type": "code",
   "execution_count": 8,
   "metadata": {
    "collapsed": false
   },
   "outputs": [
    {
     "data": {
      "text/plain": [
       "(176005, 259)"
      ]
     },
     "execution_count": 8,
     "metadata": {},
     "output_type": "execute_result"
    }
   ],
   "source": [
    "dataset = pd.merge(reimbursements, companies, left_on='cnpj_cpf', right_on='cnpj')\n",
    "dataset.shape"
   ]
  },
  {
   "cell_type": "code",
   "execution_count": 9,
   "metadata": {
    "collapsed": false
   },
   "outputs": [
    {
     "data": {
      "text/plain": [
       "year                                                               2011\n",
       "applicant_id                                                       2303\n",
       "document_id                                                     2003049\n",
       "reimbursement_value_total                                           NaN\n",
       "total_net_value                                                      80\n",
       "reimbursement_numbers                                              3554\n",
       "congressperson_name                                       RONALDO ZULKE\n",
       "congressperson_id                                                160594\n",
       "congressperson_document                                             515\n",
       "term                                                               2011\n",
       "state_x                                                              RS\n",
       "party                                                                PT\n",
       "term_id                                                              54\n",
       "subquota_number                                                      13\n",
       "subquota_description                                Congressperson meal\n",
       "subquota_group_id                                                     0\n",
       "subquota_group_description                                          NaN\n",
       "supplier                      BRENDT EMPREENDIMENTOS E ALIMENTAÇÃO LTDA\n",
       "cnpj_cpf                                                 72614977000290\n",
       "document_number                                                   38110\n",
       "document_type                                                         0\n",
       "issue_date                                          2001-02-01 00:00:00\n",
       "document_value                                                       80\n",
       "remark_value                                                          0\n",
       "net_values                                                           80\n",
       "month                                                                 2\n",
       "installment                                                           0\n",
       "passenger                                                           NaN\n",
       "leg_of_the_trip                                                     NaN\n",
       "batch_number                                                     519202\n",
       "                                                ...                    \n",
       "secondary_activity_88_code                                          NaN\n",
       "secondary_activity_89                                               NaN\n",
       "secondary_activity_89_code                                          NaN\n",
       "secondary_activity_8_code                                           NaN\n",
       "secondary_activity_9                                                NaN\n",
       "secondary_activity_90                                               NaN\n",
       "secondary_activity_90_code                                          NaN\n",
       "secondary_activity_91                                               NaN\n",
       "secondary_activity_91_code                                          NaN\n",
       "secondary_activity_92                                               NaN\n",
       "secondary_activity_92_code                                          NaN\n",
       "secondary_activity_93                                               NaN\n",
       "secondary_activity_93_code                                          NaN\n",
       "secondary_activity_94                                               NaN\n",
       "secondary_activity_94_code                                          NaN\n",
       "secondary_activity_95                                               NaN\n",
       "secondary_activity_95_code                                          NaN\n",
       "secondary_activity_96                                               NaN\n",
       "secondary_activity_96_code                                          NaN\n",
       "secondary_activity_97                                               NaN\n",
       "secondary_activity_97_code                                          NaN\n",
       "secondary_activity_98                                               NaN\n",
       "secondary_activity_98_code                                          NaN\n",
       "secondary_activity_99                                               NaN\n",
       "secondary_activity_99_code                                          NaN\n",
       "secondary_activity_9_code                                           NaN\n",
       "latitude                                                       -16.0209\n",
       "longitude                                                      -48.0604\n",
       "latitude.1                                                     -16.0209\n",
       "longitude.1                                                    -48.0604\n",
       "Name: 0, dtype: object"
      ]
     },
     "execution_count": 9,
     "metadata": {},
     "output_type": "execute_result"
    }
   ],
   "source": [
    "dataset.iloc[0]"
   ]
  },
  {
   "cell_type": "markdown",
   "metadata": {},
   "source": [
    "Remove party leaderships from the dataset before calculating the ranking."
   ]
  },
  {
   "cell_type": "code",
   "execution_count": 15,
   "metadata": {
    "collapsed": false
   },
   "outputs": [
    {
     "data": {
      "text/plain": [
       "(175071, 259)"
      ]
     },
     "execution_count": 15,
     "metadata": {},
     "output_type": "execute_result"
    }
   ],
   "source": [
    "dataset = dataset[dataset['congressperson_id'].notnull()]\n",
    "dataset.shape"
   ]
  },
  {
   "cell_type": "markdown",
   "metadata": {},
   "source": [
    "And also remove companies mistakenly geolocated outside of Brazil."
   ]
  },
  {
   "cell_type": "code",
   "execution_count": 45,
   "metadata": {
    "collapsed": false
   },
   "outputs": [
    {
     "data": {
      "text/plain": [
       "(168568, 259)"
      ]
     },
     "execution_count": 45,
     "metadata": {},
     "output_type": "execute_result"
    }
   ],
   "source": [
    "is_in_brazil = (dataset['longitude'] < -34.7916667) & \\\n",
    "    (dataset['latitude'] < 5.2722222) & \\\n",
    "    (dataset['latitude'] > -33.742222) & \\\n",
    "    (dataset['longitude'] > -73.992222)\n",
    "dataset = dataset[is_in_brazil]\n",
    "dataset.shape"
   ]
  },
  {
   "cell_type": "code",
   "execution_count": 38,
   "metadata": {
    "collapsed": false
   },
   "outputs": [],
   "source": [
    "# keys = ['applicant_id', 'issue_date']\n",
    "keys = ['congressperson_name', 'issue_date']\n",
    "aggregation = dataset.groupby(keys)['total_net_value']. \\\n",
    "    agg({'sum': np.sum, 'expenses': len, 'mean': np.mean})"
   ]
  },
  {
   "cell_type": "code",
   "execution_count": 39,
   "metadata": {
    "collapsed": false
   },
   "outputs": [],
   "source": [
    "aggregation['expenses'] = aggregation['expenses'].astype(np.int)"
   ]
  },
  {
   "cell_type": "code",
   "execution_count": 43,
   "metadata": {
    "collapsed": false
   },
   "outputs": [
    {
     "data": {
      "text/html": [
       "<div>\n",
       "<table border=\"1\" class=\"dataframe\">\n",
       "  <thead>\n",
       "    <tr style=\"text-align: right;\">\n",
       "      <th></th>\n",
       "      <th></th>\n",
       "      <th>sum</th>\n",
       "      <th>expenses</th>\n",
       "      <th>mean</th>\n",
       "    </tr>\n",
       "    <tr>\n",
       "      <th>congressperson_name</th>\n",
       "      <th>issue_date</th>\n",
       "      <th></th>\n",
       "      <th></th>\n",
       "      <th></th>\n",
       "    </tr>\n",
       "  </thead>\n",
       "  <tbody>\n",
       "    <tr>\n",
       "      <th>CELSO MALDANER</th>\n",
       "      <th>2011-09-05</th>\n",
       "      <td>750.28</td>\n",
       "      <td>13</td>\n",
       "      <td>57.713846</td>\n",
       "    </tr>\n",
       "    <tr>\n",
       "      <th>JOSÉ PAULO TÓFFANO</th>\n",
       "      <th>2010-04-27</th>\n",
       "      <td>500.47</td>\n",
       "      <td>12</td>\n",
       "      <td>41.705833</td>\n",
       "    </tr>\n",
       "    <tr>\n",
       "      <th rowspan=\"3\" valign=\"top\">SANDRA ROSADO</th>\n",
       "      <th>2012-01-12</th>\n",
       "      <td>333.40</td>\n",
       "      <td>12</td>\n",
       "      <td>27.783333</td>\n",
       "    </tr>\n",
       "    <tr>\n",
       "      <th>2012-01-17</th>\n",
       "      <td>287.43</td>\n",
       "      <td>12</td>\n",
       "      <td>23.952500</td>\n",
       "    </tr>\n",
       "    <tr>\n",
       "      <th>2012-01-06</th>\n",
       "      <td>281.75</td>\n",
       "      <td>12</td>\n",
       "      <td>23.479167</td>\n",
       "    </tr>\n",
       "    <tr>\n",
       "      <th>LÉO VIVAS</th>\n",
       "      <th>2010-08-31</th>\n",
       "      <td>630.00</td>\n",
       "      <td>11</td>\n",
       "      <td>57.272727</td>\n",
       "    </tr>\n",
       "    <tr>\n",
       "      <th>SANDRA ROSADO</th>\n",
       "      <th>2012-01-11</th>\n",
       "      <td>541.56</td>\n",
       "      <td>11</td>\n",
       "      <td>49.232727</td>\n",
       "    </tr>\n",
       "    <tr>\n",
       "      <th>PAULO WAGNER</th>\n",
       "      <th>2011-07-21</th>\n",
       "      <td>537.66</td>\n",
       "      <td>11</td>\n",
       "      <td>48.878182</td>\n",
       "    </tr>\n",
       "    <tr>\n",
       "      <th rowspan=\"2\" valign=\"top\">SANDRA ROSADO</th>\n",
       "      <th>2015-01-07</th>\n",
       "      <td>396.60</td>\n",
       "      <td>11</td>\n",
       "      <td>36.054545</td>\n",
       "    </tr>\n",
       "    <tr>\n",
       "      <th>2012-01-15</th>\n",
       "      <td>295.58</td>\n",
       "      <td>11</td>\n",
       "      <td>26.870909</td>\n",
       "    </tr>\n",
       "  </tbody>\n",
       "</table>\n",
       "</div>"
      ],
      "text/plain": [
       "                                   sum  expenses       mean\n",
       "congressperson_name issue_date                             \n",
       "CELSO MALDANER      2011-09-05  750.28        13  57.713846\n",
       "JOSÉ PAULO TÓFFANO  2010-04-27  500.47        12  41.705833\n",
       "SANDRA ROSADO       2012-01-12  333.40        12  27.783333\n",
       "                    2012-01-17  287.43        12  23.952500\n",
       "                    2012-01-06  281.75        12  23.479167\n",
       "LÉO VIVAS           2010-08-31  630.00        11  57.272727\n",
       "SANDRA ROSADO       2012-01-11  541.56        11  49.232727\n",
       "PAULO WAGNER        2011-07-21  537.66        11  48.878182\n",
       "SANDRA ROSADO       2015-01-07  396.60        11  36.054545\n",
       "                    2012-01-15  295.58        11  26.870909"
      ]
     },
     "execution_count": 43,
     "metadata": {},
     "output_type": "execute_result"
    }
   ],
   "source": [
    "aggregation.sort_values(['expenses', 'sum'], ascending=[False, False]).head(10)"
   ]
  },
  {
   "cell_type": "code",
   "execution_count": 50,
   "metadata": {
    "collapsed": false
   },
   "outputs": [
    {
     "data": {
      "text/plain": [
       "35"
      ]
     },
     "execution_count": 50,
     "metadata": {},
     "output_type": "execute_result"
    }
   ],
   "source": [
    "len(aggregation[aggregation['expenses'] > 7])"
   ]
  },
  {
   "cell_type": "code",
   "execution_count": 74,
   "metadata": {
    "collapsed": false
   },
   "outputs": [],
   "source": [
    "keys = ['congressperson_name', 'issue_date']\n",
    "cities = dataset.groupby(keys)['city']. \\\n",
    "    agg({'city': lambda x: len(set(x)), 'city_list': lambda x: ','.join(set(x))}).sort_values('city', ascending=False)"
   ]
  },
  {
   "cell_type": "code",
   "execution_count": 70,
   "metadata": {
    "collapsed": false
   },
   "outputs": [
    {
     "data": {
      "text/html": [
       "<div>\n",
       "<table border=\"1\" class=\"dataframe\">\n",
       "  <thead>\n",
       "    <tr style=\"text-align: right;\">\n",
       "      <th></th>\n",
       "      <th></th>\n",
       "      <th>city_list</th>\n",
       "      <th>city</th>\n",
       "    </tr>\n",
       "    <tr>\n",
       "      <th>congressperson_name</th>\n",
       "      <th>issue_date</th>\n",
       "      <th></th>\n",
       "      <th></th>\n",
       "    </tr>\n",
       "  </thead>\n",
       "  <tbody>\n",
       "    <tr>\n",
       "      <th>TAKAYAMA</th>\n",
       "      <th>2014-06-25</th>\n",
       "      <td>GUARAPUAVA,FERNANDES PINHEIRO,PEABIRU,CEU AZUL...</td>\n",
       "      <td>6</td>\n",
       "    </tr>\n",
       "    <tr>\n",
       "      <th>ZECA DIRCEU</th>\n",
       "      <th>2012-02-14</th>\n",
       "      <td>BRASILIA,MARINGA,PARANAVAI,GUARULHOS,PAICANDU</td>\n",
       "      <td>5</td>\n",
       "    </tr>\n",
       "    <tr>\n",
       "      <th>RICARDO IZAR</th>\n",
       "      <th>2014-04-26</th>\n",
       "      <td>LINS,SAO PAULO,PRAIA GRANDE,BAURU,BOITUVA</td>\n",
       "      <td>5</td>\n",
       "    </tr>\n",
       "    <tr>\n",
       "      <th>PAULO FERREIRA</th>\n",
       "      <th>2013-02-08</th>\n",
       "      <td>IPAMERI,EMBU DAS ARTES,BRASILIA,IGARAPAVA,LIMEIRA</td>\n",
       "      <td>5</td>\n",
       "    </tr>\n",
       "    <tr>\n",
       "      <th>MARGARIDA SALOMÃO</th>\n",
       "      <th>2014-12-02</th>\n",
       "      <td>BARBACENA,JUIZ DE FORA,BRASILIA,BELO HORIZONTE...</td>\n",
       "      <td>5</td>\n",
       "    </tr>\n",
       "  </tbody>\n",
       "</table>\n",
       "</div>"
      ],
      "text/plain": [
       "                                                                        city_list  \\\n",
       "congressperson_name issue_date                                                      \n",
       "TAKAYAMA            2014-06-25  GUARAPUAVA,FERNANDES PINHEIRO,PEABIRU,CEU AZUL...   \n",
       "ZECA DIRCEU         2012-02-14      BRASILIA,MARINGA,PARANAVAI,GUARULHOS,PAICANDU   \n",
       "RICARDO IZAR        2014-04-26          LINS,SAO PAULO,PRAIA GRANDE,BAURU,BOITUVA   \n",
       "PAULO FERREIRA      2013-02-08  IPAMERI,EMBU DAS ARTES,BRASILIA,IGARAPAVA,LIMEIRA   \n",
       "MARGARIDA SALOMÃO   2014-12-02  BARBACENA,JUIZ DE FORA,BRASILIA,BELO HORIZONTE...   \n",
       "\n",
       "                                city  \n",
       "congressperson_name issue_date        \n",
       "TAKAYAMA            2014-06-25     6  \n",
       "ZECA DIRCEU         2012-02-14     5  \n",
       "RICARDO IZAR        2014-04-26     5  \n",
       "PAULO FERREIRA      2013-02-08     5  \n",
       "MARGARIDA SALOMÃO   2014-12-02     5  "
      ]
     },
     "execution_count": 70,
     "metadata": {},
     "output_type": "execute_result"
    }
   ],
   "source": [
    "cities.head()"
   ]
  },
  {
   "cell_type": "code",
   "execution_count": 71,
   "metadata": {
    "collapsed": false
   },
   "outputs": [
    {
     "data": {
      "text/plain": [
       "(127, 2)"
      ]
     },
     "execution_count": 71,
     "metadata": {},
     "output_type": "execute_result"
    }
   ],
   "source": [
    "cities[cities['city'] >= 4].shape"
   ]
  },
  {
   "cell_type": "markdown",
   "metadata": {},
   "source": [
    "Would be helpful for our analysis to have a new column containing the traveled distance in this given day."
   ]
  },
  {
   "cell_type": "code",
   "execution_count": 49,
   "metadata": {
    "collapsed": false
   },
   "outputs": [
    {
     "data": {
      "text/plain": [
       "cnpj       72614977000290\n",
       "city             BRASILIA\n",
       "state_y                DF\n",
       "Name: 0, dtype: object"
      ]
     },
     "metadata": {},
     "output_type": "display_data"
    },
    {
     "data": {
      "text/plain": [
       "cnpj       72614977000290\n",
       "city             BRASILIA\n",
       "state_y                DF\n",
       "Name: 20, dtype: object"
      ]
     },
     "metadata": {},
     "output_type": "display_data"
    },
    {
     "data": {
      "text/plain": [
       "Distance(0.0)"
      ]
     },
     "execution_count": 49,
     "metadata": {},
     "output_type": "execute_result"
    }
   ],
   "source": [
    "from geopy.distance import vincenty as distance\n",
    "from IPython.display import display\n",
    "\n",
    "x = dataset.iloc[0]\n",
    "display(x[['cnpj', 'city', 'state_y']])\n",
    "y = dataset.iloc[20]\n",
    "display(y[['cnpj', 'city', 'state_y']])\n",
    "distance(x[['latitude', 'longitude']],\n",
    "         y[['latitude', 'longitude']])"
   ]
  },
  {
   "cell_type": "code",
   "execution_count": 89,
   "metadata": {
    "collapsed": false
   },
   "outputs": [
    {
     "data": {
      "text/plain": [
       "(168568, 259)"
      ]
     },
     "execution_count": 89,
     "metadata": {},
     "output_type": "execute_result"
    }
   ],
   "source": [
    "dataset.shape"
   ]
  },
  {
   "cell_type": "code",
   "execution_count": 90,
   "metadata": {
    "collapsed": false
   },
   "outputs": [
    {
     "data": {
      "text/plain": [
       "(168568, 2)"
      ]
     },
     "execution_count": 90,
     "metadata": {},
     "output_type": "execute_result"
    }
   ],
   "source": [
    "dataset[['latitude', 'longitude']].dropna().shape"
   ]
  },
  {
   "cell_type": "code",
   "execution_count": null,
   "metadata": {
    "collapsed": false,
    "scrolled": false
   },
   "outputs": [],
   "source": [
    "from itertools import tee\n",
    "\n",
    "def pairwise(iterable):\n",
    "    \"s -> (s0,s1), (s1,s2), (s2, s3), ...\"\n",
    "    a, b = tee(iterable)\n",
    "    next(b, None)\n",
    "    return zip(a, b)\n",
    "\n",
    "def calculate_distances(x):\n",
    "    coordinate_list = x[['latitude', 'longitude']].values\n",
    "    distance_list = [distance(*coordinates_pair).km\n",
    "                     for coordinates_pair in pairwise(coordinate_list)]\n",
    "    return np.nansum(distance_list)\n",
    "\n",
    "distances = dataset.groupby(keys).apply(calculate_distances)"
   ]
  },
  {
   "cell_type": "code",
   "execution_count": 108,
   "metadata": {
    "collapsed": false
   },
   "outputs": [
    {
     "data": {
      "text/html": [
       "<div>\n",
       "<table border=\"1\" class=\"dataframe\">\n",
       "  <thead>\n",
       "    <tr style=\"text-align: right;\">\n",
       "      <th></th>\n",
       "      <th>congressperson_name</th>\n",
       "      <th>issue_date</th>\n",
       "      <th>distance_traveled</th>\n",
       "    </tr>\n",
       "  </thead>\n",
       "  <tbody>\n",
       "    <tr>\n",
       "      <th>112369</th>\n",
       "      <td>SANDRA ROSADO</td>\n",
       "      <td>2012-09-04</td>\n",
       "      <td>6969.643860</td>\n",
       "    </tr>\n",
       "    <tr>\n",
       "      <th>112201</th>\n",
       "      <td>SANDRA ROSADO</td>\n",
       "      <td>2012-01-12</td>\n",
       "      <td>6965.526389</td>\n",
       "    </tr>\n",
       "    <tr>\n",
       "      <th>112210</th>\n",
       "      <td>SANDRA ROSADO</td>\n",
       "      <td>2012-01-23</td>\n",
       "      <td>6833.928798</td>\n",
       "    </tr>\n",
       "    <tr>\n",
       "      <th>112221</th>\n",
       "      <td>SANDRA ROSADO</td>\n",
       "      <td>2012-02-08</td>\n",
       "      <td>5333.782132</td>\n",
       "    </tr>\n",
       "    <tr>\n",
       "      <th>112295</th>\n",
       "      <td>SANDRA ROSADO</td>\n",
       "      <td>2012-06-12</td>\n",
       "      <td>5309.248049</td>\n",
       "    </tr>\n",
       "  </tbody>\n",
       "</table>\n",
       "</div>"
      ],
      "text/plain": [
       "       congressperson_name issue_date  distance_traveled\n",
       "112369       SANDRA ROSADO 2012-09-04        6969.643860\n",
       "112201       SANDRA ROSADO 2012-01-12        6965.526389\n",
       "112210       SANDRA ROSADO 2012-01-23        6833.928798\n",
       "112221       SANDRA ROSADO 2012-02-08        5333.782132\n",
       "112295       SANDRA ROSADO 2012-06-12        5309.248049"
      ]
     },
     "execution_count": 108,
     "metadata": {},
     "output_type": "execute_result"
    }
   ],
   "source": [
    "distances = distances.reset_index() \\\n",
    "    .rename(columns={0: 'distance_traveled'}) \\\n",
    "    .sort_values('distance_traveled', ascending=False)\n",
    "distances.head()"
   ]
  },
  {
   "cell_type": "code",
   "execution_count": null,
   "metadata": {
    "collapsed": true
   },
   "outputs": [],
   "source": []
  }
 ],
 "metadata": {
  "kernelspec": {
   "display_name": "Python 3",
   "language": "python3",
   "name": "python3"
  },
  "language_info": {
   "codemirror_mode": {
    "name": "ipython",
    "version": 3
   },
   "file_extension": ".py",
   "mimetype": "text/x-python",
   "name": "python",
   "nbconvert_exporter": "python",
   "pygments_lexer": "ipython3",
   "version": "3.5.2"
  }
 },
 "nbformat": 4,
 "nbformat_minor": 0
}
