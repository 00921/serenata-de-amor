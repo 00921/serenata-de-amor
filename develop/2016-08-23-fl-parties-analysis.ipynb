{
 "cells": [
  {
   "cell_type": "markdown",
   "metadata": {},
   "source": [
    "# Parties analysis"
   ]
  },
  {
   "cell_type": "markdown",
   "metadata": {},
   "source": [
    "* What parties have spent more money.\n",
    "* Find out if a congresspeople from the same party spend money on the same places.\n",
    "* Predict from what party a congressperson is from her expencies."
   ]
  },
  {
   "cell_type": "code",
   "execution_count": 1,
   "metadata": {
    "collapsed": false
   },
   "outputs": [],
   "source": [
    "%matplotlib inline\n",
    "import matplotlib.pyplot as plt\n",
    "import numpy as np\n",
    "import pandas as pd\n",
    "import seaborn as sns"
   ]
  },
  {
   "cell_type": "code",
   "execution_count": 2,
   "metadata": {
    "collapsed": true
   },
   "outputs": [],
   "source": [
    "def read_csv(name):\n",
    "    return pd.read_csv('../data/2016-08-08-%s.xz' % name,\n",
    "                       parse_dates=[16],\n",
    "                       dtype={'document_id': np.str,\n",
    "                              'congressperson_id': np.str,\n",
    "                              'congressperson_document': np.str,\n",
    "                              'term_id': np.str,\n",
    "                              'cnpj_cpf': np.str,\n",
    "                              'reimbursement_number': np.str})"
   ]
  },
  {
   "cell_type": "code",
   "execution_count": 3,
   "metadata": {
    "collapsed": false
   },
   "outputs": [],
   "source": [
    "last_year = read_csv('last-year')"
   ]
  },
  {
   "cell_type": "markdown",
   "metadata": {},
   "source": [
    "## What parties have spent more money?\n"
   ]
  },
  {
   "cell_type": "code",
   "execution_count": 4,
   "metadata": {
    "collapsed": true
   },
   "outputs": [],
   "source": [
    "parties_sum = last_year.groupby('party', as_index=False).sum().sort_values('net_value', ascending=False)"
   ]
  },
  {
   "cell_type": "code",
   "execution_count": 5,
   "metadata": {
    "collapsed": false
   },
   "outputs": [
    {
     "data": {
      "text/html": [
       "<div>\n",
       "<table border=\"1\" class=\"dataframe\">\n",
       "  <thead>\n",
       "    <tr style=\"text-align: right;\">\n",
       "      <th></th>\n",
       "      <th>party</th>\n",
       "      <th>term</th>\n",
       "      <th>subquota_number</th>\n",
       "      <th>subquota_group_id</th>\n",
       "      <th>document_type</th>\n",
       "      <th>document_value</th>\n",
       "      <th>remark_value</th>\n",
       "      <th>net_value</th>\n",
       "      <th>month</th>\n",
       "      <th>year</th>\n",
       "      <th>installment</th>\n",
       "      <th>batch_number</th>\n",
       "      <th>reimbursement_value</th>\n",
       "      <th>applicant_id</th>\n",
       "    </tr>\n",
       "  </thead>\n",
       "  <tbody>\n",
       "    <tr>\n",
       "      <th>6</th>\n",
       "      <td>PMDB</td>\n",
       "      <td>94848679</td>\n",
       "      <td>16369408</td>\n",
       "      <td>9857</td>\n",
       "      <td>6785</td>\n",
       "      <td>2.806593e+07</td>\n",
       "      <td>189813.23</td>\n",
       "      <td>2.736354e+07</td>\n",
       "      <td>324743</td>\n",
       "      <td>94852095</td>\n",
       "      <td>23</td>\n",
       "      <td>29466384122</td>\n",
       "      <td>1945.33</td>\n",
       "      <td>101696066</td>\n",
       "    </tr>\n",
       "    <tr>\n",
       "      <th>20</th>\n",
       "      <td>PT</td>\n",
       "      <td>97986309</td>\n",
       "      <td>14548132</td>\n",
       "      <td>9448</td>\n",
       "      <td>11748</td>\n",
       "      <td>2.563257e+07</td>\n",
       "      <td>132307.58</td>\n",
       "      <td>2.494036e+07</td>\n",
       "      <td>323490</td>\n",
       "      <td>97991465</td>\n",
       "      <td>25</td>\n",
       "      <td>36868647901</td>\n",
       "      <td>NaN</td>\n",
       "      <td>109635610</td>\n",
       "    </tr>\n",
       "    <tr>\n",
       "      <th>8</th>\n",
       "      <td>PP</td>\n",
       "      <td>73292318</td>\n",
       "      <td>12455682</td>\n",
       "      <td>6621</td>\n",
       "      <td>7550</td>\n",
       "      <td>2.034801e+07</td>\n",
       "      <td>111563.10</td>\n",
       "      <td>1.966378e+07</td>\n",
       "      <td>247883</td>\n",
       "      <td>73293610</td>\n",
       "      <td>41</td>\n",
       "      <td>23122927159</td>\n",
       "      <td>1500.00</td>\n",
       "      <td>77038009</td>\n",
       "    </tr>\n",
       "    <tr>\n",
       "      <th>17</th>\n",
       "      <td>PSDB</td>\n",
       "      <td>78793000</td>\n",
       "      <td>11700808</td>\n",
       "      <td>7759</td>\n",
       "      <td>7876</td>\n",
       "      <td>2.002259e+07</td>\n",
       "      <td>97022.30</td>\n",
       "      <td>1.957780e+07</td>\n",
       "      <td>265330</td>\n",
       "      <td>78794560</td>\n",
       "      <td>19</td>\n",
       "      <td>28320612807</td>\n",
       "      <td>6869.56</td>\n",
       "      <td>84473101</td>\n",
       "    </tr>\n",
       "    <tr>\n",
       "      <th>10</th>\n",
       "      <td>PR</td>\n",
       "      <td>56660360</td>\n",
       "      <td>9764388</td>\n",
       "      <td>6027</td>\n",
       "      <td>4567</td>\n",
       "      <td>1.722601e+07</td>\n",
       "      <td>77651.94</td>\n",
       "      <td>1.684545e+07</td>\n",
       "      <td>190840</td>\n",
       "      <td>56661800</td>\n",
       "      <td>15</td>\n",
       "      <td>18251309829</td>\n",
       "      <td>14099.26</td>\n",
       "      <td>67273680</td>\n",
       "    </tr>\n",
       "  </tbody>\n",
       "</table>\n",
       "</div>"
      ],
      "text/plain": [
       "   party      term  subquota_number  subquota_group_id  document_type  \\\n",
       "6   PMDB  94848679         16369408               9857           6785   \n",
       "20    PT  97986309         14548132               9448          11748   \n",
       "8     PP  73292318         12455682               6621           7550   \n",
       "17  PSDB  78793000         11700808               7759           7876   \n",
       "10    PR  56660360          9764388               6027           4567   \n",
       "\n",
       "    document_value  remark_value     net_value   month      year  installment  \\\n",
       "6     2.806593e+07     189813.23  2.736354e+07  324743  94852095           23   \n",
       "20    2.563257e+07     132307.58  2.494036e+07  323490  97991465           25   \n",
       "8     2.034801e+07     111563.10  1.966378e+07  247883  73293610           41   \n",
       "17    2.002259e+07      97022.30  1.957780e+07  265330  78794560           19   \n",
       "10    1.722601e+07      77651.94  1.684545e+07  190840  56661800           15   \n",
       "\n",
       "    batch_number  reimbursement_value  applicant_id  \n",
       "6    29466384122              1945.33     101696066  \n",
       "20   36868647901                  NaN     109635610  \n",
       "8    23122927159              1500.00      77038009  \n",
       "17   28320612807              6869.56      84473101  \n",
       "10   18251309829             14099.26      67273680  "
      ]
     },
     "execution_count": 5,
     "metadata": {},
     "output_type": "execute_result"
    }
   ],
   "source": [
    "parties_sum.head()"
   ]
  },
  {
   "cell_type": "markdown",
   "metadata": {},
   "source": [
    "PMDB is the most expensive party."
   ]
  },
  {
   "cell_type": "code",
   "execution_count": null,
   "metadata": {
    "collapsed": false
   },
   "outputs": [
    {
     "data": {
      "image/png": "[encoded data removed]",
      "text/plain": [
       "<matplotlib.figure.Figure at 0x106440e48>"
      ]
     },
     "metadata": {},
     "output_type": "display_data"
    }
   ],
   "source": [
    "sns.barplot(x='party',\n",
    "            y='net_value',\n",
    "            data=parties_sum)\n",
    "locs, labels = plt.xticks()\n",
    "plt.setp(labels, rotation=90); None"
   ]
  },
  {
   "cell_type": "markdown",
   "metadata": {},
   "source": [
    "## Find out if a congresspeople from the same party spend money on the same places.\n"
   ]
  },
  {
   "cell_type": "code",
   "execution_count": 4,
   "metadata": {
    "collapsed": false
   },
   "outputs": [
    {
     "data": {
      "text/html": [
       "<div>\n",
       "<table border=\"1\" class=\"dataframe\">\n",
       "  <thead>\n",
       "    <tr style=\"text-align: right;\">\n",
       "      <th></th>\n",
       "      <th>party</th>\n",
       "      <th>document_id</th>\n",
       "      <th>cnpj_cpf</th>\n",
       "    </tr>\n",
       "  </thead>\n",
       "  <tbody>\n",
       "    <tr>\n",
       "      <th>303</th>\n",
       "      <td>DEM</td>\n",
       "      <td>331</td>\n",
       "      <td>02558157000162</td>\n",
       "    </tr>\n",
       "    <tr>\n",
       "      <th>2238</th>\n",
       "      <td>PCdoB</td>\n",
       "      <td>347</td>\n",
       "      <td>00031708000100</td>\n",
       "    </tr>\n",
       "    <tr>\n",
       "      <th>4398</th>\n",
       "      <td>PDT</td>\n",
       "      <td>235</td>\n",
       "      <td>16987837000106</td>\n",
       "    </tr>\n",
       "    <tr>\n",
       "      <th>4997</th>\n",
       "      <td>PEN</td>\n",
       "      <td>147</td>\n",
       "      <td>00031708000100</td>\n",
       "    </tr>\n",
       "    <tr>\n",
       "      <th>5499</th>\n",
       "      <td>PHS</td>\n",
       "      <td>192</td>\n",
       "      <td>02222736000210</td>\n",
       "    </tr>\n",
       "  </tbody>\n",
       "</table>\n",
       "</div>"
      ],
      "text/plain": [
       "      party  document_id        cnpj_cpf\n",
       "303     DEM          331  02558157000162\n",
       "2238  PCdoB          347  00031708000100\n",
       "4398    PDT          235  16987837000106\n",
       "4997    PEN          147  00031708000100\n",
       "5499    PHS          192  02222736000210"
      ]
     },
     "execution_count": 4,
     "metadata": {},
     "output_type": "execute_result"
    }
   ],
   "source": [
    "parties = last_year.groupby(['party', 'cnpj_cpf'], as_index=False).count()\n",
    "parties = parties[['party', 'document_id', 'cnpj_cpf']]. \\\n",
    "    sort_values(['party', 'document_id'], ascending=[True, False]). \\\n",
    "    drop_duplicates('party', keep='first')\n",
    "parties.head()"
   ]
  },
  {
   "cell_type": "code",
   "execution_count": 5,
   "metadata": {
    "collapsed": true
   },
   "outputs": [],
   "source": [
    "cnpj_list = pd.read_csv('../data/cnpj_info.xz')"
   ]
  },
  {
   "cell_type": "code",
   "execution_count": 6,
   "metadata": {
    "collapsed": false
   },
   "outputs": [
    {
     "data": {
      "text/plain": [
       "atividade_principal       [{'code': '36.00-6-01', 'text': 'Captação, tra...\n",
       "data_situacao                                                    03/11/2005\n",
       "tipo                                                                 MATRIZ\n",
       "nome                           COMPANHIA DE AGUAS E ESGOTOS DE RORAIMA CAER\n",
       "telefone                                                     (95) 3626-5165\n",
       "atividades_secundarias    [{'code': '00.00-0-00', 'text': 'Não informada'}]\n",
       "situacao                                                              ATIVA\n",
       "bairro                                                            SAO PEDRO\n",
       "logradouro                                                   R MELVIN JONES\n",
       "numero                                                                  219\n",
       "cep                                                              69.306-610\n",
       "municipio                                                         BOA VISTA\n",
       "uf                                                                       RR\n",
       "abertura                                                         21/11/1969\n",
       "natureza_juridica                       203-8 - SOCIEDADE DE ECONOMIA MISTA\n",
       "fantasia                                                                NaN\n",
       "cnpj                                                     05.939.467/0001-15\n",
       "ultima_atualizacao                                 2016-07-08T05:55:31.679Z\n",
       "status                                                                   OK\n",
       "complemento                                                             NaN\n",
       "email                                                                   NaN\n",
       "efr                                                                     NaN\n",
       "motivo_situacao                                                         NaN\n",
       "situacao_especial                                                       NaN\n",
       "data_situacao_especial                                                  NaN\n",
       "message                                                                 NaN\n",
       "Name: 0, dtype: object"
      ]
     },
     "execution_count": 6,
     "metadata": {},
     "output_type": "execute_result"
    }
   ],
   "source": [
    "cnpj_list.iloc[0]"
   ]
  },
  {
   "cell_type": "code",
   "execution_count": 7,
   "metadata": {
    "collapsed": false
   },
   "outputs": [],
   "source": [
    "cnpj_list['cnpj'] = cnpj_list['cnpj'].str.replace(r'[.\\-/]', '')"
   ]
  },
  {
   "cell_type": "code",
   "execution_count": 33,
   "metadata": {
    "collapsed": false
   },
   "outputs": [],
   "source": [
    "cnpj_list['atividade_principal'] = cnpj_list['atividade_principal'].str[33:-3]"
   ]
  },
  {
   "cell_type": "code",
   "execution_count": 37,
   "metadata": {
    "collapsed": false
   },
   "outputs": [
    {
     "data": {
      "text/html": [
       "<div>\n",
       "<table border=\"1\" class=\"dataframe\">\n",
       "  <thead>\n",
       "    <tr style=\"text-align: right;\">\n",
       "      <th></th>\n",
       "      <th>party</th>\n",
       "      <th>document_id</th>\n",
       "      <th>nome</th>\n",
       "      <th>atividade_principal</th>\n",
       "    </tr>\n",
       "  </thead>\n",
       "  <tbody>\n",
       "    <tr>\n",
       "      <th>0</th>\n",
       "      <td>DEM</td>\n",
       "      <td>331</td>\n",
       "      <td>TELEFONICA BRASIL S.A.</td>\n",
       "      <td>Serviços de telefonia fixa comutada - STFC</td>\n",
       "    </tr>\n",
       "    <tr>\n",
       "      <th>1</th>\n",
       "      <td>PCdoB</td>\n",
       "      <td>347</td>\n",
       "      <td>SINDICATO DOS PERMISSIONARIOS DE TAXIS E MOTOR...</td>\n",
       "      <td>Atividades de organizações sindicais</td>\n",
       "    </tr>\n",
       "    <tr>\n",
       "      <th>2</th>\n",
       "      <td>PDT</td>\n",
       "      <td>235</td>\n",
       "      <td>EMPRESA GAUCHA DE RODOVIAS S/A</td>\n",
       "      <td>Concessionárias de rodovias, pontes, túneis e ...</td>\n",
       "    </tr>\n",
       "    <tr>\n",
       "      <th>3</th>\n",
       "      <td>PEN</td>\n",
       "      <td>147</td>\n",
       "      <td>SINDICATO DOS PERMISSIONARIOS DE TAXIS E MOTOR...</td>\n",
       "      <td>Atividades de organizações sindicais</td>\n",
       "    </tr>\n",
       "    <tr>\n",
       "      <th>4</th>\n",
       "      <td>PHS</td>\n",
       "      <td>192</td>\n",
       "      <td>EMPRESA CONCESSIONARIA DE RODOVIAS DO NORTE S/...</td>\n",
       "      <td>Administração pública em geral</td>\n",
       "    </tr>\n",
       "    <tr>\n",
       "      <th>5</th>\n",
       "      <td>PMB</td>\n",
       "      <td>40</td>\n",
       "      <td>ALTO UMUARAMA COMBUSTIVEIS LTDA - ME</td>\n",
       "      <td>Comércio varejista de combustíveis para veícul...</td>\n",
       "    </tr>\n",
       "    <tr>\n",
       "      <th>6</th>\n",
       "      <td>PMDB</td>\n",
       "      <td>640</td>\n",
       "      <td>SERVICO NACIONAL DE APRENDIZAGEM COMERCIAL SENAC</td>\n",
       "      <td>Outras atividades de ensino não especificadas ...</td>\n",
       "    </tr>\n",
       "    <tr>\n",
       "      <th>7</th>\n",
       "      <td>PMN</td>\n",
       "      <td>2</td>\n",
       "      <td>SABOR DA CENTENARIO COMERCIO DE ALIMENTOS EIRE...</td>\n",
       "      <td>Restaurantes e similares</td>\n",
       "    </tr>\n",
       "    <tr>\n",
       "      <th>8</th>\n",
       "      <td>PP</td>\n",
       "      <td>679</td>\n",
       "      <td>SINDICATO DOS PERMISSIONARIOS DE TAXIS E MOTOR...</td>\n",
       "      <td>Atividades de organizações sindicais</td>\n",
       "    </tr>\n",
       "    <tr>\n",
       "      <th>9</th>\n",
       "      <td>PPS</td>\n",
       "      <td>230</td>\n",
       "      <td>SERVICO NACIONAL DE APRENDIZAGEM COMERCIAL SENAC</td>\n",
       "      <td>Outras atividades de ensino não especificadas ...</td>\n",
       "    </tr>\n",
       "    <tr>\n",
       "      <th>10</th>\n",
       "      <td>PR</td>\n",
       "      <td>521</td>\n",
       "      <td>CONCESSIONARIA DO SISTEMA ANHANGUERA-BANDEIRAN...</td>\n",
       "      <td>Concessionárias de rodovias, pontes, túneis e ...</td>\n",
       "    </tr>\n",
       "    <tr>\n",
       "      <th>11</th>\n",
       "      <td>PRB</td>\n",
       "      <td>354</td>\n",
       "      <td>SERVICO NACIONAL DE APRENDIZAGEM COMERCIAL SENAC</td>\n",
       "      <td>Outras atividades de ensino não especificadas ...</td>\n",
       "    </tr>\n",
       "    <tr>\n",
       "      <th>12</th>\n",
       "      <td>PROS</td>\n",
       "      <td>73</td>\n",
       "      <td>VIDEO 1 E SELOS POSTAIS LTDA - EPP</td>\n",
       "      <td>Atividades de franqueadas do Correio Nacional</td>\n",
       "    </tr>\n",
       "    <tr>\n",
       "      <th>13</th>\n",
       "      <td>PRP</td>\n",
       "      <td>2</td>\n",
       "      <td>RUBENIO MOREIRA DE SOUZA 19959834204</td>\n",
       "      <td>Filmagem de festas e eventos</td>\n",
       "    </tr>\n",
       "    <tr>\n",
       "      <th>14</th>\n",
       "      <td>PSB</td>\n",
       "      <td>287</td>\n",
       "      <td>SERVICO NACIONAL DE APRENDIZAGEM COMERCIAL SENAC</td>\n",
       "      <td>Outras atividades de ensino não especificadas ...</td>\n",
       "    </tr>\n",
       "    <tr>\n",
       "      <th>15</th>\n",
       "      <td>PSC</td>\n",
       "      <td>68</td>\n",
       "      <td>COMERCIAL DE COMBUSTIVEIS SANTA EDWIGES LTDA</td>\n",
       "      <td>Comércio varejista de combustíveis para veícul...</td>\n",
       "    </tr>\n",
       "    <tr>\n",
       "      <th>16</th>\n",
       "      <td>PSD</td>\n",
       "      <td>323</td>\n",
       "      <td>TELEFONICA BRASIL S.A.</td>\n",
       "      <td>Serviços de telefonia fixa comutada - STFC</td>\n",
       "    </tr>\n",
       "    <tr>\n",
       "      <th>17</th>\n",
       "      <td>PSDB</td>\n",
       "      <td>1133</td>\n",
       "      <td>SINDICATO DOS PERMISSIONARIOS DE TAXIS E MOTOR...</td>\n",
       "      <td>Atividades de organizações sindicais</td>\n",
       "    </tr>\n",
       "    <tr>\n",
       "      <th>18</th>\n",
       "      <td>PSL</td>\n",
       "      <td>81</td>\n",
       "      <td>MINERVA SERVICOS LTDA - ME</td>\n",
       "      <td>Atividades de franqueadas do Correio Nacional</td>\n",
       "    </tr>\n",
       "    <tr>\n",
       "      <th>19</th>\n",
       "      <td>PSOL</td>\n",
       "      <td>236</td>\n",
       "      <td>TELEFONICA BRASIL S.A.</td>\n",
       "      <td>Serviços de telefonia fixa comutada - STFC</td>\n",
       "    </tr>\n",
       "    <tr>\n",
       "      <th>20</th>\n",
       "      <td>PT</td>\n",
       "      <td>2187</td>\n",
       "      <td>SINDICATO DOS PERMISSIONARIOS DE TAXIS E MOTOR...</td>\n",
       "      <td>Atividades de organizações sindicais</td>\n",
       "    </tr>\n",
       "    <tr>\n",
       "      <th>21</th>\n",
       "      <td>PTB</td>\n",
       "      <td>305</td>\n",
       "      <td>RODOPOSTO CORAL LTDA</td>\n",
       "      <td>Comércio varejista de combustíveis para veícul...</td>\n",
       "    </tr>\n",
       "    <tr>\n",
       "      <th>22</th>\n",
       "      <td>PTN</td>\n",
       "      <td>303</td>\n",
       "      <td>TRIANGULO DO SOL AUTO - ESTRADAS S/A</td>\n",
       "      <td>Concessionárias de rodovias, pontes, túneis e ...</td>\n",
       "    </tr>\n",
       "    <tr>\n",
       "      <th>23</th>\n",
       "      <td>PTdoB</td>\n",
       "      <td>68</td>\n",
       "      <td>SINDICATO DOS PERMISSIONARIOS DE TAXIS E MOTOR...</td>\n",
       "      <td>Atividades de organizações sindicais</td>\n",
       "    </tr>\n",
       "    <tr>\n",
       "      <th>24</th>\n",
       "      <td>PV</td>\n",
       "      <td>185</td>\n",
       "      <td>CAMINHOS DO PARANA S/A</td>\n",
       "      <td>Concessionárias de rodovias, pontes, túneis e ...</td>\n",
       "    </tr>\n",
       "    <tr>\n",
       "      <th>25</th>\n",
       "      <td>REDE</td>\n",
       "      <td>473</td>\n",
       "      <td>SINDICATO DOS PERMISSIONARIOS DE TAXIS E MOTOR...</td>\n",
       "      <td>Atividades de organizações sindicais</td>\n",
       "    </tr>\n",
       "    <tr>\n",
       "      <th>26</th>\n",
       "      <td>SD</td>\n",
       "      <td>164</td>\n",
       "      <td>SINDICATO DOS PERMISSIONARIOS DE TAXIS E MOTOR...</td>\n",
       "      <td>Atividades de organizações sindicais</td>\n",
       "    </tr>\n",
       "  </tbody>\n",
       "</table>\n",
       "</div>"
      ],
      "text/plain": [
       "    party  document_id                                               nome  \\\n",
       "0     DEM          331                             TELEFONICA BRASIL S.A.   \n",
       "1   PCdoB          347  SINDICATO DOS PERMISSIONARIOS DE TAXIS E MOTOR...   \n",
       "2     PDT          235                     EMPRESA GAUCHA DE RODOVIAS S/A   \n",
       "3     PEN          147  SINDICATO DOS PERMISSIONARIOS DE TAXIS E MOTOR...   \n",
       "4     PHS          192  EMPRESA CONCESSIONARIA DE RODOVIAS DO NORTE S/...   \n",
       "5     PMB           40               ALTO UMUARAMA COMBUSTIVEIS LTDA - ME   \n",
       "6    PMDB          640   SERVICO NACIONAL DE APRENDIZAGEM COMERCIAL SENAC   \n",
       "7     PMN            2  SABOR DA CENTENARIO COMERCIO DE ALIMENTOS EIRE...   \n",
       "8      PP          679  SINDICATO DOS PERMISSIONARIOS DE TAXIS E MOTOR...   \n",
       "9     PPS          230   SERVICO NACIONAL DE APRENDIZAGEM COMERCIAL SENAC   \n",
       "10     PR          521  CONCESSIONARIA DO SISTEMA ANHANGUERA-BANDEIRAN...   \n",
       "11    PRB          354   SERVICO NACIONAL DE APRENDIZAGEM COMERCIAL SENAC   \n",
       "12   PROS           73                 VIDEO 1 E SELOS POSTAIS LTDA - EPP   \n",
       "13    PRP            2               RUBENIO MOREIRA DE SOUZA 19959834204   \n",
       "14    PSB          287   SERVICO NACIONAL DE APRENDIZAGEM COMERCIAL SENAC   \n",
       "15    PSC           68       COMERCIAL DE COMBUSTIVEIS SANTA EDWIGES LTDA   \n",
       "16    PSD          323                             TELEFONICA BRASIL S.A.   \n",
       "17   PSDB         1133  SINDICATO DOS PERMISSIONARIOS DE TAXIS E MOTOR...   \n",
       "18    PSL           81                         MINERVA SERVICOS LTDA - ME   \n",
       "19   PSOL          236                             TELEFONICA BRASIL S.A.   \n",
       "20     PT         2187  SINDICATO DOS PERMISSIONARIOS DE TAXIS E MOTOR...   \n",
       "21    PTB          305                               RODOPOSTO CORAL LTDA   \n",
       "22    PTN          303               TRIANGULO DO SOL AUTO - ESTRADAS S/A   \n",
       "23  PTdoB           68  SINDICATO DOS PERMISSIONARIOS DE TAXIS E MOTOR...   \n",
       "24     PV          185                             CAMINHOS DO PARANA S/A   \n",
       "25   REDE          473  SINDICATO DOS PERMISSIONARIOS DE TAXIS E MOTOR...   \n",
       "26     SD          164  SINDICATO DOS PERMISSIONARIOS DE TAXIS E MOTOR...   \n",
       "\n",
       "                                  atividade_principal  \n",
       "0          Serviços de telefonia fixa comutada - STFC  \n",
       "1                Atividades de organizações sindicais  \n",
       "2   Concessionárias de rodovias, pontes, túneis e ...  \n",
       "3                Atividades de organizações sindicais  \n",
       "4                      Administração pública em geral  \n",
       "5   Comércio varejista de combustíveis para veícul...  \n",
       "6   Outras atividades de ensino não especificadas ...  \n",
       "7                            Restaurantes e similares  \n",
       "8                Atividades de organizações sindicais  \n",
       "9   Outras atividades de ensino não especificadas ...  \n",
       "10  Concessionárias de rodovias, pontes, túneis e ...  \n",
       "11  Outras atividades de ensino não especificadas ...  \n",
       "12      Atividades de franqueadas do Correio Nacional  \n",
       "13                       Filmagem de festas e eventos  \n",
       "14  Outras atividades de ensino não especificadas ...  \n",
       "15  Comércio varejista de combustíveis para veícul...  \n",
       "16         Serviços de telefonia fixa comutada - STFC  \n",
       "17               Atividades de organizações sindicais  \n",
       "18      Atividades de franqueadas do Correio Nacional  \n",
       "19         Serviços de telefonia fixa comutada - STFC  \n",
       "20               Atividades de organizações sindicais  \n",
       "21  Comércio varejista de combustíveis para veícul...  \n",
       "22  Concessionárias de rodovias, pontes, túneis e ...  \n",
       "23               Atividades de organizações sindicais  \n",
       "24  Concessionárias de rodovias, pontes, túneis e ...  \n",
       "25               Atividades de organizações sindicais  \n",
       "26               Atividades de organizações sindicais  "
      ]
     },
     "execution_count": 37,
     "metadata": {},
     "output_type": "execute_result"
    }
   ],
   "source": [
    "merged = pd.merge(parties, cnpj_list, how='left', left_on='cnpj_cpf', right_on='cnpj')\n",
    "merged[['party', 'document_id', 'nome', 'atividade_principal']]"
   ]
  },
  {
   "cell_type": "code",
   "execution_count": null,
   "metadata": {
    "collapsed": true
   },
   "outputs": [],
   "source": []
  }
 ],
 "metadata": {
  "kernelspec": {
   "display_name": "Python 3",
   "language": "python3",
   "name": "python3"
  },
  "language_info": {
   "codemirror_mode": {
    "name": "ipython",
    "version": 3
   },
   "file_extension": ".py",
   "mimetype": "text/x-python",
   "name": "python",
   "nbconvert_exporter": "python",
   "pygments_lexer": "ipython3",
   "version": "3.5.2"
  }
 },
 "nbformat": 4,
 "nbformat_minor": 0
}
