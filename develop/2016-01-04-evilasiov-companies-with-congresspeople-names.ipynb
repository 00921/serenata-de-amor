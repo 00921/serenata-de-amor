{
 "cells": [
  {
   "cell_type": "markdown",
   "metadata": {},
   "source": [
    "# Look for companies with congresspeople names\n",
    "\n",
    "Sometimes the trade company name is the owner's name, specially when it has just a single parter. Searching for these companies (possibly filtering by legal_entity equals to 213-5 - EMPRESARIO (INDIVIDUAL)) may bring good results."
   ]
  },
  {
   "cell_type": "code",
   "execution_count": 15,
   "metadata": {
    "collapsed": true
   },
   "outputs": [],
   "source": [
    "from serenata_toolbox.datasets import fetch\n",
    "\n",
    "fetch('2016-12-06-reimbursements.xz', '../data')\n",
    "fetch('2016-12-06-companies.xz', '../data')\n",
    "fetch('2016-12-21-deputies.xz', '../data')"
   ]
  },
  {
   "cell_type": "code",
   "execution_count": 5,
   "metadata": {
    "collapsed": false
   },
   "outputs": [],
   "source": [
    "import numpy as np\n",
    "import pandas as pd\n",
    "\n",
    "reimbursements = pd.read_csv('../data/2016-12-06-reimbursements.xz',\n",
    "                             dtype={'cnpj_cpf': np.str},\n",
    "                             low_memory=False)"
   ]
  },
  {
   "cell_type": "code",
   "execution_count": 10,
   "metadata": {
    "collapsed": false
   },
   "outputs": [
    {
     "data": {
      "text/plain": [
       "array(['MELHOR POSTO DE COMBUSTÍVEIS LTDA', 'MELONGENA PARTICIPAÇÕES LTDA',\n",
       "       'ARY ANTONIO MOSCHETTA', ..., 'hotel restaurante lancheria do NENE',\n",
       "       'EDGAR LISBOA - ME', 'ZERO QUINZE'], dtype=object)"
      ]
     },
     "execution_count": 10,
     "metadata": {},
     "output_type": "execute_result"
    }
   ],
   "source": [
    "reimbursements['supplier'].unique()"
   ]
  },
  {
   "cell_type": "code",
   "execution_count": 14,
   "metadata": {
    "collapsed": false
   },
   "outputs": [
    {
     "data": {
      "text/plain": [
       "array(['DILCEU SPERAFICO', 'DOMINGOS DUTRA', 'EDINHO BEZ', ...,\n",
       "       'MOISÉS DINIZ', 'RICARDO BENTINHO', 'TAMPINHA'], dtype=object)"
      ]
     },
     "execution_count": 14,
     "metadata": {},
     "output_type": "execute_result"
    }
   ],
   "source": [
    "reimbursements['congressperson_name'].unique()"
   ]
  },
  {
   "cell_type": "code",
   "execution_count": 19,
   "metadata": {
    "collapsed": false
   },
   "outputs": [
    {
     "data": {
      "text/html": [
       "<div>\n",
       "<table border=\"1\" class=\"dataframe\">\n",
       "  <thead>\n",
       "    <tr style=\"text-align: right;\">\n",
       "      <th></th>\n",
       "      <th>congressperson_id</th>\n",
       "      <th>civil_name</th>\n",
       "    </tr>\n",
       "  </thead>\n",
       "  <tbody>\n",
       "    <tr>\n",
       "      <th>0</th>\n",
       "      <td>81366</td>\n",
       "      <td>LUANA MARIA DA SILVA COSTA</td>\n",
       "    </tr>\n",
       "    <tr>\n",
       "      <th>1</th>\n",
       "      <td>178980</td>\n",
       "      <td>ANTONIO GOULART DOS REIS</td>\n",
       "    </tr>\n",
       "    <tr>\n",
       "      <th>2</th>\n",
       "      <td>141335</td>\n",
       "      <td>JOSÉ ROBERTO OLIVEIRA FARO</td>\n",
       "    </tr>\n",
       "    <tr>\n",
       "      <th>3</th>\n",
       "      <td>141531</td>\n",
       "      <td>RODRIGO BATISTA DE CASTRO</td>\n",
       "    </tr>\n",
       "    <tr>\n",
       "      <th>4</th>\n",
       "      <td>141478</td>\n",
       "      <td>LAERTE RODRIGUES DE BESSA</td>\n",
       "    </tr>\n",
       "  </tbody>\n",
       "</table>\n",
       "</div>"
      ],
      "text/plain": [
       "   congressperson_id                  civil_name\n",
       "0              81366  LUANA MARIA DA SILVA COSTA\n",
       "1             178980    ANTONIO GOULART DOS REIS\n",
       "2             141335  JOSÉ ROBERTO OLIVEIRA FARO\n",
       "3             141531   RODRIGO BATISTA DE CASTRO\n",
       "4             141478   LAERTE RODRIGUES DE BESSA"
      ]
     },
     "execution_count": 19,
     "metadata": {},
     "output_type": "execute_result"
    }
   ],
   "source": [
    "deputies = pd.read_csv('../data/2016-12-21-deputies.xz',\n",
    "                       usecols=['congressperson_id', 'civil_name'])\n",
    "deputies.head()"
   ]
  },
  {
   "cell_type": "code",
   "execution_count": 31,
   "metadata": {
    "collapsed": false
   },
   "outputs": [
    {
     "data": {
      "text/html": [
       "<div>\n",
       "<table border=\"1\" class=\"dataframe\">\n",
       "  <thead>\n",
       "    <tr style=\"text-align: right;\">\n",
       "      <th></th>\n",
       "      <th>issue_date</th>\n",
       "      <th>congressperson_name</th>\n",
       "      <th>supplier</th>\n",
       "      <th>subquota_description</th>\n",
       "      <th>cnpj_cpf</th>\n",
       "      <th>document_id</th>\n",
       "      <th>total_net_value</th>\n",
       "    </tr>\n",
       "  </thead>\n",
       "  <tbody>\n",
       "    <tr>\n",
       "      <th>200406</th>\n",
       "      <td>2010-12-28T00:00:00</td>\n",
       "      <td>MARCELO CASTRO</td>\n",
       "      <td>MARCELO COSTA E CASTRO</td>\n",
       "      <td>Flight tickets</td>\n",
       "      <td>04114985000137</td>\n",
       "      <td>1985323</td>\n",
       "      <td>12000.00</td>\n",
       "    </tr>\n",
       "    <tr>\n",
       "      <th>204127</th>\n",
       "      <td>2010-08-27T00:00:00</td>\n",
       "      <td>PAULO MAGALHÃES</td>\n",
       "      <td>PAULO SÉRGIO PARANHOS DE MAGALHÃES</td>\n",
       "      <td>Consultancy, research and technical work</td>\n",
       "      <td>06253998000112</td>\n",
       "      <td>1919603</td>\n",
       "      <td>8900.00</td>\n",
       "    </tr>\n",
       "    <tr>\n",
       "      <th>233647</th>\n",
       "      <td>2010-07-06T00:00:00</td>\n",
       "      <td>CARLOS MANATO</td>\n",
       "      <td>CARLOS HUMBERTO MANNATO</td>\n",
       "      <td>Telecommunication</td>\n",
       "      <td>04164616000159</td>\n",
       "      <td>1893988</td>\n",
       "      <td>361.92</td>\n",
       "    </tr>\n",
       "    <tr>\n",
       "      <th>233652</th>\n",
       "      <td>2010-07-19T00:00:00</td>\n",
       "      <td>CARLOS MANATO</td>\n",
       "      <td>CARLOS HUMBERTO MANNATO</td>\n",
       "      <td>Automotive vehicle renting or watercraft charter</td>\n",
       "      <td>57480788720</td>\n",
       "      <td>1894078</td>\n",
       "      <td>4500.00</td>\n",
       "    </tr>\n",
       "    <tr>\n",
       "      <th>295219</th>\n",
       "      <td>2010-01-25T00:00:00</td>\n",
       "      <td>LAERTE BESSA</td>\n",
       "      <td>LAERTE RODRIGUES DE BESSA</td>\n",
       "      <td>Flight tickets</td>\n",
       "      <td>07575651000159</td>\n",
       "      <td>1763526</td>\n",
       "      <td>667.52</td>\n",
       "    </tr>\n",
       "    <tr>\n",
       "      <th>295220</th>\n",
       "      <td>2010-01-29T00:00:00</td>\n",
       "      <td>LAERTE BESSA</td>\n",
       "      <td>LAERTE RODRIGUES DE BESSA</td>\n",
       "      <td>Flight tickets</td>\n",
       "      <td>07575651000159</td>\n",
       "      <td>1763527</td>\n",
       "      <td>774.52</td>\n",
       "    </tr>\n",
       "    <tr>\n",
       "      <th>296568</th>\n",
       "      <td>2010-10-12T00:00:00</td>\n",
       "      <td>LELO COIMBRA</td>\n",
       "      <td>WELINGTON COIMBRA</td>\n",
       "      <td>Flight tickets</td>\n",
       "      <td>34318100715</td>\n",
       "      <td>1944297</td>\n",
       "      <td>614.42</td>\n",
       "    </tr>\n",
       "    <tr>\n",
       "      <th>492105</th>\n",
       "      <td>2011-08-02T00:00:00</td>\n",
       "      <td>DOMINGOS SÁVIO</td>\n",
       "      <td>DOMINGOS SÁVIO CAMPOS RESENDE</td>\n",
       "      <td>Flight tickets</td>\n",
       "      <td>22275150668</td>\n",
       "      <td>2129592</td>\n",
       "      <td>335.51</td>\n",
       "    </tr>\n",
       "    <tr>\n",
       "      <th>571851</th>\n",
       "      <td>2011-12-23T00:00:00</td>\n",
       "      <td>LIDERANÇA DO PT</td>\n",
       "      <td>LUIZ PAULO TEIXEIRA FERREIRA</td>\n",
       "      <td>Consultancy, research and technical work</td>\n",
       "      <td>03606027000110</td>\n",
       "      <td>2234319</td>\n",
       "      <td>947.92</td>\n",
       "    </tr>\n",
       "    <tr>\n",
       "      <th>695791</th>\n",
       "      <td>2012-04-26T00:00:00</td>\n",
       "      <td>ZECA DIRCEU</td>\n",
       "      <td>JOSÉ CARLOS BECKER DE OLIVEIRA E SILVA</td>\n",
       "      <td>Flight tickets</td>\n",
       "      <td>02012862000160</td>\n",
       "      <td>2351701</td>\n",
       "      <td>30.00</td>\n",
       "    </tr>\n",
       "  </tbody>\n",
       "</table>\n",
       "</div>"
      ],
      "text/plain": [
       "                 issue_date congressperson_name  \\\n",
       "200406  2010-12-28T00:00:00      MARCELO CASTRO   \n",
       "204127  2010-08-27T00:00:00     PAULO MAGALHÃES   \n",
       "233647  2010-07-06T00:00:00       CARLOS MANATO   \n",
       "233652  2010-07-19T00:00:00       CARLOS MANATO   \n",
       "295219  2010-01-25T00:00:00        LAERTE BESSA   \n",
       "295220  2010-01-29T00:00:00        LAERTE BESSA   \n",
       "296568  2010-10-12T00:00:00        LELO COIMBRA   \n",
       "492105  2011-08-02T00:00:00      DOMINGOS SÁVIO   \n",
       "571851  2011-12-23T00:00:00     LIDERANÇA DO PT   \n",
       "695791  2012-04-26T00:00:00         ZECA DIRCEU   \n",
       "\n",
       "                                      supplier  \\\n",
       "200406                  MARCELO COSTA E CASTRO   \n",
       "204127      PAULO SÉRGIO PARANHOS DE MAGALHÃES   \n",
       "233647                 CARLOS HUMBERTO MANNATO   \n",
       "233652                 CARLOS HUMBERTO MANNATO   \n",
       "295219               LAERTE RODRIGUES DE BESSA   \n",
       "295220               LAERTE RODRIGUES DE BESSA   \n",
       "296568                       WELINGTON COIMBRA   \n",
       "492105           DOMINGOS SÁVIO CAMPOS RESENDE   \n",
       "571851            LUIZ PAULO TEIXEIRA FERREIRA   \n",
       "695791  JOSÉ CARLOS BECKER DE OLIVEIRA E SILVA   \n",
       "\n",
       "                                    subquota_description        cnpj_cpf  \\\n",
       "200406                                    Flight tickets  04114985000137   \n",
       "204127          Consultancy, research and technical work  06253998000112   \n",
       "233647                                 Telecommunication  04164616000159   \n",
       "233652  Automotive vehicle renting or watercraft charter     57480788720   \n",
       "295219                                    Flight tickets  07575651000159   \n",
       "295220                                    Flight tickets  07575651000159   \n",
       "296568                                    Flight tickets     34318100715   \n",
       "492105                                    Flight tickets     22275150668   \n",
       "571851          Consultancy, research and technical work  03606027000110   \n",
       "695791                                    Flight tickets  02012862000160   \n",
       "\n",
       "        document_id  total_net_value  \n",
       "200406      1985323         12000.00  \n",
       "204127      1919603          8900.00  \n",
       "233647      1893988           361.92  \n",
       "233652      1894078          4500.00  \n",
       "295219      1763526           667.52  \n",
       "295220      1763527           774.52  \n",
       "296568      1944297           614.42  \n",
       "492105      2129592           335.51  \n",
       "571851      2234319           947.92  \n",
       "695791      2351701            30.00  "
      ]
     },
     "execution_count": 31,
     "metadata": {},
     "output_type": "execute_result"
    }
   ],
   "source": [
    "supplier_has_congressperson_name = \\\n",
    "    reimbursements['supplier'].isin(deputies['civil_name'])\n",
    "reimbursements.loc[supplier_has_congressperson_name,\n",
    "                   ['issue_date', 'congressperson_name', 'supplier', 'subquota_description', 'cnpj_cpf', 'document_id', 'total_net_value']]"
   ]
  },
  {
   "cell_type": "code",
   "execution_count": null,
   "metadata": {
    "collapsed": true
   },
   "outputs": [],
   "source": []
  }
 ],
 "metadata": {
  "kernelspec": {
   "display_name": "Python 3",
   "language": "python3",
   "name": "python3"
  },
  "language_info": {
   "codemirror_mode": {
    "name": "ipython",
    "version": 3
   },
   "file_extension": ".py",
   "mimetype": "text/x-python",
   "name": "python",
   "nbconvert_exporter": "python",
   "pygments_lexer": "ipython3",
   "version": "3.5.2"
  }
 },
 "nbformat": 4,
 "nbformat_minor": 0
}
