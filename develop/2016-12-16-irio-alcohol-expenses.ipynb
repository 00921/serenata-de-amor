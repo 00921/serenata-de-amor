{
 "cells": [
  {
   "cell_type": "code",
   "execution_count": 12,
   "metadata": {
    "collapsed": false,
    "scrolled": false
   },
   "outputs": [
    {
     "data": {
      "text/plain": [
       "[1, 2, 3]"
      ]
     },
     "execution_count": 12,
     "metadata": {},
     "output_type": "execute_result"
    }
   ],
   "source": [
    "sc.parallelize([1, 2, 3]).map(lambda x: x).collect()"
   ]
  },
  {
   "cell_type": "code",
   "execution_count": 2,
   "metadata": {
    "collapsed": false
   },
   "outputs": [],
   "source": [
    "drinks_and_brands = {\n",
    "  'drinks': {\n",
    "    'beer',\n",
    "    'brandy',\n",
    "    'cachaca',\n",
    "    'cachaça',\n",
    "    'cerveja',\n",
    "    'champagne',\n",
    "    'chope',\n",
    "    'chopp',\n",
    "    'conhaque',\n",
    "    'gim',\n",
    "    'gin',\n",
    "    'liqueur',\n",
    "    'pint',\n",
    "    'rum',\n",
    "    'tequila',\n",
    "    'vinho',\n",
    "    'vodka',\n",
    "    'whiskey',\n",
    "    'whisky',\n",
    "    'wine',\n",
    "  },\n",
    "  'wines': {\n",
    "    'Albarino',\n",
    "    'Barbera',\n",
    "    'Bonarda',\n",
    "    'Cabernet Franc',\n",
    "    'Cabernet Sauvignon',\n",
    "    'Chardonnay',\n",
    "    'Chenin Blanc',\n",
    "    'Garnacha',\n",
    "    'Gewurztraminer',\n",
    "    'Grenache',\n",
    "    'Malbec',\n",
    "    'Merlot',\n",
    "    'Moscato',\n",
    "    'Nebbiolo',\n",
    "    'Palomino',\n",
    "    'Pinot Grigio',\n",
    "    'Pinot Noir',\n",
    "    'Pinotage',\n",
    "    'Riesling',\n",
    "    'Sangiovese',\n",
    "    'Sauvignon Blanc',\n",
    "    'Shiraz',\n",
    "    'Sylvaner',\n",
    "    'Syrah',\n",
    "    'Tempranillo',\n",
    "    'Viognier',\n",
    "    'Zinfandel',\n",
    "  },\n",
    "  'wine_brands': {\n",
    "    'Aquitania Sol',\n",
    "    'Beringer',\n",
    "    'Blossom hill',\n",
    "    'Casa Marín',\n",
    "    'Casa Postal',\n",
    "    'Casas Del Bosque',\n",
    "    'Concha Y Toro',\n",
    "    'Coronas',\n",
    "    'Gallo',\n",
    "    'Hardys',\n",
    "    'House Malmau',\n",
    "    'Jacobs Creek',\n",
    "    'Lindemans',\n",
    "    'Mil Piedras',\n",
    "    'Ochotierras',\n",
    "    'Paula Laureano',\n",
    "    'Sutter Home',\n",
    "    'Trumpeter',\n",
    "    'Vila Regia',\n",
    "    'Vinzelo',\n",
    "    'Weinert',\n",
    "    'Yellow tail',\n",
    "  },\n",
    "  'beer_brands': {\n",
    "    'Antarctica',\n",
    "    'Antartica',\n",
    "    'Becks',\n",
    "    'Bohemia',\n",
    "    'Brahma',\n",
    "    'Bucanero',\n",
    "    'Bud Light',\n",
    "    'Budweiser',\n",
    "    'Caracu',\n",
    "    'Coors Light',\n",
    "    'Corona',\n",
    "    'Devassa',\n",
    "    'Franziskaner',\n",
    "    'Guiness',\n",
    "    'Harbin',\n",
    "    'Heineken',\n",
    "    'Hertog Jan',\n",
    "    'Hoegaarden',\n",
    "    'Itaipava',\n",
    "    'Kaiser',\n",
    "    'Leffe',\n",
    "    'Lowenbrau',\n",
    "    'Miller Light',\n",
    "    'Nortena',\n",
    "    'Nortenã',\n",
    "    'Nova Schin',\n",
    "    'Polar',\n",
    "    'Quilmes',\n",
    "    'Serramalte',\n",
    "    'Skol',\n",
    "    'Stella Artois',\n",
    "    'Yanjing',\n",
    "  },\n",
    "  'vodka_brands': {\n",
    "    'Absolut',\n",
    "    'Balalaika',\n",
    "    'Blue Spirit Unique',\n",
    "    'Hangar One',\n",
    "    'Imperia',\n",
    "    'Jean Mark XO',\n",
    "    'Kadov',\n",
    "    'Komaroff',\n",
    "    'Kovak',\n",
    "    'Leonoff',\n",
    "    'Moscowita',\n",
    "    'Natasha',\n",
    "    'Orloff',\n",
    "    'Roth California',\n",
    "    'Skyy90',\n",
    "    'Smmirnoff',\n",
    "    'Ultimat',\n",
    "    'Xellent',\n",
    "    'Zvonka Dubar',\n",
    "  },\n",
    "  'whisky_brands': {\n",
    "    'Ardbeg',\n",
    "    'Bagpiper',\n",
    "    'Ballantine’s',\n",
    "    'Ballantines',\n",
    "    'Bushmills',\n",
    "    'Campari',\n",
    "    'Chivas',\n",
    "    'Forty Creek',\n",
    "    'Glenlivet',\n",
    "    'Glenmorangie',\n",
    "    'Imperial Blue',\n",
    "    'Jack Daniel’s',\n",
    "    'Jack Daniels',\n",
    "    'Jameson',\n",
    "    'Johnnie Walker',\n",
    "    'McDowell',\n",
    "    'McDowell’s',\n",
    "    'Old Tavern',\n",
    "    'Royal Salute',\n",
    "    'Royal Stag',\n",
    "    'Wild Turkey',\n",
    "  },\n",
    "  'tequila': {\n",
    "    'Casa Noble Reposado',\n",
    "    'Casamigos',\n",
    "    'Don Julio Blanco',\n",
    "    'Patron Silver',\n",
    "  }\n",
    "}"
   ]
  },
  {
   "cell_type": "code",
   "execution_count": 7,
   "metadata": {
    "collapsed": false
   },
   "outputs": [],
   "source": [
    "import itertools\n",
    "keywords = set(itertools.chain(*drinks_and_brands.values()))"
   ]
  },
  {
   "cell_type": "code",
   "execution_count": 8,
   "metadata": {
    "collapsed": true
   },
   "outputs": [],
   "source": [
    "import unicodedata\n",
    "\n",
    "def normalize_string(string):\n",
    "    if isinstance(string, str):\n",
    "        nfkd_form = unicodedata.normalize('NFKD', string.lower())\n",
    "        return nfkd_form.encode('ASCII', 'ignore').decode('utf-8')"
   ]
  },
  {
   "cell_type": "code",
   "execution_count": 9,
   "metadata": {
    "collapsed": false
   },
   "outputs": [],
   "source": [
    "keywords = set(map(normalize_string, keywords))"
   ]
  },
  {
   "cell_type": "markdown",
   "metadata": {},
   "source": [
    "## Convert PDFs to text"
   ]
  },
  {
   "cell_type": "code",
   "execution_count": 52,
   "metadata": {
    "collapsed": false,
    "scrolled": false
   },
   "outputs": [
    {
     "data": {
      "text/plain": [
       "3"
      ]
     },
     "execution_count": 52,
     "metadata": {},
     "output_type": "execute_result"
    }
   ],
   "source": [
    "import glob\n",
    "import os.path\n",
    "from PIL import Image\n",
    "from pytesseract import image_to_string\n",
    "import subprocess\n",
    "\n",
    "receipt_paths = glob.glob('../data/receipts/**/*.pdf', recursive=True)\n",
    "\n",
    "def pdf_to_image(input_path):\n",
    "    output_path = input_path.replace('pdf', 'png')\n",
    "    if not os.path.exists(output_path):\n",
    "        subprocess.call(['sips', '-s', 'format', 'png',\n",
    "                         input_path, '--out', output_path])\n",
    "    return output_path\n",
    "\n",
    "sc.parallelize(receipt_paths) \\\n",
    "    .map(pdf_to_image) \\\n",
    "    .count()\n",
    "#     .map(image_to_text) \\\n",
    "#     .map(normalize_string) \\\n",
    "#     .filter(lambda text: any(keywords & set(text.split(' ')))) \\"
   ]
  },
  {
   "cell_type": "code",
   "execution_count": 34,
   "metadata": {
    "collapsed": false
   },
   "outputs": [
    {
     "data": {
      "text/plain": [
       "True"
      ]
     },
     "execution_count": 34,
     "metadata": {},
     "output_type": "execute_result"
    }
   ],
   "source": [
    "string = 'fdsfsd fsdf sdf fof far fabzar l'\n",
    "any(keyword in string for keyword in {'foo', 'bar', 'fabzar l'})"
   ]
  },
  {
   "cell_type": "code",
   "execution_count": 58,
   "metadata": {
    "collapsed": false,
    "scrolled": false
   },
   "outputs": [
    {
     "data": {
      "text/plain": [
       "[('../data/receipts/1001/2015/5766694.png',\n",
       "  'hieish sjl.\\nl\\'.l\\'.1\\'.|. than: jefinjjh?\\nimejpa mime: :1\".- wl-ruzjj-\"r\\n. #1. panel [shims-jg 51w\\n\\'4: ammm- i 4 .94\\newr\\'fitfl\\'i j3ee nehrer\\n11-! m ene-v proteccmn fl cans-jnc\\'ar\\n.w epenjjqele inlepip\\'e \\'\\n\"i mama? fiaql\\ndie-2a.: 1 maze: 2\\nsoledrd, turne tgrde\\n9.3.0551 \\'~ wj.?.fjje61?-jl\\nta\\'h? : je\\'-e\\'3~i h593 : 14:05:55 \"\\nbeware even! i\\'2l.\\'j|l\\' 00.33\\ntwine jp? m0] (21.9.15 95.55- ,\\n. flatt] e1?! 05 {mike \"21.301 255.)?\\ntdtql 5\\'1-25. dex\\nwines 5.60\\ne\\'lefl (1.35 .\\nm lee\\nn20! 10?\\n{>7 lesfle \\'j: ul]?\\n22-'),\n",
       " ('../data/receipts/1001/2016/6035992.png',\n",
       "  \"mun mpssoe imrmapm . 3m: ems!\\nthn. a imlianng | trvgnmm imiucnlru | glut-31:: \\\\ mam no sure \\\\ sishaten  m cnnmm | links | engridi\\nll- banco central\\nlink no 3|le\\nmun n mmmu  ('apizzus [mu mrinnms  [am hr . awhm  ( mum-ruin an mxmim\\nconversfio de moedas\\nresultado dz: cum'crszau\\nconvenno (le: ffsomrummn-(m ' (m) rum: real nu nsn mm, (mm\\nwu- 3 mum-m: 44mm rmmann flu mun-min: my-w\\num comm ullllndm 2(n-nr.::m(-\\nmm:\\ntfso-lfiuguaiduyiz ram u.nm real hrasil-brl [mm\\n1 mm 911mm mu hum9082652] m suelrljnuaiu-uu1745p\\n- mm m.- rmmh .g'mrarilm mfwmnivu: an 1th as msmslmssdamiunczrvml bmwcml rm mum arm hluml 0mm\\n3y5???\"),\n",
       " ('../data/receipts/1001/2016/6036043.png',\n",
       "  '55mm azeswe nl\\'wrmagel: . eavr.:6wl51\\nsaw a hxsrinngiu pcrgumxs f\\'cqllcnlgv ehwhw\\'u wnpzl an am quahucn me lurmun | link} cngim\\'i\\n- l- ianco central\\nqty no mus\".\\ninihy n {fluids \\\\ c (iyiiih\\'v1|:hlmumlhu4u tina. :1: ann: n (\\'nm\\'ersfin dc \\\\incdm\\ncumcrsia dc mamas\\nresulmdo dzl conversfio\\n\\nrum-min ilr ffsoj\\'r l ifil ann wki may pm: ri al bmw :hri nun]\\n\\n\\\\alm : mnvmm i.2(.s.w manna a. mum-chin: 13mm\\n\\ndun muck) \\\\iymiidi: swam-mm\\n\\ntan:\\n\\n1 pesomrlglnouwgas 0.1m real brasiljdrl (tan)\\n\\nl real bramldrl mm 0.08255 ieso-u\\'ruguaio-m\\'fi [mei\\n\\n- mam mum mn 71.: u\\'hmra u-n . mama .lelnyllmnhd u. hun\"; mum inmum yum mu ;,\\\\\"..\"a:l.<-l leumiu\\nwwr'),\n",
       " ('../data/receipts/1010/2015/5765654.png',\n",
       "  '5\" 7\\'57?fi\\'1ifi\\n3 mn hfrnhm-\\n we vs=z mums,\\n nv-sz n a\\nnumym um.\\nrm. m rm\\'mr am;\\nw:- 1; 94mm wm\\nah mm: m nrmn m hrrmrm mm.\\nnv. lulu! nlulmu m. umann mu\\nnx nmn ncnn\\nau).- low awn\\nmm. www:-.24~...n..a..-w. mm\\nmu: 31.13:! c: mun-rum ircr\\'cl uu mwmm:\\ntrnnr-r nnn\\'ram um ahrafl?!\\nhum: ulmii\\'ju 4w, l\\':i.>..qu\\nnnxz. up afitcfiln\\nmum 412.1: ruby-1l\\nhahn\"; a\\nwarm _\\nu.-. n1 una. ptfitfifin tnhfiyfifi\\nncau w mum qumn-j :wnnvu\\nanu mnn:\\n.mm lijiuui;>j\\nmy m-m nun. 1n.\\nnr-n mu u-u llshc mum\\nmm umrrw n71: mr. 1: mm\\nnuun t\\'uumn; um um mmvvu\\nmrr mrm u r wmnm 51 mm\\nm l )uulllli/unluur! .mwu\\nnarr \"fin pefja rr nan\\nmm l wn mum mm):\\nrwm rn mm m ar-vrn h: an\"\\nmm. ummm. umumu llquvi\\'\\nunmn mm \"mm\" av 175 mm\\ntau-.22).. i-jn gnu-mm; 4l-j\\\\/ullm\\nfia+,-lu~l ..- \"ml-m4 r.\\nuuxmuuu u: mum-meme: \\'\\ntwta\\' e pflr ii\\nnhm \"x \"hi! hz\\n:sug v hkvlyfl\\nrum. ma sm. :n\\nlr-m; (.qu mum;'),\n",
       " ('../data/receipts/1010/2016/6140716.png',\n",
       "  '\\\\ 99731.1:\\n, filamah\\n a \\'33155319103240511354\\n#7. 39992715964533 maugvgfifiwgtfiwpm\\n\\' {uaiifitrhv c9 {zgaealugil\\nsucuysmekqpuqa-tu miefiugmflminz car\\nrrsce1 9.\\nrum 191 mayan wanrsmgn .\\nu _ : lacwemaa\\n9 ; liam/932: ,, 9) \\n2239.09 , 7 \\'\\nmews}? 7 awmvin \\nrflf:\\n\\' qrejek\\'eaeeq\\nswencsscaifi\\'zw i a  99939;;\\nms 39, 3/39 39:79:; ~\\n1 29992999. 5:: rama mm:\\n393mm: , n9 \\'\\n\" i529: _-;,=:1..$cj,j\\n, aaah\\'n ngjnclkiedfi ,\\n- 4%: an ad 1914 \\n5991 resteurem 999 9m: _. ,'),\n",
       " ('../data/receipts/116/2014/5464905.png',\n",
       "  'm\\ngimmmm heelh imte 3\\ntj:2_:u,mlmms 31 i- .5\\n! j.1: wem1m9\"wwmsqo\\'-a 520190\\n,: 3:1 $111,111,111 mum mfg. 310-100 moo\\n:\\' amazmmmm r 70,110 110.00 -\\n3 3:3; tax-trams 711,00 110,00 .\\n=21 ww,3.\\n1\" ,  \\\\ \\' .\\n.. 3 , .jotal\\' mom 3\\nm1111 0.00\\n:gmsasm 1mm . 11\\' new {10.00\\n 92\"39111543 ,: . . ..\\nel lei\\n3.4%}:14.\\n13.1513.'),\n",
       " ('../data/receipts/116/2014/5543043.png',\n",
       "  'roma. four}: _ fl.u.t. 213639900016\\npoi nts rui common\\nby sheraton  fourr\\nfill-387\"\" points\\nmama by 51mm mum by shernon m\\neiidu ms, chum, mnnmideo, uruguy __________\\nmumsnsmmm/mtwsymm1 hui-d- - . . . a i i\\nuuwfaurpninuwmonmidw \\' \\' \\' v \\'\\nsr. roberto freire\\nrua maranhao 645 ap 14\\nsao paulo sp 01240000 documemo/ four points montevideo. 11-l [-14\\ncondidnnas banyan; pasaponez db040795 86 asaavedralas\\nfedu compmbanlo dawes duane. cm\\n, m, gin-1390m: refivulae my, cm,\\nrcsxauram 14.70\\namerican express 14.70\\na v v1 11/2? _ v\\n, v v /\\'vi \\'4, 3 y/ . ,_\\nw  r: 0 7 lev\\nsubtotal 12.05\\nel ullmm sana e: b impede manama. salvo indudbn ell commas.\\nlulealaru i: amounl du! umm om: wise imam: no taxable 0\\nustmrnssonpag-uuuasu pwsenvanm/bjbam panhlnwheansemm total 10% na 0.00\\ntotal 22% na 2.65\\n--==- \"---=~ hr: 1.\\nc: __\\nrm gums\\n. i ema/signature\\nmow-ms =\\n> qlllalnfivm\\ni .cmu cg\" equiw-flen a 354.76 pesos, solo a efeclos fiscales.\\ne .fifilfi\\'fl inaaldia-camoscalmsfil-rumziwmie wim\" ma/mw\\n.-.r. --\\'. : _ consrmcummsam-omsza\\ni j\\'eitw- 1m13-seieai7535iaja19lbsmz wk 07~ll14 11-11-14\\nfipik; impnwamohwa 26/12/2015 a 1 - original cuente\\n3:51:33\" #869\\n- .. ..-'),\n",
       " ('../data/receipts/116/2016/5981884.png',\n",
       "  'a lu w\\nbieienas $41 216142530315\\nla herrera 1290 lld e-ticcet\\nmunyehdew urjguay serial;\\npagnzfluntadu nm. dbeeqe\\nceinsijmij feval i}\\ni\\naqua/211$\\nml\\'jneda: uvu\\nrefresed 500 el 92.00\\nl00 un .( 9200\\ncafe 57.0!)\\n1.00 un 1 517700\\nejstillj sugeherlia e?-j.uu\\nl30 un \\'1 320,00\\ntotal: 469 . 00\\n fnm- \\nmesa: 20\\nnflffli aggree r)\\nf \\' 23 z?\\na 1: r 23 sj 3}\\nin *jenn _\\n101,a69898abe,[juzb/uie\\'lnllb,ithkleefhj\\nmginfjjrfivsmerbxheo\\nfind. is sagurinarl: elam\\nlies. mm mew\\'ziziie.\\npuede v?\"i\\':l(al e] camp\\'s-bane en:\\nwm.filmrdllbflfiumfly\\nwa .11 din\\ndgi\\n)y!!!! ! !\\\\  g .\\n\"l fecha 5e vennmento: awn-ems'),\n",
       " ('../data/receipts/116/2016/6006075.png',\n",
       "  'stahl ea r.ij.t. 21 012292 0015\\navemaa dr, a, amcena 1587\\n@ tali 25002703-25018881\\ncsrraaw - mumawdaa\\nuruguav\\ng a r cia m\\n. \\'ear - m51291. -.\\nest-w967   v 6\"\\nnanmlmamcn-u 91, \\'qmwe\\'u. v\\n14 ,\\',g_ontado\\nr.u.\\'i\\'. comprador , \\' .mimfiii a \\' nuuzgo \\n.. . g conswidorhm*\" - *. . 61153231\\n uomans \\'3, . - iel-vfll.\\n direcclnn \"  \\'. h ..  r  1v \\'\\n icon. - - . nascmclou.- >ckn1t,p.unlt.v wife-argy-\\n cubrerto 7  . 2 195,00 minn-3\\nm nesnascospogc m q )z; moo. 100,09.\\n- ubuhnknamvy  ~r- -1g2,*mm..256,m-,-\\n,\\' perlvudyaezrmmpmm - 1; 425.00 mm\\negparragosalapakiesam . _ 232500 3950.011:\\n\" maul , 7  1 195.00 span\\n\\', cafeillv   2 5,0934%} 1\\n,. 721\\' _- ,\\'. . .4 \\'\\n.  _ \\'  .\\' .\\' \\'4 . a\\n5-,, . $a1316,67 rs 27533 uss 65,19\\ne\\'gbifil, subyotal { . ana. .\\' _ 5,  cry-rm. v\\negg}; 1:- . . . .~ 3. , .. . . . 3,-\\n;gegfi \\' $692,622\" . .3?2.3aa.-,22;065,00-\\n\" \\' fir !:y;.fih.\\'i\\'=wwm \"magma originalglieme\\neiwne-e man a 616514\\nm mum\\nw116 23:3;\\nnmeu\\nmum:\\nnlieuo gnncm\\nm 158? ml 2101mm\\n[beech]: ([195] m: 20mm]\\nu1: 80 mm; m:\\nhumumsmm umfih. mm\\nmm mm\\nmm mm\\nteiw-  2.27s.nn\\nwhen\\nminimum: 69m mm: mm\\nmm: mum m , lu, w\\nmu m. flutm m wm m\\nmmrm\\nmoans smms\\nmums'),\n",
       " ('../data/receipts/116/2016/6031628.png',\n",
       "  'w 2 \\' w 7\\nfl:\\n(ty - ~-\\nwr: fame\\n2  .muv sj.\\nmama xfiyernfiliuh\\'rl n5 memes\\n. fingwmzzmu\\n71cm wax/7319:}: fecha 22/53/2015,\\nrdlld em  m 1 mo -2\\nmm 5 \\ncums \\nrm h1 (1\\nmaml l etee\\'tie\\n- . . r... _n a\\n, .ma lg; 45; key xamr; \\'\\nisugey m ,4 50.00\\nlei-isalada d2 1 . 28,05 120.05 .\\n1, eiabras. man man-\\n{11  1: \\'1  u \\n.335: 3::\\nserum/imam wm \"\"\" -,.\\n- new 2a.. rm xg\\naaswmo _,  ~. 27,57.\\naaj ag.\\n\"1 .'),\n",
       " ('../data/receipts/116/2016/6031634.png',\n",
       "  '7 4,\\nmlnflml?\\n. c o n t a a\\nv3.-\\\\ , ., mun. uncum 5m.\\n\"  luxnu m995\\n0k peaking $171105th\\n- . . .. . ; . - mm\\nnun.\" mam. n!- 85407\\nfmha\\nwe. 9 . (j\\na m\\nwm\\n1-00 :usien-ro ,\\n1.00 pkonucm especial 5150 u\\n1-00 rigati\\'oni cow pest!) 51: 3520-\\n1.00 mm (aeero $430.0\\n:27u.u\\nwas iii!\\nvisa\\n$411..\\nda pr\\nms u l; =1th wt fu\\'1~i:~}wj\\nmu: ararzrm inn with:\\nin: ms mu: gfi?\\n.h; hf-flfiunfififi m -.._ . [\\n.1? a mmmu\\n\"531 \\'  \"me\\nmum ie: mw \" 935s?\\nmm \"214w ,\\n- . 1.315,13\\nidial a (all $ llihele\" ,,\\nw my $153: ,. mri-1min\\n u mun: m\\nw u him | 5 flee\\nmm ammcm > 12.3\\nn: \"mm. mm\\nmm v mm\\nnunms gurus\\n\"mu-1m n\\nmsmrwvsm.\\n|.v..l al dia - .. s mull\\narmmxrn unmumumz evil u\\ncwm..msswau41m 4-, 31f?!- : in -\\nsm.-n4sslmmsu.2-um ;\"-.b_-_,-\\', .;, hm\\nxml-ammmrrumum .:,\" 7 3 t1\\nem: h a 59h: swam\\nzznmrm \\' .-3rfin . mlmni-m\\n. ._ el . \".1. a9'),\n",
       " ('../data/receipts/116/2016/6031637.png',\n",
       "  'cmsnm m. mscu: earrios\\nv jorge gascue barrios r\\'ut- 21 511213001\\ndr gabriel otero e438 contado a\\ntel. 25m 8211 5326qu\\nmontevdeo 1 i ne e 81 24 8\\nlslaadl\\nemmi\\nm mn?!) mes hijka felda\\n.n, {ma-ma l v \\\\w-a- non-5:15\\na l c :nmfrahor -: hnal\\nxx\\nsun: 0 \\'wj\\nvisa\\n[made\\nursmunmr dackel\\nejehil am mu m )iciee\\'wi\\n(mix [elime\\'lu [eh mime\\nne e . 1cm: us:\\nes-n\\'l liescrxpoon km \\\\mrum: tuwirga wancunum r:. m :hep\\nem}? :[leeljjjsm\\n- r uh. in armc 53.9: w 8 nw\\n2: uni-42c lflfflf, 1mm lfsfl\\'nllr: m: 2241,01\\nll (49.21.25 5135.0: 5951. pm l\\'fim\\n: mamam t. rprm 5mm. 12m: --\\'----\\nl: la. ;2\\'..m 75.02 tina! a lugar s 1.127419\\n , ,_ , (was: a\\nwmmu: [lequ mun; 35-345\\nmm lark?\\nrem ham 5 .731 {1\"\\n.  lawman b. 5 mm\\n. n3 nrumm hm _\\n1 mm. mm\\nhucnas mucus\\n- h mi: -\\'| jhje  4\\ns-m 2mm : harm),\\nwva 2h2 : 212.3:\\ntotal : 5 1,220.00\\nwa aldia ircutnh;\\ncamias amaril\\'a-rut 21527519001 m - -\\nconstancianweteamzaszwarms g _.-l mie\\ncommomwamnoazssoxzvms  3-9.: _, j \\nimprentaautorizaea ._:.\\'.r.f.\"\\n4.- at\\nfecha :15 van: . my -\\nouns-zma e .j r i.\\n,, r . ,. '),\n",
       " ('../data/receipts/116/2016/6075009.png',\n",
       "  'birume 511 r111 214223150015\\nguifuzcua 350 41 s-tlckat\\nkuntevideu, 1.11103th . \\'7 / serieza\\npagu:0untadu 1.... \\'\" nru: 037956\\nmmada: wu fecra; 1210812015\\nte e hierbas 1 50.00 50.00\\ncafe lavaha 3 05.00 195.00\\ncoca light 4 10.01] 320.00\\naeua cun bis 2 80.00 150.00\\npure de fans i 12000 120.00\\nguarniciun de papas fritas 1 80.00 90.00\\npulld ueshuesadu 1 360.00 360.00\\nentreddt 1 50.00 490.00\\nchurrashuitd de cerdd 1 170.00 470.00\\nhulleja 1 320.00 320.00\\ncubierti] 4 75.00 300.00\\n10111.: 2385.00\\niva [561\"le for tasa\\ntea netu iwi 101111.\\n10k 0.00 0.00 0.00\\n22% 2064.75 520.25 2305.00\\nmesa: 2\\nmom: deburah\\nfullnzaaaofiz\\n0 \\' i i\\ne] i;l__.-\\'_e\\n1 . _ 1.5..\\ndn may.\\n.a . ty;\\n-%--~flr\\n. 1 3\\'} \\'i- 4-\"\\n5: +154; hut--\\n. _ \"u\\nem - i 3\\'\\nend. de saguridad: uguuas\\nres. 001 3427/2015\\npuada verificar 21 cnmprmanta an:\\nwww.factura115ta.cnu.uy\\niva i] die\\n11037955 11000031 a100000'),\n",
       " ('../data/receipts/116/2016/6075041.png',\n",
       "  'ml it 4/54033219\\n\\' \\' maicnx :nlllu co\\'nta g\\nv     a... l\\nd n (\\'1 vmmmws\\n, m. arszosan mu ,\\n4\\' .. {fin-mm n\\'. 85978\\nusuononu hedjyaannla\\nram\\n7\"\\nmm\" , _-\\n2.00 cuamm 5300.0\\n100 penne a la napolitana 5540.0\\n1.00 man-rum com pestd 51: 1490.0\\n200 expresso lmazza 5230.0\\n3.00 ca cola light 285 cc $300.0\\ncucaswmsm\\ni.v.a. al dia _ . ink-tum\\nam. mm-rnummw: e win-.1 ie\\n:-wmncm.\\\\\\'=83u~a\\'-mm 3*. ,.. i \"-\\nsema-sess.1| mama-4m. .-,. --. 1\\' _ 1,524_5\\nwwmwwa afigfig \\' \\'\\nkim :2 mg  \\'-\\':- [elf/jab sbfiege}\\nmomma \\'- -  \"\\'a\\ne 9. 4/199?'),\n",
       " ('../data/receipts/116/2016/6118710.png',\n",
       "  'w a\\nwk.\" 3 ft. ..\\n-\" -:\\\\;ie,i-.fi\\n,1 fig. :u.\\n1 where-kl?\\nlt\\'lev; [see kertejihh? mehtewdeg wily-1,5\\n\"v . 34;=30358:22 _\\n155:1:3 iii. 323d\\njam. dej\\'o/zdh\\nfffisgnas: ! 03:55:53 5%\\n(133: nd 1:\\n\\' .1, :4 f {\\\\zkcegg . $525.21:\\n5 \"vii-pfc my\\ns\\'l\\'etgtgl 5 4\\'35. 41\\n;ua: 31m}?\\n~ 79%;: @591 w!\\n5? aj: 15-531: in\\' ~ l\\nmm exffjesewe elle]?\\nserum; {1\" 3:5 them524\\n{ldfi zia, .4 12\"); rfiufl $4.: 2 3\\n3;? av \\'\\n{ke\\'ikycdft eswjrqe $3.3 mi?'),\n",
       " ('../data/receipts/116/2016/6118774.png',\n",
       "  '/\\'-\\\\-\\\\\\nacfllfln/h\\\\\\\\\\n/v\\\\a~ \\\\\\na\\ni .5 \\\\rl; \\\\\\\\\\nill q/ _\\' \\\\ a \\\\\\ni l i i\"\\ni_ mar.n.h.) l_1\\nhhu sa\\nfw was mbanu da- mea 1290*1unzeviuen\\nrul\\' zmsteiecgyj\\nv1 cket\\nr 19823? pagu: sammie\\n[ lhseihei iinfil \\nfecha: jfiid/phu medal jvu\\nlgca eula lieh\" 150,30\\nmae unit; 1 hm} 4110. 0.50\\nidshuu iiapelimnd 213.00\\nlddd jhid 10.00 -dt-j. dan\\n114a wk 0.0l-\\n]va 22% 64.92\\niflthl 360,00\\n.....____ :nzma ______\\nmu: mu. m usaar\\'altum-i\\nrum ams- mm un mm: 217\\nwe: 17:24:55\\nm. mums m :u mm m-\\n_.- m: mum ._.._\\ne1 7 ywa\\'zr ie\\n.a u a - :.\\nw 4.3;,-\\n,.. .y - _,\\nel 3  ~ -.:i\\ncfidlgu da segurlflad: nzzai\\nra: ma. 2607 j 2015\\npuedi: vanflcar cnmpmbantr: \\\\5\\'1:\\nwww.mmcnmuy\\niva nl d1a\\n[)gi\\ngae invcid fin\\n90160123424 m ami-0030\\ne ceur\\'a do vsrmmenle: hem-7016'),\n",
       " ('../data/receipts/116/2016/6143705.png',\n",
       "  '7 , 1___\\n,_._\\ngnu prrnglzla 1r1|uunlca | (0055:1150 1 mam do silt: 1 sisbamni falc mums. links i engfub\\nkieltd 5.0. 214063430010 :  i |i> i la :\\' \\' -\\njflse maria hunter!) 5| a-ticket mm : lam. \\'tsuukmocdu:\\nhdmtevided, uruguav semem\\npiqmcuntafld _ hm: 014214\\ne cunsuhd final \\'1\\nmin/2010\\n,4_._..___. \"if resultadu da colwersan\\nmuiieda: 0140\\n~ djgiertd alhuerid 375.00 pam: rm nmsmnmm\\ne002 eeiitize .00 240 00 ruulndn an award: maui\\n\\\\iegguenserlig\\'m 420 on\\n2.00 lin x 1030 i asiijiiri (700)\\n\\\\km roval 21am hualu-l hum:\\n100 lin )1 210.00\\nfiaegrflnei 955%00 755.00 nu- .mhydeu rmmarumbm! mmiiciemmcntsummcmtcmwudu\\nmilanesq 0000mb 665.00\\n100 un 1665,00\\n\\\\mnambrilld 0e cereei rllenj 565.00 ..ve!fle\\ni 00 uii x 505.00\\ncheese cake 295.00\\n1.00 um x 235.00\\na ensamda 0e frutas freschs 230.00\\n1.00 lin x 230.00\\n-->cgn heli diet drema 0.00\\n1.00 0n x 0.00\\ncafe 230.00\\n\\\\ 2.00 lin ii 5.00\\nmm; 4 .025 .00 .\\nfl adenda _ . .  - \\nmesa: 12 i10z0: jaime 2233,09\\nfolio:a105_1673 [f0 .  i\\n$110155 seri\\'icu nafl esiaiiciiiiio , ,\\nreferencia: service is not included\\nfin adeiida \\nel , a el\\n\\'.- 5 vii\".\\n3.559%.\\n: --.1_ 3 giant\\nie 7- . ,\\nbod. de segundud: khshft\\nres. dg 1905/2015\\nfuede verwhcar e _ comprubame en:\\nuwwfaclurahstamuuy\\n[va a] ma\\ndgi\\ncae iniciu fin\\n#014214 a000001 modddd\\n, . _.==_;:._._fi\\nfecha dva venmnento: 03/03/2018 i'),\n",
       " ('../data/receipts/116/2016/6143722.png',\n",
       "  'nnasn icassoamrnrmauau sun- gnulr\\n\\' sabre 2| inslmucflo | prrgunm: quucmes | (mum vlapa do me wham. fm: 0:\"wa 1 inkx \\\\ hymn\\nl l amco central\\ntypo brasil\\nmnun a 01mm 9 capmi: imernacimlal: )1 laxm a: cfimhin  commau dc mocdas \\'\\nconvarsiio (le muedns\\nresulladn da lunwrsfio\\nrum-emu a: pescwntamm-lru [145) pm: real memuum (700)\\nvalor a com-mm 510 on mu-m. nu mnlmio: 01.0:\\ndun mllcin mum mclnzum\\ntam:\\n1 i\\'esormtcmlmm  ms. =u.l 13-1 real brasiljjrl (79m\\n1 real brashjdrl mm; = m13342: peso-lirl\\'cuaio-lyli r745;\\n- 0mm\" :l\\'eumclu [cmmrflmmmrmaumc nmsiiiximu hmmwm jam-m cumhm] mum imamcamcrfiumduwuwmu\\nwar 5\\n:3:- 3 133\":\\n:=l21\\':~74f;a9:;;fl;2\\n\\' . 77\", i\\'ewk\\'je\\'peu \\'3?!me mug\\n:3 37:59:71 ask-nix\\nv1.1: w 97:1: gm:\\niii teed-mtij ,n: 9335315\\n2 mm: sax-a\\n; :zc-ar; {mel $23.39\\n. h. 19.55-\\n:1\"\":\\'=!,: 46:13,\\n1 1\\' $11135?\\nte??.l: $373,130\\n~7-e:2:jv-99=121 hfiw :esue eseeee 11.52.\\n1532.16\\n173\": ifwr. mm f\\'. fcefeeencif\\':\\n... d\\'c eft? 7\". 1. 33; z 3132\\n$133 1\"? i,:_\".1,:j url ffjv'),\n",
       " ('../data/receipts/116/2016/6143805.png',\n",
       "  'i\\n__ |\\n3741/ 0:.ng  mm gimanun-lmamne scheni t-alccnnmmllinxairwin-\\n1/5151qjnjz/u @ i\\n%;v:;d.:u;:;-m_._j i\\n|\\ni lode moeda:\\ndealme f; a rut 214431260012 |\\n.70 0e 01mm 3585\\nmumewdeo lelerona 26221232 \\n. , _, ,l\\netickei 8/1112016\\na 3084\\nw \\' \\' 7  7 * 1 )(nnvursfln\\nconswnldcr final i\\nj 1m:reai.hkash rnkmwm\\n~ \\' \\' v - rnultndn an commie: 203.17\\nuds descrwnzdn lmpone i\\n2 coo/x cc a 0.041 \" \\' 213 \\'\\n2 cueiert-u ljeiiutivo 140\\n2 spaguetw f ltd 1020 \"mam:amulmmmaw csimlfimsdccmmzrun\\n1 plato de fru 7a5 220\\n2 ene ll- 200 i\\nrm:\\n//7 r,\\n/\\ni144, j i  j i\\ndlu u i v 1 fl - i\\nsubtotal 3 {467,21 __\\n[va 22% 5 32219 \\ntotal $1790 i\\nv aderua 7 - 77 -\\nfo\\'r\\'ua de 0390 aw nikki express\\nmime. se.\\n| i-lrs\\'r\\'a\\n\\\\ .. -.: - <_ 7\\' 7\\n5140;1in\\nmm\\n@mies\\nmy; \"-5\\'1\\'j\\nbag-m... 0\\ncodwga de 80;}.jndad mufdeg\\nres 0g,} 3542016\\ncae )mcm fm\\n00160060 1 10000\\n \"7 \\\\\\nfecna de venmmcmr zj \\\\80421 i'),\n",
       " ('../data/receipts/1567/2015/5820134.png',\n",
       "  'hefpen\\'hjs 3th],\\nava fipnqumup #3096:\\nfarm ,2 3372301\\n4365 hat )5!\\nth]. 33/3. chk. 4455 est 1\\nsobep\\'lb 11:}:01\\n2 g? 5:004  \"f\"\\nanalker new-q _ iziqoo\\n3. enafiambfl-slmitfi won\\n1 callca susan}, 10300\\n.2 k p515 5; e 54335 55330\\n1 fanchleque dulcg 3:50\\n15:03 71;; 3 53463::\\nfrgphea / up\\ntuthl w.\\nbrackrefilr e\\'j vesitr\\n\\' ranavmnves lmemuziorvules lida.\\n_ 9% giro: renuurum\\n_____.__-- rrurt:77r44635-6 \\'\\ns a n 1- 1 a g o av,apoqulnd93090\\nluscondes/ santiago\\nfono: 22332301\\ndmmesmnqllm a-mn:hqnmniag@happwmd\\n____________.___._._--\\ng 3:3 a an; .,\\nmmw figfiwwgfig {fiffiefifi  3\\n1 3 :2? s; \\nel e5? b: \\\\\\nw my; ww, i; m www mrmzm_w\\nf; a \"x 3 1.; m i)\\nusfim a- 3:.32c:\\nmew w 5% www. \\nw 12:33 wfiggefi  tom\\n@3333??? _ _ _ ._ ._\\nwwfiwe$$\\n\\'caflzzfi v? a; if f .. oemfieyfl \\'ihzm-w duplicado: guam'),\n",
       " ('../data/receipts/1607/2015/5768892.png',\n",
       "  'enmnittee\\n50 northern avenue\\nboston. ma 02210\\n(617) 7375051\\n411 izabela\\ntb] 122/1 chk 2056 est 4\\nau91315 07:46pm\\n3 cbc tr1pe11hreat 50.00\\n2 myers dark 20.00\\n1 dkra huriatiki 9.00\\n1 piperla gem15t1 10.00\\n1 lahmajun 13.00\\n1 91 cotesdurhone 11.00\\n1 souvldki 16,00\\nfond total 48.00\\nliquor tutal 20.00\\nbear total 50.00\\nwine tata1 11.00\\nstate-l01 tx 9.73\\n05:31pm tara] due 148 . 73\\nthank 1001!\\nplease pay ydur server!\\nfor your convenience we are\\nproviding the fo11nw1ng\\ngratu1ty calcu1at1ons:\\n10% is $25 02\\n20% is $21.80\\n225 is $30 58'),\n",
       " ('../data/receipts/1607/2015/5768908.png',\n",
       "  \"met back bay\\n279 darmouth street\\n805mm, ha uqhg\\nghqb'hmm\\nserver: rusty urn/jfmfi\\ntable 45/\\\\ 553 pm\\nguests: 2 80043\\nreal rm #1 1\\nheineken (4 815.50) ?2,0u\\ngrapefruit juice 4 00\\nbasket bsiivc bread (2 m6 001 i'll)\\n1/2 bnvngnese m (jd '\\nh \\\\at mignon 34 du\\nsubtotal 86. [m\\ntax ,8?\\ntata\\\\ . kg 9 0?\\nbalance due fi 20?\\nviasik the mai bar i\\nnahlk, dedlram 8r bethesda md\\nfuhdh us. on tuuler\\nwww twi her . (zen/matrestaur ant\"),\n",
       " ('../data/receipts/1607/2015/5768916.png',\n",
       "  '. legal sea foods\\n20 university road\\ncambridge, ma 02138\\n517-491-9400\\ncheck # :323009\\ntab1e 403\\nbrian c\\nte aug 2015 03:55:17 pm edt est\\nt budweiser 5.25\\nt seafood cass w/ sherry 75.95\\nlunch\\nfrench fries \\n1 budwetser 5.25\\n1 grttled hadduck .unch 17.95\\nfrench fries\\nt budweiser 5.25\\nt budweiser 5.25\\nguest #1 subtotal 54.90\\n5 suhtctat 54.90\\ntax 6.25% 3.43\\nha lacat tax 0.41\\nplease pay this amount\\ntatal 58.74\\n7 restaurant d1ning\\ncustomer infarmatjon:\\nfish ts brain food.\\nbe smart and eat here often.\\nwnw.1egatseafouds.com'),\n",
       " ('../data/receipts/1607/2015/5768918.png',\n",
       "  \"700 beacon street\\nbr00k11ne, ma 02446\\n617.264.8900\\nbarcelonawfneaar.cum\\n439 louisa 0\\ntn in chk 4553 est 3\\nauglfiis 08:02pm ,\\nf>e11:i c:\\n1 ribeye p}ancha 71.50\\nt bikini 8,50\\n7turtma 5.00\\n1 cruquettes 6.50\\n1 beef empanada 6.50\\nl mixta sld 7.50\\n1 albcndigas 7.50\\n7 oft pernni 42,00\\nfund 53.00\\nbeer 42.00\\ntax . 6,65\\n10:00.5! total 1 u1 . 65\\ninsnlgr'am #balcelunawinebar\\nww. barcelonani nebar . cum\"),\n",
       " ('../data/receipts/1607/2015/5777285.png',\n",
       "  \"*?t::%::??e??:?t\\n ussell\\npm 51:\\nrussell house\\n14 jfk street\\neambridge; ma 02138\\n617*500-3055\\n951 up bar a\\ntb} 104/1 chk 3466 est 7\\naugtote 12:08pm\\ni spagnett1 1300\\n2 *notch p113 12,00\\nfood iota] 1.3.00 '\\nbeer tu1a1 12.00\\n. statelc] tx 1.75\\n12:31pmtota1 due 28 . 75\\n' thank vol!!!\"),\n",
       " ('../data/receipts/1793/2015/5740575.png',\n",
       "  '16/07/2015 taxas d/a camua\\nmvlm- j immuufm 1 m5 hm huuxmo myluuumu  \\\\luu .1 m- \\\\ mducc \\\\ l i m- mmvm ]\\\\ 1m. \\\\ / wm\\n4- \\'- banco central\\nillr do brasil\\nhmm 4 1mmc(tummhmmmum  [\\\\mlxth \"7va m m_u;n~mtu| m\\niznm dc (ifimhiu\\n(olwfic-ulc lucllumcnludnl hrhjdegudu\\\\hxul.) m sunlmlmm\\\\iumlu h\\'lt.\\'l\\'mmlhhu-da r pcnmlnd: 1: (\"mm\\nhum/2m:\\nlmuu pnmnhlm .xmlwlmumpluur; l\\'\\\\\\\\. , : mk )\\ndzlln lilm [wi i~u.ix|...|.-1\\n( ulupru \\\\ rmhl rump. \\\\ nun\\n m i\\n (mm m\\n wan-m \\\\) x\\n- pm czllculur n \\\\uhu (qulmlnuu cm 1\\'53 mum alnullcauul mullllfluluu n mmmmu m \"mum wvuuhmh 3mm ln\\'xlh\\'lhht p.uni.w\\n. i\\'m. nhlcr u \\\\alnr um \"mum lulrinmll mulnpluyuc u umnhuuu m. umcnlu cummmm pm rcxlwrnm mm\\nh h \\\\[ <;.,_.-.u.-,.w.u tm   w .m _ m . , h w . mm   , h h ,.\\n\\\\,ma> \\\\ h1;\\n7 , . ,. f\\n -  ,mrmw\\n1w v-n\\nz mmj: 4h! wh\\n4\\nm 3 ,mw h\\n\\\\mj 1 n 1: 1\\n\\'x :w. m mm:\\nm int. ,4\\n1 \\\\ w am. 1 w\\nv \\'  r my , fl 7\\n\\' > \"i: 1\\ni\";- \\\\ , em h\\nmm mwr- ; \\nt\\'wm, mn: 1 1,\\nmw t\\'hl 275.1u\\nm. mm .w. :m. \\\\ av.\\n5? 1 > v w pm?\\nh :lfi \",1 1: 4v\" mlhh\\nmy :41 \"w .:\\\\1 mm ,\\nh: m 4m wgt,\\n:v h a w m \\''),\n",
       " ('../data/receipts/1818/2016/6016139.png',\n",
       "  'unmet sa 7 24526130010\\nellauri 350 l f ehgket\\nmdnteviijeo \\\\ruguay serum\\n- page-ma, 7 nrn: 005712 \\'\\n5w 7\\'717\\'7\\'7\\'71\\ni .\\n, . e\\n23/05/2016\\nwhen: lnu _\\nama ninerfll sin gas 55.00\\n1.00 un x 68.00\\nensrlada de frutks 50.00\\n1.00 un x 60.00\\npesca grille c/ gum 380.00\\n1.00 un x 380.00\\nmm: 598 .00\\n adenda \\nmesa: 02\\nw110: luis .\\nfolio: 5859\\nurden: 22\\nh01: 354\\nreferendia\\'.\\n#10 anna \\ne=,. ..\\'-_.e\\nt .*\"\\' .\\n{$12 q. _ _\\n*fi-ei \\nm \\' -\\n  \\' . \\' .lh\\ndad. 6: seguridad: hortua\\n/ rig?! 00 303/2015\\nmade ven \\\\car 8 cmrmante an:\\numfacturahstp .oun .uy\\niva a\\\\ mu\\nd81\\n0! \"with  wu!\\nf. 7.7.71117\\'77\\n1 fecha de vemimiento: 23/05/2016 \\'.\\n. l,- ,, ,,,,,,,-,,,,,j\\n'),\n",
       " ('../data/receipts/1818/2016/6016146.png',\n",
       "  'confero s.r.l. rut 21 594306 0019\\nros/mora\\n5mm\\nfranmsoo j. ros 27514314710 7355\\nmontevideo - uruguay n0 o 4 9 4 9\\n, nn m020 mesa hora fecha\\n4,721 11 1 7 w 01:24:17 w 22/05/2016 , ,\\nrutcomprador\\n_-\\ncan\\'ndad descripcion precid importe\\n1 1 cena $1,030.00 $1,030.00\\nl155: 50112 descuento: 0.00 96 0.00\\n$844.26\\n$185.74\\n2 e. el $1,030.00\\n/ ivaaldia h.\\nimprenta regina um . _ -\\nrut:2\\'203mwd11  \\'3 vigenc\\'\\nggmaemszaseszuzis-w - - -- w\"\\n, , x\\nimprenta autorizada e m5 msmmm\\n'),\n",
       " ('../data/receipts/1922/2014/5472303.png',\n",
       "  ';\\n\\\\uhn a \\\\inluiclv lu\\'uml. n. mdu (ii-mm mar 1 flu in nm: :.|\\'rih :1: .n um. lvnh 3 wpflns\\n4- |- amco csumm.\\n\\'idr no mu\\nm. ~.l .mmu l m. lnmmu m ,, 11\\\\.\\\\.\\\\ mm ~-\\\\ um u-ljl mum\\n(uln\\'ersflo [it \\\\locdas -\\nresultadu da ( urn-unfit)\\n[mwrlsindn iffllrlkilaiwuyi 715: pam: rpm rraxhjlri i7?!)\\n\\\\alnr n ennui-(er: mill\": rumnullv 4: manama: hills\\n\"ila (niacin rmliurh: in my i\\ni\\'iu:\\n{i\\'lnuclkuuiaiui vi 1745):nllllnlr1 rfvv faq\" br] itvih\\nlkral bkahllmrl it\\'md : ]-\\\\ allxlll [wsojlir cldovlh l?45\\\\\\n0 lhuiuilnelflm-dn lemunjiel jlmtlllll\\' c mn whwwwvh1\\\\i-w-m\\\\-:.1,\\\\uu hr mm m hm;  .  .h mm wm. ll; unnum-'),\n",
       " ('../data/receipts/1922/2016/5987274.png',\n",
       "  \"mm. w\\nbirume sa  rut zmezsiqie\\nguipuzdga 350 e-tioket\\n huntevided. uruguay v serisza\\npago:[)ontad0 nro: 020958\\nmoneda: uyu fecha: 25/04/2016\\nr_l__\\ncunsumd final\\n\\nbena , 1 90900 909.00\\ntutal: 909.00\\nivadiscrihinadb fur sr\\ntasa netd iva total\\n10% 0.00 0.00 0.00\\n,v 22% 74508 163.92 909.00\\nmesa: cenaz \\nmum: chuky_for_ever\\nfoliozawess\\n, rm.\\nel 19 :ej\\n. :fin\\n.-:j  _. ' ~\\n.~_ a.\\n~'- #314?\\n1 nus-.4. n -\\nel i . . a\\n_ dad. de seguridad: hzesdz\\nres, dgi 3427/2015\\npueda verificar el campruhante en:\\n. www.facturalistamumuy\\niva a1 dia\\nw\\n. a020959 a000001 a100000\\n. . fecha d5: vencimiento: 02/11/2017\"),\n",
       " ('../data/receipts/1932/2015/5799670.png',\n",
       "  'w\\noyei. r.u.t. 21 377847 0010\\n(9 ,. :43; r.u.t. comprador 6. final\\n, 7 .\\nretaurani\\'e pm\\nmaummsmnmwo umento * i\\nmontevidel  cont : .\\neliente .\\ndireccion\\nfecha 20/09/2015 mesa 73 17 -\\nhora 10:13:13 pm v\\numue unrramo-\\n: i 22:22 w \\' ms @333 \\n1 com cola * s 5300 575200\\n3 cubiertd 5\\': 77 m, $0.00 $270.00 .\\ni eggcumofe.gmw 591 [x139 $40.00 $450.00 .\\n1 sin 2:53 @543; u \"r\\' 214? mg.g8 sgggg \\'\\nj spgajugw-rfgbfi.gmnouas jfilfim $490200 .\\n2 - puma: 600 cc}.- , $19300, 3260,00\\n.33.:5/  fig.\" \"3; j .9 \\n , 3-7:girnjeeafgfidfi?f ); k\\nc. ~v\\';;_vi.f;;: :v,~::.gtj_~g;ng, fl 5/i:-:_ _, .,\\ne - mi/a cry iwwfigfifi l.xwiv;\";,-v i\\n:2 arr/.2 2:5? *~ \\n5% fifivwggy 1, . : \\'\\n3 $75vw _, (i i \\'\\n5% j; r a\\n< ._ v\\n0,, ,\\n3\\'\\n.\\n35; formadepago sua total 51.819. r.\\nas ,\\n=z< ~~< _\\\\\\n:1 l-va  75400.33.\\n:53 total $2,220.00 1: ,_\\ne _ _. servicio atencion al cliente: 2709 8446\\n55 \\'i\\'hi\\'e\"\\n98 .i-\" \" \\'7\\'. i\\n59 elva-:1\" . originalcliente\\n._\" j 7 reams\\n3 *-;\\'h\"!i\\'ei\" mama w 441979 ,\\n\\': el- - .m-.- 25/12/15 '),\n",
       " ('../data/receipts/1932/2015/5875535.png',\n",
       "  '\\\\l-_;\": /\\na :2: m:\\n\\'%ifi2:\\'211;; wanna-31w\\n5.1;: 413;}; {532: fizmn;\\n$3313. e 18:: \":2 .31\\nr:%efifiii? feffile\\na *si was? a \\n..  aaoggfiifiimgewmmmsngfimagg55\\n> ,, 5-5 f;-a\\'-;:..a.z~\\'>::s:e<,:~\\'y\\n. v ,-~\\n mm mos57215 may 11411212913\\n mum 2195. ,sm lhesa 34:\\nmaze x2 \\' ,.\\nmam l ,:\\n, rm j\\' \\n. x 3 _ . 2/\\nwas niamgpme :, r/mqu 1mm:\\n\"\"2:fitfiet\\':tf?:;m*\\nv 3:323: - 3m 13,3355\\n2 iukausgir kyiaggggfgama \\'\\n1 gifgergnagjga: ris axwfisefime\\n wiffig-ee 5.033%? ffigim\\nififiegis-iazeg \\' smkecufi\\n\\' 1 inga fiamrfi g; .33 99,199 12704;;\\n, 1 agr\\'agtijrj mgfifigefitefin\\n2. mg-ha :.___l?_&;;z-2:u_<\\';as:\\n====1lz--3a?sfgfei:7::thjfij\\'ifxffi: \\'\\n~~m- . ., wwaififis\\n_ .!l%.,22.,u,.6;\\n .,., - x :i\\n- , , : mm, iamimzfi\\nservicia/egmity- v m; 162,913\"\\n\\' v ,-~ \\':. .;. 11538\\nmm: - 4 35553 swag p , 247552?\\n, geszmms easing: 5m 57,59\\neaweiuekfiifih ehiresaiserna cmm\\n8:;va agar-mm, ..\\n@533 au:;::-: 3;- r342... a\\n-:3f:\"~< am. at:\\n\",gygefmeg fling\\nxv f\\'tiitf: \"3.ifli\\''),\n",
       " ('../data/receipts/1932/2015/5875568.png',\n",
       "  'l esmm\\'nmmm 5a rut 21 625489 0015\\n\\' contado\\nz dakota 55m\\n: zmsr b 2752-}: c e\\n. m m _i n 2715\\nmontevideo . uruguay\\n;    -lfiim\\n\\' nembre: e m u lo cuer\\n. u u i z / s\\ndlreccxon:\\n. \\\\\\ni cant. m f unit- -\\na ia _\\nel. .11:- el i-v-a- 22% [mm\\nm i l\\'. \\'la.\\nswag v, 1:; ....-.,,. total$ / u$s\\n55mg 553\"; 05319192 $1 $951374 mg 5:1}?th o 5\\ncomfigmmm a!180;7-ivias-d1hi 22/01/2017 \"ifgfiefi 1:. via am; - angina enema\\n. \\' impmma aulmixada - tel\\' 2902 5363\\' e ..  - elvis aman1a<copia aicmvo'),\n",
       " ('../data/receipts/2347/2016/6076615.png',\n",
       "  '3,3. :33... xm_,_.,_33_;wj_ : 3:- *\\n- 2333323233533. 3113. mafimaeia:\\n33w? 2\\n:. 3g. 1 a h 3 :3 . \"j\\n\\'m cl.m  3 3\\n43.:1w333 ; 1 1: r\\n{3:1 23333339 3531 \\'5\\nr r it? 5  1 {3\"\\nimmwrfi 79y: 3.553.333\\n3:3 3:32;: $2533 :33 4mm\\n : . 1:\" 33393333.; : n:\\n4233353) seams\" wma kw\\n:vifiw .2 ::\".=:,, a:\\n31.1 : 3:};\\n\\' 1:71 33333333 :3, 3533:3323\\n\\'32, 3 :13? 333 \\n3:? 3*\\n33,3 33 3\\nm3\\nf3 3 ? 3\\n333333; 3;3\\n33 3333333\\n3.333333\\n$knfigfla\\n,,\\nla\\'fimw 32.4,; 33:12, 33-3; j3;\\n3.-;;m.,33.w333-.3_..3\\n{e 3.,\"\\n~21. maggy; wait :3 ,3 wfig, j\\ngegfixgflflgmggfiw {@133 ,\\' ziuumswmusrzrs\\nvfmfiiixflkefiifrwfiiikv \\' =7: \\' , : gggimkj-gifi\\n3. \\'fl\\' 3: . :\\nawn/arm? a3? -3  125533323 3.:'),\n",
       " ('../data/receipts/2900/2016/5981081.png',\n",
       "  '4., 5\\n:x v, :5\\n99mm. mm\\n7 aide/0 :~ 23:22\\n\\'35?- :\\n__,,,,__rl mum \\nwe sa wt 314229150015 sumac: 35c [a pekytzsunuzmsm\\nguipuzdda 050 e-tickat agency; [300210 m acme-a\\nmuntevided. uruguay sarieza \\'5? dr 000: c125\\nwage!\" mfiflflmtfflz? ;, wh- _\\npaymcantadr; nra: 020379 5; {ema 0 :fifimyrglg\\nmoneda: uyu fecha: 24/04/2015 12931 \\' $354515\\n*2; [2; 1899? s 693,35\\nem: 3c,\\nconsume final  rum-l a mm: 5%\\nicujtij 4\\',\\n_ mama: 922m 399 mm: 1%;\\n*f\\' 2mm ,\\nantdniu carlos 00m 0.x silva 2\\n:10!ng x 130,0:\\n-\\' w\" t w 65 \\npenmt cent 750\" 3\\'l00 maximum \\nmm: c e 91m\\nmuchas mucus\\nu 5021: um u\\n[-1\\nmm: 3.845.013\\n,.7, 77m, \\n\\\\ m mscnmmw pun tasa\\ntasa netu 1w. tdtal \\'\\n10% 0.00 0.00 0.00 0\\n22% 3,151.64 393.35 3.845.00\\nadenda\\nmesa: az.\\nmam: piulin rn. ~\\nf0110:a43806\\nflaw, in:\\ni \"jim:\\npi. :flfi\\'fik\\nelm elf-=41\"\\nend, 05 seguridad: o/jzflq\\nres. de] 3427/2015\\nfusde vermcar el comprobante an;\\nwwwfacturalistamumuy \\niva a1 dia\\n320879 a000001 00000 l\\n fecha da vencimiemu: 02/11/2017'),\n",
       " ('../data/receipts/2900/2016/6035688.png',\n",
       "  'w16 gamers-\\'30 de moms\\nbrasil a<esso i infnrmagea - barri gwbv\\n\\' sabre a insumiyio 1 pcrgunlas firequmm | glossa\\'rio | maps do site \\\\ sisficen \\\\ fa1e conosco { tanks 1 english\\n4\\'- i- banco central\\ntidy d0 brasil\\nconversin de moedas\\nresulmdo da converseo\\nconvmin d1: peso/uruguaioiuyu (745) pm: real erasll/brl (790)\\nvllur : converter: 930,00 runlnulo d8 mnvusio: 102,85\\ndiii 11\"an udllufli: 21/06/2016\\ntflxfli\\n1 peso/uruguaio/uyu (745) = o, l m real erasll/brl (790)\\n1 real brasil/brl (791)) = 9.0415913 peso/uruguaio/uyu (745)\\ni o cfi1culn ufetuda (=m cetfikel mfolmalivo = ilia subslmu as dispusigeesch mum czmhial basileu-a pan cssos =specificbs dc canvuszm.\\n. von;\\nniix\\n, , r7,\\n, ,1. .l , g\\n. . - 451 0 da 5 g t.\\n\\' wee . i. m 3- er 3 l\\n- ffsifigr \" i .3 a 2 :a 5\\n eggs. 1-- \\' i s a: a -\\n. t.l-\\'|l-5\\':l\\'e 3,\" \\' :3: >1 e -\\n. . : r: o 2 w a > x ,\\n , ; , o a~ \" 5 \\n\\' 5582; 1 g 5 a 32-9 (02\\n. ghusazp  : 3 v 0:: , \\ns 5 7w 5 7 2: a 2g 9 :\\ngs gag; a r >:2: w\\n, 5 g g l 1 a f d a 33 go 8\\n  - geg a  =5 0.2%; 8 .\\n~- ,: e  fu- waging ; i\\n1 2 g a; z \\'\\n\\' a 3 - \\'% mg, 0 3\\n09 = =\\ng \\'  f 30 g v:\\nl illl 5 2o b \\\\\\n .~  2 eh 0 0 :\\n1 a :3 u .- : 7 8 o 8 ~\\n 3 3\" be n e. b t\\ne d 0 g e 7 a: > m :\\n2 3 g \\\\ u o i\\n1. r, 0- 0 s r:\\n-  , gr:;,;_ ., , \\'  > o ;\\nhilp:/mww4.bcb.gw.brlpedmnverssolcunvevsan.apfid=convmoeda 1/1'),\n",
       " ('../data/receipts/2910/2015/5802176.png',\n",
       "  \",1\\nuniun s'hfliun\\njohnny hockuis\\nbu mass, ave mi\\nhaamnglnn dl.\\n2u? 2834:9633\\nscrum : pm ms/9:115\\npe ewh 9:43 pm\\nguesas: d\\nh 4 ( 35 i 8\\nremmt d- \\\\\\n3mm chime 7.19\\nsuhtotal i. 19\\ntax 0.72\\ntotal 7.91\\ncash 10.01\\nchange: 1 2 . 10\\nvisa and mastercard accepted.\\nfm mmuuenrs vvmt\\npa] rocketsflaul .com\\nlin parlleu of 4 m more a\\n15% gramhv am he added\\nthank vunim\\n chem {zluaun v ,\\nk v\"),\n",
       " ('../data/receipts/2910/2015/5802179.png',\n",
       "  \"3 )a\\n11 oholabapa\\n1.. , < t... 3r by. .1.\\n7423 gleenben rd\\ngreenbelt. md 20770\\n301-4740434\\nwww.pollocabana.com\\ni wed september 23.2015\\ncheck #290420a1\\ni t/4chickln white $8.49\\n1 :>mixed vegi $l.00\\nt =>freneh fries 30.00\\nt coke prumzoqz btl) $1.98\\nsul total : $10.47\\nta ' $0.63\\ntotal $1 i . 10\\ntlme: 19:23 1 customer\\nthank vou!\\nyou have been served\\nev : cashiert\\norder 159\\ncash : $21.00\\nchange : $9.90\\n.\"),\n",
       " ('../data/receipts/2949/2015/5680384.png',\n",
       "  'a\\n7~eleven\\n1600 pleasant hill rd\\nkissimmee fl 34746\\n- 4075181741 \\'\\nstore: 34163\\nxmdoritos loaded!\"\\nh! it has arrived hi\\n1 7-5 water .5l 0.99f\\nd z prepav 40.00\\nsubtotal 40.99\\ntotal due 40.99\\ndebit 40 _ 99\\nmom; inrxxxxarikm<2857\\nacct tvpe: dda \\'\\napproval: 401571 auth code: 0\\napproval time: 204016\\nmaestro \\nstorefi: 34163 ;\\nterm :00073416301 08\\nterm seo: 995602 \\nref : 95000 00 1300 1 \\napproved\\nthis sale has included a fuel prepav.\\ncustomer agrees to pay the above\\ntotal amount according to the card \\nholders agreement :1\\ntess the amount of fuel not pumped.\\nif the full amount of the prepav was\\n, not puhped, our sales associate hill\\nprint the corrected receipt. please\\nbegin pumping within 3 minutes 0r sale\\niiill cancel and vour card will not be\\n. charged. if you still desire to pump gas\\n your card must be re-swiped. \\'\\nfresh coffee 24 hours\\niiino refunds for electronics!!!\\nt401 opo4 trn4482 04/23/2015 08:40 pm'),\n",
       " ('../data/receipts/2977/2015/5803734.png',\n",
       "  \"w? '1?3$2qx\\\\:122~eg?zagflvrxaaiamwn:,~s~m ,\\n7,, .. .. , use/a c mokara hstlt :1 pm\\n712 crucketstrlet m. __1. . ;\\n21039b wiq? ' ' h cvq\\n1023 nichaet te\\ntel 95/2 eur @435 c21 14\\n14vup\\nsep2215 1:41pm\\nreprant\\nclosed lehcel'm\\n, 4 mawablq 11.00 4.1.414 _, us\\n, 1 ceviche 16.00\\n1 d-caesar salau 10.00\\n1 dvscallups 34.00\\nb drpaella @ 29.3n 232.h0\\n1 d-tenderloin 38.50\\n1 d-redfish 34.00\\n2 dwpflrk @ 26.00 52.50\\n1 dkale 11.u0\\n. 2 surbet e 8.00 16.06\\n1 ice cream 5.00\\n3 i.p.a1 @ 7.00 21.90\\n3 bud light @ 4.30 1e.50\\n2 dduuls @ 4.53 9.00\\n1 whitehaven 13 cd\\n3 @ 60.00\\n310 crgssbarn 188.ufl\\n3 @ 48100\\n361 acrobat 1d4.fiu\\n18.00 a\\n 19% svc ch8 15%.?h\\nsubtotal 872.30\\ntivyuther ' 'zag.t  \\ntax 71.9u\\n. payment 1185.!h\\n$ charged tips 15.ch\\nxxxxxxxxxxxxsboe xx/xh\\nvisa 1uo.uu\\n$ charged tipa 15.00\\nxxxxxxxxxxxxzbtb xn/xkq.\\n. mastercard 1od.qu\\n$ charged tips ia.uh\\n. xxxxxxxxxxxxcfob xi/xn\\n visa ' 100.90\\n$ charged tips 1e.fld\\nxxxxxxxxxxxxsiku xn/xx\\n. visa 160.60\\n$ charged tin 15.00\\nxxxxxxxxxxxxuoiu xx/xx\\nvisa 1ufi gu\\ncash 885,2b\\n*-9023 clused sink: 9:58pm 77\\n' gratuitv,,____,, , _.,,,,, .,w\\ntotal mmwflm. . ,,\\nname (print) __.a .. ., _ ,.\\nsignature a__, , , ,_ .,.\\nroom number__,_,. .fi.. . ,, .\\nroum charge only 19 stavinc @\\nmukarahutel & spa\\n.unv .. h.nnrnh fir; nrn\"),\n",
       " ('../data/receipts/2982/2015/5825523.png',\n",
       "  'mwwwwydcpvdwywy\\npale a1111\\nw85 tail 21 randy 10\\nalejaw a svrck: 7 13:47 10/13/15\\n baffle 0|th later (13:47) 3.5\\nsada (13:47) 3.03\\nsoda (13:47) 3.01)\\n,. sud! (13:47) 3.)\\n\\' cruterry jun (13:47) 2.95\\n orange julne (13:47) 3.95\\nsome juice (13:47) 3.95\\ndram: mae (13:47) 3.95\\n51100 (13:47) 3.00\\nsoda (13:47) 3.00\\n\\' sufi (13:47) 3.011\\n4:19:11er cam: and (13:59) 5.95\\n4099111 g051\" sum (13:59) 9.95\\nvegan babb (13:59) 10.95\\nfettucinl me (14:03) 15.5 \\'\\nfun demure u/dukn (14:05) 19.50 .\\nmariana er. x damon\\n(14:03) 15.00\\n1171181 41111011 (14:03) 29.95\\nsteak 01am (14:03) 19.95\\n\\'stlek d1 \"  (14503) 19\\'.%\\n\"find stank (14:03) 19.95\\nstalk mans (14:03) 19.95\\nstalk diane (14:03) 19.95\\nemberry juice (14:27) 2.95 .\\ndrm juica (14:27) 3.95\\na5517!!! (14:40) 3.50\\nesuressu (14:40) 3.50\\n.  sacrum (14:40: 3.50\\nesnresso (14:40) 3.50\\nemma: (14:40) 3.50\\nesvresso (14:40) 3.50\\nfactury m wolate (14:40) 3.95\\norange juice (14:40) 3.95\\ns11: tutu): 2&155\\n. tix: 24.81\\nf $4) total: 308.35\\n10/1315:06 (111111.: 308.36\\n.ia1n us for sunday brunch\\n10:00 am - 2:00 pm\\na: a secml invitation m\\n\\' (he we factory\\nwand him to hear frou you!\\n\\'  provide your (attack about\\ntodays v1s1t and racelve a\\n. $10.1!) eg1f1 card\\nv.11: at any of 1\\'17: mm factory \\'\\nrestaurants iatlnmde\\ntu part1c1me no to\\n m .thdmmkefactory .mm/faedbaak\\nsu bade .,\\nn r: wmfih > 7. \" <\\'\\n to mrticmtswto  7 \\' - \\'\\nm.thnssscaszactory.m/feefinck\\n enter this sway code ,  , _\\n5 * mm \" 7 \" \\nsurvey lust be simulated n11111::\\n., 3 days of your fist.\\nami-till) wise 74le\\nlc/v/ddier 33.00 33.00\\nkj/v/diner 99.03 99.00\\nw 176.3 0.00 176.36 ,\\n308.315\\n(neh) mm: mad,mxxxxxnxxom.\\n.00 ,\\n(056:53) 14m: 031366,)ocxxxxxmmm.\\n39.01]\\n10/13/15 15:6'),\n",
       " ('../data/receipts/3048/2015/5808134.png',\n",
       "  ' elviejovelmar mu. ut 2 978470010 \\'\\ndy r. . . 1\\nq .-. \\' r.u.t. compradoh\\n, >\\nmm mm ,\\nmummmmmm mm\\ntel: mu m contado\\nmontevideu : . i . i\\n_ cliente om. mamie:\\ndireccion 9am.\\nfecha 20/09/2015 mesa 73 17 -\\nhoha 05.15.08 pm .\\ncusmuos 19-.00 $130.00\\nfritata de mariscds $490.00 $490.00 \\nkmaron a la romana 369nm) $690.00 .\\nmerluza c/crema ngxo,  354:.00 1540.00 \\nmerluza chgaaw-xkisgpsvz 31,7: 7,. $54i.00 $540.00\\npanqueques\\'de hanzana _\\'; 4\\', : 321-.00 1210.00\\nreserveitaenaiyonpascua \\\\ailj 1356:,00 w,240.00 -\\n5mg; x3;>~:. 3  v 257- 3140.00 _,\\n,, 1? :ezi , 7 ~ w 3:73 s\\nr _ , t5, 1 a x? .. ,_ \\\\., .,, \\nt a 3, \" 7\"? 32:33,\\n >  21; \\' a :7; .\\no9 - 5 (:37: r _ ,,j ,, \"pm ,,\\ne2 \\\\  \" , 7;, ._ a\\n( .. . . ,\\n=< .- _ .\\n8%\\n. l\\ne?\\nfig form depago subtotal 34,122.95 \\' /\\nh3 2\\n:3\\n1?; i.v.a, $907 .05 a\\n< total $5,030.00 e\\n25 *\\n3g , . servicio atencidnalcliente:27d98445 f\\n58 \\'.\"-\" \" \\';. \\n5\\'33 -e- ;- original-cliente\\n3 ._-\\'- 3:59:79; manor \\\\,\\n<5 fur-m vmcman\\'o an441976 \\ngi -ri-- 25/12/15 i'),\n",
       " ('../data/receipts/3053/2015/5794338.png',\n",
       "  'padiglione giappone\\njf italia srl\\nvia c. di belgioiosd\\nvarco di accesso decumano\\nmilano expo lotto 43\\np. iva 09022140967\\neuro \\nbeer kirin 5.00\\nwater 7 2.00\\ntotale euro 7.00\\ncontanti 7.00\\n06/09/15 13:33 sf.46\\nnos 80005957 \\nqaseaevj'),\n",
       " ('../data/receipts/3074/2016/5914461.png',\n",
       "  '\\' nfe\\n\\' > . n\" 000.000.410\\npioneiro combustiveis ltda dan fe\\ndocumemo auxlllal 0.:\\nnata flscal e|c1tfinica\\noventrada el ulna-24:25:10 \\npraca santos dumont: 100 - aeroforto - boa vista ~ \\' \\' m 1416 0184 0100 4000 4363 5500 1000 0004 1010 0001 3979\\nr n\" 000.000.410\\npom: (950224-5543 - ce? 59310006 sfim 001 consulla de aulamiudnd: nu ponal naclunai da nf-e\\nfolha l ,1 www,nfe,fzzcnda.gov.brlpcml cu nu site da sefaz aumnzadora\\nmmwmovzucm mmcow us awuxmcio u: use\\nvenda de combustivel 0u lubrificantes p/ conswidor final 3141600001383 21/01/2016 14:54:53\\ninscrycnj extadual wwcioexyawal mmasnnnonnmmo cw:\\n240236167 84 010 0401004363\\ndestinatakio l remetente\\nrome/r4110 50cm cnn/cw datada emissrd\\nabel salvador mesquita junior 132,865.3528l zl/olrlolfi\\ndr-eco woidsiiho ce! data da wa\\nav vilueroyjwz apareeida 69305-405 21/01/2016\\nwnicdid mm [fax insdkkedestanal hon da saida\\nboa vista (95)]623-0808 1455\\'26\\nfathra\\npagamento a vista - numem\\'  valor original: rs 0,00 - valor dmnm\\' rs 0,00  valmliqmdo\\' rs 0,00\\ncalculo do imyosio\\nmuemcuwwm vwadoicms nmuzcixmuwmmussm vmmmsum varroxwmmus mmmmmmm\\n0,00 0,00 0,00 0,00 70,39 (17,30 %) 409,75\\nvalonmmere wigwam damn: dmlfinssmsumm mm. mommnmn\\n0,00 0,00 0,00 0,00 0,00 409 ,75\\ntransydrtaddr i volumes transportados \\nnanrmuasocw rum-mum cmwn mwmcum ur mum\\n9sem frei\\'e\\n__\\n__\\ndados dos frodutos i servicos\\nw_-fii-m-_m\\nolnnmz avga\\'s ~ 100 17101251 5655 l 33,0000 7,4500 409,75\\nup w mummy-u com c: 21520: n: 1101 m\\nl\\na . ii\\n3 - / a 0 .\\n war\\n.10.,\\n, 7!\\ni\\ndados adicidnais\\nwamcdiscommmm mmwaomnsco\\neflm , coffin-7,50%, rev- 5,6!\\'/- * adwiunll dsikpl- 435v csll-lm\\'fi to! ivmx k 2am vflcns w my mleculdunmkn-\\nsuhfimlifio tnbuflul)\\nousznr nf: 0\\nmm.) .1: mm; (l 12 74102st my\\ndatae hdra da impressko film/10161055 35 lsichckr ls! 5151mm , wwwtsxxixluun wmfihr'),\n",
       " ('../data/receipts/3074/2016/5914471.png',\n",
       "  ': nfe\\nn 000.000.385\\npioneiro combustiveis ltda danfe\\numullmlo auxlhal (in\\nn01; fm 151416011\\n0 \\' entrada e] cmmum\\npraca santos dumont: 10 - aeroporto - boa vista -  5\\'3 1415 0184 0100 4000 4363 5500 1000 0003 8510 0001 3060\\nrr n 000.000.3185\\nfonz: (95)3224-5543 - 059\\' 69310006 51310]; 001 corsulna de auienlicidade no pana1 nacional d0 nfa\\nfolha 1/1 www.nfc mmmmwnm cu no site da sefaz aulorizadora\\nmmmm win/:10 mommannsusu\\nvenda 013 combustivel ou lubrificantes pl 00013004113011 final 314160000003427 00/01/2016 09:05:10\\ninscnchn esiadum. wmcmwanaldowwmi) cnyj\\n240235157 84010040100430:\\ndestinatario iremetente\\nmama) mm. cum/m mnmmsm\\nabel salvador mesquha 111111011 1112365115201 04/01/1015\\nendlrew minimum ce data ea wa\\nav v0.1.0; roy, 3942 aparecida 69305405 04/01/1016\\nwmcnd tam/fax mmmu-uwn humda salda\\nboa vista (95136130000 09:00:04\\nfatu ra\\npagamento a vista . nfimem - vum original: rs 0.00 . valor dswmn- rs 0.00 . valorliquido. rs 0,00\\ncamulo no mvos\\'ro\\nmsedecmcumecms mm mm umnecamemchssm mu: 000.5915! v.moxmlsu1os 0.10110100011110me\\n0,00 0,00 0,00 0,00 1250: (17,30 4) 722,70\\nm.ukw1km mm 1m 52011110 mm 0mm emma-1m vmmm vawk m\\'m m mm\\nm 000 0,00 0,00 0,00 722,70\\ntransydrtador l volumes transportados \\'\\n10021020505111 mmmcom comm\" mamvelcum u; mum\\n9sem frete\\n_\\n-__\\ndados dos yrodutos l servicos\\nfifl----fifir\\n01001012 avg/\\\\s- 100 17101151 l 99,0000 1,3000 mm\\nmm smsmm source 21555713001 017.016\\np a g 0\\n1 04 i\\nmemo cw vel 1\\ndados adicionais\\nnormacdescwmmare reservaddauhsco\\n\"infomlwfis amman: 11- lumen: an f1500: (3011601111- humfi) 3, 1mm 1, ll. vii. viii 0100;111:111. 05112012 hs 0.657% 5,70 corvus-\\nawn-11.01311 answmmsmw ammonium: pg 1000...: mm 00mm: mm 910, we\\nrem 01141100371200: :10 637/2003 ~\\ncm: m- 335\\nv0). 151.: .11 tnbulqua 1mm 2) xx 125,0:\\ndatae ora da makesko. mun/201609 06 i2 lscimersi sincmu rwwwlmlskmls cam hr'),\n",
       " ('../data/receipts/3074/2016/5914601.png',\n",
       "  'v\\nrecedlhu: m. [r1 rmmhpmu ltdauerubunus/smvu;n< mwmn m nom 1:15an mmmm aul/ux: m\\ns n aonfioznm\\nnm in xmlumlnm mmaciulassm/aum no 111132an ,\\nserle. 1\\n1) anfe comm; no nsco ,\\nefz camercio e representacao dgwwjo auifiadanm\\nltd a mm eletremca\\no , entrada\\n , gm 1 mum-so\\n5316 0210 9237 1900 013 5500 1000 0020 6110 6004 0701\\n. 1 . . 1 n 000.002.4161 1 .\\nshs q! 01 lap, 71 - galena hotel nncmnal - asa sul, brssllm, m , consulta dc autcnucldadc no pom] naclonal da\\n- cep: 70322900 serie: 1 nf: wwwmfe,fazenda.gov.br/portal on no site\\npegins 1 de 1 da scfaz aumrimdora\\nmmmm mum antenna 1); au rnmzacan ne mo\\nscivico 353160005369593 - 17/02/2016 10:38\\nvns/utlcyio lmadual [nscxvcin fwanum no 501351. in:  cnn\\n0762315600106 16.923.719/0001-34\\nneanatanm/remetente\\nnomcmszsuulal rum-w mmmwm\\nabel mesqulta junior - gabinete deputado federal 182.865.852-91 17/02/2016\\nenderem emrro/dls\\'mlto ce? data 1)! eniradaisada\\npalacio do congresso nacional anexo iv asa sul 70160-900\\nvmucwm rowinx w mmmmmm ham dlmusum\\nbrasilia df\\nfatura\\npagamento a vista\\ncalculo no mos\\'ro\\num hem; an 10.4: mm m w: bur nf mmuw no 1m; 51 \\\\w an no mm 5\" mm mmm: mmm\\n0,00 0,00 0,00 0.00 0,00\\nm on no . 11 n. walk uu mum uescon m cums ustlsu atf<}nnvas mm m vavor mm m nor/1\\n0.00 0 00 0 00 0,00 0 00 201000 00\\nti! ansi\\'ortador/vollmes transpori\\'ai)os\\n1230mm mm (\\'0an mm mm mm m mm up (may\\n9 - scm frau:\\n_\\ndados no produto/servi o\\nm comm-1m agamiammmnxci-incin mum a xsmzsa 59113 1m loam 2n ammo zunuw\\namm mmmx,\\nm1..1w2mma= mam a: 1015- v1\\ncomm i: as gunman m mum. m\\nwgundni; vr rncuksos mm vinmas ms\\nounrmms u gm; vi\\'frdite\\nmmmmmx do cmentoaquinvtch\\n1 mm 60 mm;\\nm\\n11 a\"; 6 f5\\n1% e; 33va v r e\\nre w w 1044/)\\na , 1, m i ,1- *-\\n1 , 7\\' ,\\n, 1 a i, a ,.\\neli-001;: - 1 / , 1;:\\n.r 7 i\\n1 a 014 ~r\" j\\n.v :--. 77 _,/\"/\\ncalculn uo issqn\\nvawhonldns anws mmmcum nmwm valur do um\\n0762315600106 20.000 00 20,000 00 1.000 00\\ndados adicionais'),\n",
       " ('../data/receipts/3074/2016/5942670.png',\n",
       "  'uchemas de\"? rummmnlmuma mmu} fda 0: punnlwsrxvlcm constavtfs da van fcherhlrm\\\\ao lan him\\nn 000.002.0149\\nmu m mmwm mmwmm l amman w mama ,\\nserie: 1\\nd anfe mmm mmm\\nu\"ci\"\"gfi tfitflwm illlllllllllllllllllfllllllllll|||l||illllllllllll|?l|||\\\\|l||l\\\\||||\\\\|fl|\\n1512 a men\\nltda o - entrada\\n1 , sam cmvznmssm\\na 5m 0315 am am 0130 ssuo man now 1919 am nuns\\nseups 714/914 cunjllnla d, 4| - saln 507 park - ass ml. brasilia, n, 000\\'002\\'019 consulla de auwmicidade no portal nacional da\\ndf - cep: 7039016  font/f2123345749 serie: 1 nye wwwnfefumugovbflpomg 0., no sm\\npegina 1 de 1 da sefaz autorizadora\\nnaturha in airman rmrumm de autorwacao de uso\\nservicos graficos 353l6|wfl264619 -io/i]3l101613:15\\n\\\\nslric/ko fstadual \"5:ka estadualdosubs\\'k ma (\"nh\\n0759901500130 15.063.439/0001-30\\ndestinatarlo/renfl-ziente\\nmemo sucuu. mm; mm m mssxu\\nabel mesquita junior - gabinete deputado federal 182865852-91 10/03/2016\\nammo mmmsmm um am as enmm/sum\\npalacio do congresso nacional anexo iv, plano piloto 70000-000\\nmunlcle mnliax lr wscucio wei/mun. ora de {mlana/smda\\nbrasilia df\\n fatura\\npagamento a vista\\ncalculo no mrosm\\nmm cu rum novcms vucl no mm mm mom mum vamu dokmsst mm wul.mswnaunus\\n0,00 0,00 0,00 0,00 0,00\\nmax no mm; mm: no smuko mama 0mm risnsxs mums mm mu m\\n0 00 0 00 0.00 0 00 0 00 30.000 00\\ntransportabor/vdlumes transportados\\nm05041. , mmmm which my mm [70 mm w rwucrf\\n9 , sm frcu:\\ndados dd produto/serv\\'i d\\nm mmmmvo varlamfntar no mum mm 5, un mmam ,me 30mm\\nabel moum n: 00\\nmm) dl zols , ths mum\\ncmms impressao de momma\\nmumm-ax mm x new: raw an a4.\\nm cones mm couche n55. bonk/mo.\\nunmet e grampeado\\n/  i,\\ni l a\\n, r ,7 v/\\n, l. ,22/4/\\neffli  o\\na:  w\\n. \\n\\\\\\ncalculo no issqn\\n0759901500130 30.000 00 30.000 00 1.500 00\\ndados adicionais\\ninform/wars complemenvakes ktsblvadu .ko eisco\\neanco 30 erasil ag: 34 [09 c/c: 40 . 030*0'),\n",
       " ('../data/receipts/3074/2016/5959453.png',\n",
       "  'am a: may a man-n i ozmmmmwecmofl nf: 000003674\\ndan fe\\n3. a. pmoleo no; n aim\\nav. major williams, 436 m: fsal imam: {\\n5a0 pedro 300 visa , .\\n. rr telefmle/fax: 9536244025 saida\\n. cm 69306705 1 =m=mwmm~wuuxmmmmmwmsmmwu a\\n\\' \" \\',357 me 0203 5259 1700 0170 55001000 0035 um 0000 am\\n55111:: on:\\ne 1 of 1 consults de amenficidade no portal nacional da nf-e\\n. 9 www.mejazendagov.hrlponal nu no site da selaz\\n\"www  aulolizadora\\nlang doc fiscal registrado em edp . as\\nmscm . mm m: emwunosu-suwrommnm aw \\' mommmcm . 0505:\\n240091453  01525.317/0001-70 31415000055310! 1110112010 15:45:40\\nnasnuuamo/nsnsrsurz\\nnd mm 12:!ch mum , n .\\nabel salvador mesourra junior 10205555291 31/05/2013\\neunileco may: 02: mm m\\nrijuscelino kubistschek, n 57 sao pedro 59306605 -\\nmum: m warm mama.\\n. fa\\'uraidupuca\\'a\\ncalculd no imposto\\nmain: cmmm vuonbomms magma-mum van-1 uolculsuamw . mammmmm\\nyuan nails-e vmdrdgieeuro \\' m0 www vmbrdow . ml forum nun\\ntransportador/vdlumes ymnsporyadds\\n, mm mum. w...\" annvscum\\nmm\\n, abel salvadormesduitajqnlor humus-1 m\\nendereve \\' \\' -\\' - \\' warm visumm,\\nmuscamoxumscms _e .ssuo\\ndabos do vruduyoisekvico\\n_-aafimwmmmnfim\\n5051mm camum 7101259 . l 521 3,9 2003,47 0,00 0.0 am\\ngasouna pei-remus em: 7101259 1.. .- 1 502 2.9-- 2007.09 0.00 0.0- 0,00\\n  .12 3\\n(  32 \\\\ x\\n\\\\ \\' 1 \" \\' \\\\ .5 1 ; /\\n\\\\ j} \\nc \\' \\' .4 ; ; \\n_  q\\ncfllculo no 1550\\nmen mam mumm wxium 01:505me umkmlssan\\nadds adkcxonms\\nnpmcssmmwms\\nufanaxd757, palio-nahesas, sandero-naumcm. sandergnax8925 refere\\nnte a0 mes de marco.\\n- referente cupom(ns) fiscalus): 265320\\nfauna pagto: d|nheiro'),\n",
       " ('../data/receipts/3074/2016/5962590.png',\n",
       "  '7\\'*\"\"er-finrflv-nr-vnvwwann_-,v_-_,.,_,v,,,3 ;vv.;v.,::_.v.i .--aran~.vw:_~:.-,w_-:,\\nv \\' v f i y ,, nota fiscal deservicos\\nlo} ids comunicacoes del\\nlonuscmrmmnunsmmmmmu d . mi durham\\n, dsflcmrnuuplo osrvmm\\ntel.: 613965-0172 00091\\nuuaura mm a comuum ms 4:5: 71120034 xeunuu sill-3w \"vb\\' ww2\" fwjmneww\\n[wlmwelw\\'eflrflj\\n?f\\'f:\\'ei?m4meg620m aasz \\' - a\\ne . , . \\'\\n,,\"t::m@zgfim ailifla; 1311299211, ans}\\nclaude: i ur- j~ fone\\' _\\neqqml 1 1 321:. ,.\\nv mums/c. ,,\\n, 1.1. 3521-61 .\\ncanada pagimenlo: \" dita a mi 55\\nmw, , . eelw wheem\\nprgcoernstluln dc duns: flu emu-umscsmammm main-m4! (ienmbitn\\'fli-e isllfnmflwmdlgr/vw\\nm \\' m\\nt, . .4 , .47. .11. :1\" 1:.; an riflmfithf\\n1 ww 6a: .1 \\'. _ 5\\n.1105: o muwmgiwm :m: - -\"\\ni __ i\\na 11 1 ; mamm :-  a .-\\nugzsmovq . - - - .-\\n/ j\\n,_~:= 11.141 12 n 1m. 0 -\\nflo\\\\p jv. 51- 1? 1r 3: 41\" tum: -\\n7 m 5: ,fia\\'e! if: a 8 e! h\\n. , 4 v 7* a\\n\" [91175 seiiv \\'0 14?.  5\\nv mamm. v.v.,_ 17\\'; f \"  4 ,l _\\ndeduglmslngws v fiffe \" 0 total wee\\ntom fxscal subcou v.1:(uw0 lss ie esfi incluidu no prego i service\\n\\' ijfififififi-me-lfief-rmmms/mmmm immuawpmmnemtams-mrr 14125101991016\\nrecebl (emas) de ldti\\'us consultorm pesguisas emanketim; eireli, as services nornlaaeleaal i ~ \" i\\nconsrames desla nola flsrzl modflo 3.\\n00001\\ni i '),\n",
       " ('../data/receipts/3074/2016/6011308.png',\n",
       "  ', nf-e\\n data no new dentafica an m n\" 000000.533\\npioneiro combustivel dan\\'fe\\ndocumenm auxnlmr dn\\nnata fiscal elzmmica\\n -en_trada 1:1 wnwmsm ,\\npraca santos dumont: 100 - aeroporto - boa vista- \\' \\' \"3\" 1416 0584 0100 4000 4363 5500 1000 0005 3310 0002 0686\\nrr n\" 000000.533\\nfone\\' (993224-5543 -cep- 69301-006 33m 001 corsuha dc autenlicidade no ponal nacional da nf~e\\nfolha 1,1 www.mramda gawk/portal on no site da sefu autorlzadora\\n\\nmagma m 01>:wa rwrocowvz mumcm :2 us:\\n\\nvenda de comeustivel 0u luerihcantes pl consumi\\'dor final 314160001044786 19/05/2016 15:37:37\\n\\nmscxlcaoesyadual micaoehawaldd momma) c)\\n\\n240236167 34.010.040/00433\\ndestinatario i remetente\\n\\nndme/razad sgclal cnpiicpf data da emssao\\n\\nabel salvador mesquita junior 18236535231 19/05fl016\\nendereed nero/hm leii da\\'ia da sada\\n\\n, a av villie roy, 3942 apareceda 69306405 19/05/2015\\n\\nmumcipyd mm [fax which) esmdual hora da saida\\n\\nboa vista (95)36234)803 14:37.24\\nfatura\\n\\npagamento a v1sta  nflmem - valor onginal: rs 0,00 - valm dmmo: rs 0,00 - va10rl1quido. rs 0,00\\ncalculo no mposm\\n\\nmmmmmm mmm amnecmummltussmsr vmnomsum mwxmm valuhow.z>osvko/7mx>s\\n\\n0,00 0,00 0,00 0,00 71,00 (17,30 \"/01 410,40\\nvaluxnuhme mmmm disc-mm wmmmms mmm mommmm\\n030 0,00 0,00 0,00 0,00 410,40\\n\\ntranspdrtador [volumes transportados \\n\\nnam/mum mammcourn coomom pmanoveleo ur- cwucw\\n\\n9 - sem free\\n__\\n-___\\ndados 170$ pkodutos / servicds\\nw -\\nm-mm-\\nalbomz avgas- 100 2710115! l 50.0110\" 7,6000 510,40\\n(:6!) pkdduto anp, 310mm\\nup a: comma xx\\n\\\\/ 05 m26\\n\\ndados adicionais\\n\\ninform/c025 complemenmres kbervadoaofmo\\n\\npu-lfisv. , (dorms-7,60% 11171- 6.63% ? micianll :12 in- 4.10v, (ell-5,01% teul wm. m! (iems wr pm mlmvdmml: m\\n\\nsuhnnmm tnbulinl)\\n\\n8\\ndata 1\\': hum da wkesslo,1wos/20:su 37 37 ucmyinfomznca(92)]nj-751wed-7826'),\n",
       " ('../data/receipts/3074/2016/6024650.png',\n",
       "  ', a tania 500131 0e energia elemm . tsee 101 cvda 1151010 390400, 25 de 11001 as 2002\\n. 5 n013 fiscal / coma 0e enelgla elelrica . sane 03w! 91,0500 7}\\nfi eieth/bfa wmmsqmww.a0nwm/amaaww , , .\\n-- . p . \\'3 abel salvador\\'mesquita junior   -\\n01:50-00 :30 3:15:33 r. da ingazeira,59 -\\' , .\\nboa vista energia s.a. cacari - . . , c .2 _ \\' j. m- . 3\\nav, capitao ene garcez 091 cef 69.301430 - boa vista - rr 1 j; - \" = f \\ncentre)-boavista-hroep2690301~150 off 71823652852191 ; hg 46517;s$p rr_q4_-01-bo -\\ncnfj:02.341 0170/0001 1e: 240070223 fl - ,\\natendimenlo: 03007019120 www,ele1robrasmraima.com fierdpgptata 59151 mmsg; 1p codi-o unlco\\nouvidoria: 00000951152 (07nao\\'min as 17h00min) \\' #:wwe fit-iwmm *1 \\\\ 0006978-7\\nem1srsfigr dam lemma amerinr pgga leimm amal data 1315x5112. leilma dias de 0011me 7 amen/1121050  m55. anvado \\n0205/2010 29/04/2010 . 31/05/2010 . 30/06/2016 - 7, :12 7 7-, , 03/05/2010,, ,, 05/2015 _\\n, 090.511. muss/subclassa ,7 092195117 , 7 jogs . fonna anramemo mulivo fd ._ , mama/9 fd \\n1.1.1.2 \\', res/dencial normal  bifasica 7 \\' 9.1716063, normal , , w, .  p\\nm30100: leif. amal leil. anwnov comma fanur. nfl 00115.an cons. fatuyado\\ncansumo 15200010 49687 49534 1.00000 6 153 153\\nh1snsnca kwn comm gdatarila hens fmrartas 131. sam 1111211510: valor\\n0412015 555 tusd (\\'1 20.30 consume 153 1011-. a 0,349000 0.209150 52.51\\n03/2015 1215 te (\\') 21,00 correcao monetaziapa n. publica 03/201500 0.07\\n02/2015 277 transmisseo 0,00 correceo honeteria ig\\'pm 03/2016-00 205\\n01/2015 7372 encargos 2,97 multa for atraso de 11, public-a 03/2016-00 0.53\\n12/2015 7436 tnbulas 9,16 juros de hora po: atraso be 11. publica 03/2015-00 0.17\\n11/2015 334 11nsn.10n00.~m.n._..2m.y._ua., malta for atxaso 03/201540 11.77\\n10/2015, 505 autos de hoxa de imporce / servigos 03/2015700 4.2:\\n09/2015, 324 total de encargos 33.30\\n00/2015. 147 total de devolucaes 22.32\\n07/2015 150\\n00/2015 7\\'39\\n05/2015 7 0 %\\nmama pis/pasep- 0,00 i/az a a r: l\\' 2, 9 s :27:\\n1zmeses 304 cof1n5031464%-0.07 /g1; 51% \\'1 a: , 5\\'\"; figg egg\\n_ _ x _,  m 11 \\\\\\n.tim 2%13g 25.11;; ee\\nh \\' 5 z 1 -* a d u \" \" g,\\ninduce/1011;: de conllnuldnde: 03/2015 , 2 2  3 \\'1| eng 0 1\\'5] 32\"; a . iii\\n91:. ._.,12-qent,r0 6050: 110139.73 1 mas/ana :7: g g \" 1 wag a; 11 g; 8 a 1 ,\\nmeta mensa/ reahzadn tyirnegral anual 1 04/2015 m g 0 s 1 -. g 31 < 1\\', ,2 r; g, z  \\'\\ndic- \\' 5.57 __ 10,21 11,34, 22.65 i ; 1 \"n 2% \\'1 a 5. 7,11, 0: g 3,)\\nfig , 4.11 0,00 7775.20, 15.47 | . fig $1 9 31121: g wee _ ,\\ndmior 5.25 ,7 0,40 2,. 3.29 73.29 g d 33 p 1 35 m :1, 3 a 3 \\'23 e; *\\nnotificacm de\\'conta vencida 2 t e; 8 5 g g rzn 11 \" 1; m g g a m:\\nas 1:101:15 :0 15110 relacianadas enmnuamee sem qullaoio 115.21 3 a 1 g g g; 1. a 53. p g a;\\na suspensao de 1orneci1nenm d3 energia elelrica a ass. fluids? 5\\'- 9; \\'. g 5: 11 11 5 g g\\nconiorme art. 173 da resolugio aneel 41020100 n50 lug-mamz f. a 1 g g 351 5 => 5 fr.\\niambem n1nc1usan do consumidor no spce serasa. caso is 12.11 1 . 1 q- 69 11 2. g; a m\\ngamenla, desconsldere 2519 ivisa. 3 q 2 \\\\1 w 11 .: 2 g \\'1\\n._ . w 2+ _ 1 a 1\\n=> declaramps quitadas as debilos 00 am: de 2015(lgi 1201 m g 1 w a, 11 e? \\'3 e -\\n:>_>tensa_o com/2120a 72sz faixa adgqyada - 2002 231v , 9, :1 . a: g 1 m 1 u 1\\n=>gem cast: de sinzomasda dengue, chikungunya au zikggiriia-z g l\". 1 g g g p. :3 3\\n=> e[vu;os de 1erce1ros em sua famra (lbv) podera\\' ser cancel: 2 i 1 3   1*. \\'53 3::\\n=> ligue para 05001010120 ejaga opgao de vencimemo de 502. g g 1 g, g g 9 51 g 2. g:\\n- 1 :> s a: 3 11 n s r\"\\n. . . . . _. 7\\nm v 2. a 51 0|  , , , v ,\\n,, _ ,. ,, , ,,. u1 . . .. .r ,:,\\n=> as info/megees sabre as condifies gerais de vomecinienm. ian/as,\\'piodu1os. servigos pres\\'tado\\'s e 1ribufes 52 ennontrar\\'n a  \\' \\'\\ndisposigeo dos consumidores, para consulta. nus poslos de atendimenlo 9 na pegina da imernel desla dislribuidora.\\n3525509 0510110 ,. min-1913 , 721010019515 _ - : . v, . , -...\\n_ 53,51. 17,00 , $.09 , 11/06/2016 \\\\ r$ 64,57\\nreservada ao eisco \\'\\nf6e7.ce57.def4.7577.6257.ad94.360a,casc 4413\\n. . facilite sua vidal evite mas a multas! autorize o\\na ele*rabr 5 1.100110 de sua 007113 119 engrgla em sua coma bancarla.\\n.. _, : .aj a, 2 codlgo para deblm aulomafico: 0006973-7\\nboa vista emergjksea1 flu/e11 j3\\n, uc mesfamvado n0.fd tc , 2. .  . . . ,\\n00069787 05/2016 00 \\'8 .7 11/06/2013 r3 64457 f ,\\nmmmmmmti fl flififim 5 000000000057 970705150011 11'),\n",
       " ('../data/receipts/369/2014/5548467.png',\n",
       "  '\\\\ /\\nmm fourk - r.u.t.213639900016\\npoints __ vi}u.:[.acvomphador c.final\\nav sheraton , four) \\' \" \" \\' \\'  \"\\nkai-55\"\" points\\nm him may wm by shermon fl\\nejidn 1215, gp 11.11. mm, uruguay .._.._.-\\n1h: (assummm/m: (mmmw mm . .  . a :\\nwwxfmmnkmmlmmwdz\\' b , v \"\\'\\njulio jose de campos\\n$05 3 el 1 aptc 602\\nbrasilia rs 90548300 documemo/ fem points montevideo, 11-1144\\n(mamas de la venn: pasapane: dem-1446 208 rpais\\nfecha oompmbama \\' mam _ mono: 5.154..\\ndan charge code reforms dzbm  credib-\\nalojamiemo 315,00\\nminibar ~ 1:: _.:\\\\ 1\\'  \":-- \\\\w 3\\'50\\n \\\\cx   , \\\\n \\\\ ,z\\nmastercard  n n. x; ; 3 1: )j \\\\k/ j 318.50\\n,,: vii-i\"\\n: xxx/ix / 0, 0 w\\n\\\\ x57\\'flkiil, ; :\\\\\\\\ ;\" v 5\\n; wyn fr: 1 =1 ;\\nif \\'x; \\'v 1 :1 1\\'? h v\\na j; 3 5 73 li\\n0 d/\\n ,, v a :\\' lam  a k n  at a;\\n0\\n\\nsubtotal 31850\\nel ummu saldu :5 a vmpcme mmm momma\" en comm-in 0\\nl351 edam is amount due momenta inflicaled  no taxahle\\n035mm; san fagsflernaswfin/ell: are payamswmn pris-med. ;  total 10% na 000\\n1 , total 22% {va 0.00\\n, eee\\'::-:!,,t, ..-= \\':i\\n\\\\ w __\\n3 room , gum 3\\n , . firma/mgnmm\\n omsuams 1,\\n ovum/m ?\\ncame. 5 .\\ndwi, i equnalen 3 7686036 pesos, solo a efectos fiscales.\\ne \"\\'hie\\'e lvilaldikcilmuscaeciafij-ll~hu121219547006 j; wwitwwh , sfi\\'kla/fi\"\\'9\\' ,\\n.--r5--- : wusmucuwmmromszo\\ne pjewp-12/2ij|3~seriem7&bsiammuoxz www 0811\\'14 11-11-14\\nfignk iwnamwrmwm 25/12/2015\\neixlfi; a 186994 originalcliente\\n. i'),\n",
       " ('../data/receipts/80/2016/6081492.png',\n",
       "  'rum. wlvl n \\'11.th\\nniugel \\' 4m! .ldj. iaiiqu-nn\\nhdd. v li\\'hm u 1;\\nmarlyn 1 u irla .. \\'. | \\' 1l\"\\nnh. .iill\\'uufibljh\\n1w == 1mg:\\n,1\\nill; \\\\l.\" in\\n, 7,, vh1\"; minijp ,\\n\\\\ consumo hnal \\\\\\nmun lhitzjhu irflfi \\\\ w\\nw h \\\\ ln\\n wk! h i u \"ka ii uli\\nu\".hh1\\\\|-\\\\, j\\nruai \" :j nia .7 nu\\n. mgm.\" nhv karl\\nhen w lu] hm ymiivj\\n\\'.\"n [hjhu n a .\\n1 all th.\" oh hi euj u\\nq 1 week, m u i dh\" 1 i\\njun-l- :lfinl !..a .\"ll m\\nu dxa . - i j n \\'9 in\" il.\\nlvk ,.h 3.\\\\: 5.1\\nhaul juli-db\\ntotal; 9313,00\\n. .. ,. puz.,mm 77.-.. r,\\nmrwd r. 4 [ml h,l \\'!_\"ij\\nauth 119\" nut-1\" \\'3 t mhl r\\nmnu jr mm mm v,-1\\'~u--i-l.\\n\\'hl fun mx\\n\\' ** \\' hun-hi , , , ,,,,,,,,\\n(\\'2\\' .. -4 -_\\ne! -\\'i :{gflkm\\n..\\'. ff gyaggfe\\ny;- r. -- v. -. -\\n2 ; 2} .ji_-1h-.\\' .\\n.u u , \\'01-; an\\n:1: 451+ 3 : i\\n-1\\' \\'- \\'... 3-\";\\nr. -. gag-$55-\\nlil  us-t-rwiay\\n nil-hmh\\' , ljl==rli t-mt-z\\nkuu hm >l,\"1.2.\\'!-\\ninfluwalhca- w. wr,u.;:d..lp an\\nmm, m1; u rm. chan-um\\n\\'.\\'<1 alhfi\\nn.) -.u vaunflrnbfl\\ny-mmn v mil\\' 1mm;- \\'wm r\\n[ fa was jr: \\\\ruflnmflcmlfi ll 23706 ve }'),\n",
       " ('../data/receipts/974/2015/5696172.png',\n",
       "  'r.u.t. 21 377847 0010\\n4&0yel4q? ,\\n9 u \" ,, hu.t. comprador\\n\\\\ w. v\\niifi.h~. _ x\\nrisnulmm pikanor\\nrameumahitmaganwiwd\\ntel: 2710 am contado\\nmomzvmao ;_ ..\\ncltente \\ndireccion\\nfecha 18/05/2015 mesa 77a 17\\nhora 04:01:39 pm\\n1 cuaxsmos $8l00 580,00\\n1 lenguado al roquefort $45.00 545000\\n1 sin gas , $7i.00 $70.00\\nee\\n2.\\nmz\\ne? \\'\\nas\\n:3 i\\n38 w\\nf\\n23 ,\\n8\\ne\\na \\ns v}\\n\\nf rm depag\\n3g 0 a 0 subtotal 5491.30\\n=c< \\nf \\'-v\\'a- 3103.20\\n:g total $500. on\\nj\\n el . *-\"\\'\"ei servicio atencion al cliente: 2709 8446\\nag; i\\'ll t: .\\n58:15. \"\" \\'.\\'.\\n:43: \\'5\" 1t 12\\', original-clients\\n23% 494315;}? nouns a n 437006\\n$4- - . .fl venomento u\\nz : a. - .\\n:gg3 e \\' -\"-- 29/06/15')]"
      ]
     },
     "execution_count": 58,
     "metadata": {},
     "output_type": "execute_result"
    }
   ],
   "source": [
    "from pytesseract import image_to_string\n",
    "\n",
    "receipt_paths = glob.glob('../data/receipts/**/*.png', recursive=True)\n",
    "\n",
    "def image_to_text(input_path, psm='6'):\n",
    "    print(input_path)\n",
    "    return image_to_string(Image.open(input_path),\n",
    "                           config='-psm {}'.format(psm))\n",
    "\n",
    "def contains_keyword(text):\n",
    "    return any(key in text for key in keywords)\n",
    "\n",
    "\n",
    "sc.parallelize(receipt_paths) \\\n",
    "    .map(lambda path: (path, image_to_text(path))) \\\n",
    "    .mapValues(normalize_string) \\\n",
    "    .filter(lambda path_text: contains_keyword(path_text[1])) \\\n",
    "    .collect()\n",
    "#     .map(lambda path_text: path_text[0]) \\"
   ]
  },
  {
   "cell_type": "code",
   "execution_count": 68,
   "metadata": {
    "collapsed": false
   },
   "outputs": [
    {
     "data": {
      "text/plain": [
       "['data/receipts/116/2016/6075041.png',\n",
       " 'data/receipts/116/2016/6118710.png',\n",
       " 'data/receipts/116/2016/6118774.png',\n",
       " 'data/receipts/116/2016/6143705.png',\n",
       " 'data/receipts/116/2016/6143722.png',\n",
       " 'data/receipts/116/2016/6143805.png',\n",
       " 'data/receipts/1567/2015/5820134.png',\n",
       " 'data/receipts/1607/2015/5768892.png',\n",
       " 'data/receipts/1607/2015/5768908.png',\n",
       " 'data/receipts/1607/2015/5768916.png',\n",
       " 'data/receipts/1607/2015/5768918.png',\n",
       " 'data/receipts/1607/2015/5777285.png',\n",
       " 'data/receipts/1793/2015/5740575.png',\n",
       " 'data/receipts/1818/2016/6016139.png',\n",
       " 'data/receipts/1818/2016/6016146.png',\n",
       " 'data/receipts/1922/2014/5472303.png',\n",
       " 'data/receipts/1922/2016/5987274.png',\n",
       " 'data/receipts/1932/2015/5799670.png',\n",
       " 'data/receipts/1932/2015/5875535.png',\n",
       " 'data/receipts/1932/2015/5875568.png',\n",
       " 'data/receipts/2347/2016/6076615.png',\n",
       " 'data/receipts/2900/2016/5981081.png',\n",
       " 'data/receipts/2900/2016/6035688.png',\n",
       " 'data/receipts/2910/2015/5802176.png',\n",
       " 'data/receipts/2910/2015/5802179.png',\n",
       " 'data/receipts/2949/2015/5680384.png',\n",
       " 'data/receipts/2977/2015/5803734.png',\n",
       " 'data/receipts/2982/2015/5825523.png',\n",
       " 'data/receipts/3048/2015/5808134.png',\n",
       " 'data/receipts/3053/2015/5794338.png',\n",
       " 'data/receipts/3074/2016/5914461.png',\n",
       " 'data/receipts/3074/2016/5914471.png',\n",
       " 'data/receipts/3074/2016/5914601.png',\n",
       " 'data/receipts/3074/2016/5942670.png',\n",
       " 'data/receipts/3074/2016/5959453.png',\n",
       " 'data/receipts/3074/2016/5962590.png',\n",
       " 'data/receipts/3074/2016/6011308.png',\n",
       " 'data/receipts/3074/2016/6024650.png',\n",
       " 'data/receipts/369/2014/5548467.png',\n",
       " 'data/receipts/80/2016/6081492.png',\n",
       " 'data/receipts/974/2015/5696172.png']"
      ]
     },
     "execution_count": 68,
     "metadata": {},
     "output_type": "execute_result"
    }
   ],
   "source": [
    "[x[0][3:] for x in _58[13:]]"
   ]
  },
  {
   "cell_type": "code",
   "execution_count": null,
   "metadata": {
    "collapsed": true
   },
   "outputs": [],
   "source": []
  }
 ],
 "metadata": {
  "anaconda-cloud": {},
  "kernelspec": {
   "display_name": "Python [serenata_de_amor]",
   "language": "python",
   "name": "Python [serenata_de_amor]"
  },
  "language_info": {
   "codemirror_mode": {
    "name": "ipython",
    "version": 3
   },
   "file_extension": ".py",
   "mimetype": "text/x-python",
   "name": "python",
   "nbconvert_exporter": "python",
   "pygments_lexer": "ipython3",
   "version": "3.5.2"
  }
 },
 "nbformat": 4,
 "nbformat_minor": 0
}
