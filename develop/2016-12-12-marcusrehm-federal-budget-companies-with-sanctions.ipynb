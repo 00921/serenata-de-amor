{
 "cells": [
  {
   "cell_type": "code",
   "execution_count": 1,
   "metadata": {
    "collapsed": true
   },
   "outputs": [],
   "source": [
    "import pandas as pd\n",
    "import numpy as np"
   ]
  },
  {
   "cell_type": "markdown",
   "metadata": {},
   "source": [
    "### Amendments with Federal Budget"
   ]
  },
  {
   "cell_type": "code",
   "execution_count": 50,
   "metadata": {
    "collapsed": false,
    "scrolled": true
   },
   "outputs": [
    {
     "data": {
      "text/plain": [
       "(81169, 10)"
      ]
     },
     "execution_count": 50,
     "metadata": {},
     "output_type": "execute_result"
    }
   ],
   "source": [
    "amendments = pd.read_csv('../data/2016-12-22-amendments.xz', dtype={'proposal_id': np.str,\n",
    "                                                                   'amendment_beneficiary': np.str,\n",
    "                                                                   'amendment_program_code': np.str,\n",
    "                                                                   'amendment_proposal_tranfer_value': np.float,\n",
    "                                                                   'amendment_tranfer_value': np.float})\n",
    "amendments.fillna('', inplace=True)\n",
    "amendments.shape"
   ]
  },
  {
   "cell_type": "code",
   "execution_count": 51,
   "metadata": {
    "collapsed": false
   },
   "outputs": [
    {
     "data": {
      "text/plain": [
       "proposal_id                                                      588275\n",
       "proponent_qualification             parliamentary amendment beneficiary\n",
       "amendment_program_code                                    5100020120077\n",
       "amendment_number                                               31250010\n",
       "congressperson_name                                    ANTONIO BALHMANN\n",
       "amendment_beneficiary                                    07535446000160\n",
       "tax_indicative                                                       no\n",
       "congressperson_type                                          individual\n",
       "amendment_proposal_tranfer_value                                 292500\n",
       "amendment_tranfer_value                                          292500\n",
       "Name: 0, dtype: object"
      ]
     },
     "execution_count": 51,
     "metadata": {},
     "output_type": "execute_result"
    }
   ],
   "source": [
    "amendments.iloc[0]"
   ]
  },
  {
   "cell_type": "markdown",
   "metadata": {},
   "source": [
    "### Agreements made with Federal Budget"
   ]
  },
  {
   "cell_type": "code",
   "execution_count": 124,
   "metadata": {
    "collapsed": false,
    "scrolled": true
   },
   "outputs": [
    {
     "data": {
      "text/plain": [
       "(105276, 5)"
      ]
     },
     "execution_count": 124,
     "metadata": {},
     "output_type": "execute_result"
    }
   ],
   "source": [
    "agreements = pd.read_csv('../data/2016-12-22-agreements.xz', \n",
    "                         usecols=(['agreement_number', 'proposal_id', \n",
    "                                   'agreement_end_date','date_signed', 'situation']),\n",
    "                         dtype={'agreement_number': np.str, \n",
    "                                'proposal_id': np.str,\n",
    "                                'situation': np.str}, \n",
    "                         parse_dates=['agreement_end_date', 'date_signed'],\n",
    "                         low_memory=False)\n",
    "agreements.fillna('', inplace=True)\n",
    "agreements.shape"
   ]
  },
  {
   "cell_type": "markdown",
   "metadata": {},
   "source": [
    "#### Agreements related to amendments"
   ]
  },
  {
   "cell_type": "code",
   "execution_count": 125,
   "metadata": {
    "collapsed": false,
    "scrolled": true
   },
   "outputs": [
    {
     "data": {
      "text/plain": [
       "amendment_number                                                  81001455\n",
       "congressperson_name      COMISSAO MISTA DE PLANOS, ORCAMENTOS PUBLICOS ...\n",
       "amendment_beneficiary                                       11354180000126\n",
       "date_signed                                            2016-01-02 00:00:00\n",
       "agreement_end_date                                     2018-09-29 00:00:00\n",
       "agreement_number                                                    818977\n",
       "situation                                                      Em execução\n",
       "Name: 0, dtype: object"
      ]
     },
     "execution_count": 125,
     "metadata": {},
     "output_type": "execute_result"
    }
   ],
   "source": [
    "agreements_with_amendments = agreements.merge(amendments, on='proposal_id')\n",
    "agreements_with_amendments = agreements_with_amendments.filter(['amendment_number', 'congressperson_name', \n",
    "                                                                'amendment_beneficiary','date_signed', \n",
    "                                                                'agreement_end_date', 'agreement_number', \n",
    "                                                                'situation'])\n",
    "agreements_with_amendments.iloc[0]"
   ]
  },
  {
   "cell_type": "markdown",
   "metadata": {},
   "source": [
    "### Impeded Non-Profit Entities\n",
    "\n",
    "This dataset gather Non-profit private entities that are prevented from entering into agreements, onlending agreements or terms of partnership with the federal public administration.\n",
    "\n",
    "Origin of the information: Controladoria-Geral da União - CGU (Comptroller General of the Union)"
   ]
  },
  {
   "cell_type": "code",
   "execution_count": 57,
   "metadata": {
    "collapsed": false
   },
   "outputs": [
    {
     "data": {
      "text/plain": [
       "(4591, 5)"
      ]
     },
     "execution_count": 57,
     "metadata": {},
     "output_type": "execute_result"
    }
   ],
   "source": [
    "impeded_non_profit_entities = pd.read_csv('../data/2016-12-20-impeded-non-profit-entities.xz', \n",
    "                                              dtype={'company_cnpj': np.str,\n",
    "                                                     'agreement_number': np.str})\n",
    "impeded_non_profit_entities.shape"
   ]
  },
  {
   "cell_type": "code",
   "execution_count": 58,
   "metadata": {
    "collapsed": false
   },
   "outputs": [
    {
     "data": {
      "text/plain": [
       "company_cnpj                                            00002444000166\n",
       "compay_name          SINDICATO REGIONAL DOS TRABALHADORES E TRABALH...\n",
       "agreement_number                                                629097\n",
       "grating_body                     MINISTERIO DO DESENVOLVIMENTO AGRARIO\n",
       "impediment_reason              INEXECUÇÃO DO OBJETO (TOTAL OU PARCIAL)\n",
       "Name: 0, dtype: object"
      ]
     },
     "execution_count": 58,
     "metadata": {},
     "output_type": "execute_result"
    }
   ],
   "source": [
    "impeded_non_profit_entities.iloc[0]"
   ]
  },
  {
   "cell_type": "markdown",
   "metadata": {},
   "source": [
    "#### First we need to get the agreement in which entities were impeded:"
   ]
  },
  {
   "cell_type": "code",
   "execution_count": 126,
   "metadata": {
    "collapsed": false
   },
   "outputs": [
    {
     "data": {
      "text/plain": [
       "company_cnpj                                          08366579000112\n",
       "compay_name           INSTITUTO CULTURAL AFRO-BRASILEIRO OLUFON DEYI\n",
       "impended_agreement                                            748628\n",
       "date_impended                                    2011-07-06 00:00:00\n",
       "grating_body                                PRESIDENCIA DA REPUBLICA\n",
       "impediment_reason                            MOTIVO NÃO ESPECIFICADO\n",
       "Name: 0, dtype: object"
      ]
     },
     "execution_count": 126,
     "metadata": {},
     "output_type": "execute_result"
    }
   ],
   "source": [
    "impeded_entities_w_start_date = agreements_with_amendments.filter(['amendment_beneficiary', \n",
    "                                                                   'agreement_number', \n",
    "                                                                   'agreement_end_date']\n",
    "                                                                       ).merge(impeded_non_profit_entities, \n",
    "                                                                               left_on=(['amendment_beneficiary', \n",
    "                                                                                         'agreement_number']), \n",
    "                                                                               right_on=(['company_cnpj', \n",
    "                                                                                          'agreement_number'])\n",
    "                                                                        ).filter(['company_cnpj',\n",
    "                                                                                 'compay_name',\n",
    "                                                                                 'agreement_number',\n",
    "                                                                                 'agreement_end_date',\n",
    "                                                                                 'grating_body',\n",
    "                                                                                 'impediment_reason'])\n",
    "\n",
    "impeded_entities_w_start_date = impeded_entities_w_start_date.rename(columns = \n",
    "                                                                     {'agreement_end_date':'date_impended', \n",
    "                                                                      'agreement_number': 'impended_agreement'})\n",
    "impeded_entities_w_start_date.iloc[0]"
   ]
  },
  {
   "cell_type": "markdown",
   "metadata": {},
   "source": [
    "Because the dataset doesn't gives the date when the entity becomes impended, we are are using the end date of the agreement where the entity was impended as a minimum date called here as **date_impended**.\n",
    "\n",
    "So **date_impended** means that we are concerned only with agreements signed after this date."
   ]
  },
  {
   "cell_type": "code",
   "execution_count": 130,
   "metadata": {
    "collapsed": false,
    "scrolled": true
   },
   "outputs": [],
   "source": [
    "agreements_after_impended = agreements_with_amendments.merge(impeded_entities_w_start_date, \n",
    "                                                                   left_on=(['amendment_beneficiary']), \n",
    "                                                                   right_on=(['company_cnpj']))"
   ]
  },
  {
   "cell_type": "markdown",
   "metadata": {},
   "source": [
    "#### Now we can query the agreements signed after the entities were impended\n",
    "\n",
    "Below we have a list of agreements that are still in execution and are related to the amendments that have as beneficiaries non-profit entities that are impeded. In addition, the difference between the date of signature of the agreements in execution and the date of entities disability is less than 2 years."
   ]
  },
  {
   "cell_type": "code",
   "execution_count": 131,
   "metadata": {
    "collapsed": false,
    "scrolled": false
   },
   "outputs": [
    {
     "data": {
      "text/html": [
       "<div>\n",
       "<table border=\"1\" class=\"dataframe\">\n",
       "  <thead>\n",
       "    <tr style=\"text-align: right;\">\n",
       "      <th></th>\n",
       "      <th>amendment_number</th>\n",
       "      <th>congressperson_name</th>\n",
       "      <th>amendment_beneficiary</th>\n",
       "      <th>date_signed</th>\n",
       "      <th>agreement_end_date</th>\n",
       "      <th>agreement_number</th>\n",
       "      <th>situation</th>\n",
       "      <th>company_cnpj</th>\n",
       "      <th>compay_name</th>\n",
       "      <th>impended_agreement</th>\n",
       "      <th>date_impended</th>\n",
       "      <th>grating_body</th>\n",
       "      <th>impediment_reason</th>\n",
       "    </tr>\n",
       "  </thead>\n",
       "  <tbody>\n",
       "    <tr>\n",
       "      <th>6</th>\n",
       "      <td>36500017</td>\n",
       "      <td>OSMAR SERRAGLIO</td>\n",
       "      <td>76575604000128</td>\n",
       "      <td>2011-12-29</td>\n",
       "      <td>2017-01-09</td>\n",
       "      <td>756696</td>\n",
       "      <td>Em execução</td>\n",
       "      <td>76575604000128</td>\n",
       "      <td>SOCIEDADE EVANGELICA BENEFICENTE DE CURITIBA</td>\n",
       "      <td>747398</td>\n",
       "      <td>2011-09-11</td>\n",
       "      <td>MINISTERIO DO TURISMO</td>\n",
       "      <td>MOTIVO NÃO ESPECIFICADO</td>\n",
       "    </tr>\n",
       "    <tr>\n",
       "      <th>7</th>\n",
       "      <td>33090023</td>\n",
       "      <td>NELSON MEURER</td>\n",
       "      <td>76575604000128</td>\n",
       "      <td>2011-12-29</td>\n",
       "      <td>2017-04-16</td>\n",
       "      <td>757799</td>\n",
       "      <td>Em execução</td>\n",
       "      <td>76575604000128</td>\n",
       "      <td>SOCIEDADE EVANGELICA BENEFICENTE DE CURITIBA</td>\n",
       "      <td>747398</td>\n",
       "      <td>2011-09-11</td>\n",
       "      <td>MINISTERIO DO TURISMO</td>\n",
       "      <td>MOTIVO NÃO ESPECIFICADO</td>\n",
       "    </tr>\n",
       "    <tr>\n",
       "      <th>8</th>\n",
       "      <td>24050011</td>\n",
       "      <td>LUIZ CARLOS SETIM</td>\n",
       "      <td>76575604000128</td>\n",
       "      <td>2011-12-29</td>\n",
       "      <td>2017-04-16</td>\n",
       "      <td>757828</td>\n",
       "      <td>Em execução</td>\n",
       "      <td>76575604000128</td>\n",
       "      <td>SOCIEDADE EVANGELICA BENEFICENTE DE CURITIBA</td>\n",
       "      <td>747398</td>\n",
       "      <td>2011-09-11</td>\n",
       "      <td>MINISTERIO DO TURISMO</td>\n",
       "      <td>MOTIVO NÃO ESPECIFICADO</td>\n",
       "    </tr>\n",
       "    <tr>\n",
       "      <th>9</th>\n",
       "      <td>10560010</td>\n",
       "      <td>SERGIO SOUZA</td>\n",
       "      <td>76575604000128</td>\n",
       "      <td>2011-12-29</td>\n",
       "      <td>2017-05-15</td>\n",
       "      <td>757915</td>\n",
       "      <td>Em execução</td>\n",
       "      <td>76575604000128</td>\n",
       "      <td>SOCIEDADE EVANGELICA BENEFICENTE DE CURITIBA</td>\n",
       "      <td>747398</td>\n",
       "      <td>2011-09-11</td>\n",
       "      <td>MINISTERIO DO TURISMO</td>\n",
       "      <td>MOTIVO NÃO ESPECIFICADO</td>\n",
       "    </tr>\n",
       "    <tr>\n",
       "      <th>10</th>\n",
       "      <td>33320012</td>\n",
       "      <td>RICARDO BARROS</td>\n",
       "      <td>76575604000128</td>\n",
       "      <td>2011-12-29</td>\n",
       "      <td>2017-05-20</td>\n",
       "      <td>758001</td>\n",
       "      <td>Em execução</td>\n",
       "      <td>76575604000128</td>\n",
       "      <td>SOCIEDADE EVANGELICA BENEFICENTE DE CURITIBA</td>\n",
       "      <td>747398</td>\n",
       "      <td>2011-09-11</td>\n",
       "      <td>MINISTERIO DO TURISMO</td>\n",
       "      <td>MOTIVO NÃO ESPECIFICADO</td>\n",
       "    </tr>\n",
       "    <tr>\n",
       "      <th>11</th>\n",
       "      <td>20380001</td>\n",
       "      <td>FLAVIO JOSE ARNS</td>\n",
       "      <td>76575604000128</td>\n",
       "      <td>2011-12-29</td>\n",
       "      <td>2017-04-16</td>\n",
       "      <td>758030</td>\n",
       "      <td>Em execução</td>\n",
       "      <td>76575604000128</td>\n",
       "      <td>SOCIEDADE EVANGELICA BENEFICENTE DE CURITIBA</td>\n",
       "      <td>747398</td>\n",
       "      <td>2011-09-11</td>\n",
       "      <td>MINISTERIO DO TURISMO</td>\n",
       "      <td>MOTIVO NÃO ESPECIFICADO</td>\n",
       "    </tr>\n",
       "    <tr>\n",
       "      <th>12</th>\n",
       "      <td>31760009</td>\n",
       "      <td>DILCEU SPERAFICO</td>\n",
       "      <td>76575604000128</td>\n",
       "      <td>2011-12-29</td>\n",
       "      <td>2017-03-31</td>\n",
       "      <td>760953</td>\n",
       "      <td>Em execução</td>\n",
       "      <td>76575604000128</td>\n",
       "      <td>SOCIEDADE EVANGELICA BENEFICENTE DE CURITIBA</td>\n",
       "      <td>747398</td>\n",
       "      <td>2011-09-11</td>\n",
       "      <td>MINISTERIO DO TURISMO</td>\n",
       "      <td>MOTIVO NÃO ESPECIFICADO</td>\n",
       "    </tr>\n",
       "  </tbody>\n",
       "</table>\n",
       "</div>"
      ],
      "text/plain": [
       "   amendment_number congressperson_name amendment_beneficiary date_signed  \\\n",
       "6          36500017     OSMAR SERRAGLIO        76575604000128  2011-12-29   \n",
       "7          33090023       NELSON MEURER        76575604000128  2011-12-29   \n",
       "8          24050011   LUIZ CARLOS SETIM        76575604000128  2011-12-29   \n",
       "9          10560010        SERGIO SOUZA        76575604000128  2011-12-29   \n",
       "10         33320012      RICARDO BARROS        76575604000128  2011-12-29   \n",
       "11         20380001    FLAVIO JOSE ARNS        76575604000128  2011-12-29   \n",
       "12         31760009    DILCEU SPERAFICO        76575604000128  2011-12-29   \n",
       "\n",
       "   agreement_end_date agreement_number    situation    company_cnpj  \\\n",
       "6          2017-01-09           756696  Em execução  76575604000128   \n",
       "7          2017-04-16           757799  Em execução  76575604000128   \n",
       "8          2017-04-16           757828  Em execução  76575604000128   \n",
       "9          2017-05-15           757915  Em execução  76575604000128   \n",
       "10         2017-05-20           758001  Em execução  76575604000128   \n",
       "11         2017-04-16           758030  Em execução  76575604000128   \n",
       "12         2017-03-31           760953  Em execução  76575604000128   \n",
       "\n",
       "                                     compay_name impended_agreement  \\\n",
       "6   SOCIEDADE EVANGELICA BENEFICENTE DE CURITIBA             747398   \n",
       "7   SOCIEDADE EVANGELICA BENEFICENTE DE CURITIBA             747398   \n",
       "8   SOCIEDADE EVANGELICA BENEFICENTE DE CURITIBA             747398   \n",
       "9   SOCIEDADE EVANGELICA BENEFICENTE DE CURITIBA             747398   \n",
       "10  SOCIEDADE EVANGELICA BENEFICENTE DE CURITIBA             747398   \n",
       "11  SOCIEDADE EVANGELICA BENEFICENTE DE CURITIBA             747398   \n",
       "12  SOCIEDADE EVANGELICA BENEFICENTE DE CURITIBA             747398   \n",
       "\n",
       "   date_impended           grating_body        impediment_reason  \n",
       "6     2011-09-11  MINISTERIO DO TURISMO  MOTIVO NÃO ESPECIFICADO  \n",
       "7     2011-09-11  MINISTERIO DO TURISMO  MOTIVO NÃO ESPECIFICADO  \n",
       "8     2011-09-11  MINISTERIO DO TURISMO  MOTIVO NÃO ESPECIFICADO  \n",
       "9     2011-09-11  MINISTERIO DO TURISMO  MOTIVO NÃO ESPECIFICADO  \n",
       "10    2011-09-11  MINISTERIO DO TURISMO  MOTIVO NÃO ESPECIFICADO  \n",
       "11    2011-09-11  MINISTERIO DO TURISMO  MOTIVO NÃO ESPECIFICADO  \n",
       "12    2011-09-11  MINISTERIO DO TURISMO  MOTIVO NÃO ESPECIFICADO  "
      ]
     },
     "execution_count": 131,
     "metadata": {},
     "output_type": "execute_result"
    }
   ],
   "source": [
    "agreements_after_impended.query('situation == \\'Em execução\\' and \\\n",
    "                                 date_impended < date_signed and \\\n",
    "                                 date_signed.dt.year - date_impended.dt.year < 2')"
   ]
  },
  {
   "cell_type": "markdown",
   "metadata": {},
   "source": [
    "### Inident and Suspended Companies\n",
    "\n",
    "This dataset gather companies and individuals who have suffered sanctions by the organs and entities of the public administration of the various federative spheres.\n",
    "\n",
    "Origin of the information: Controladoria-Geral da União - CGU (Comptroller General of the Union)"
   ]
  },
  {
   "cell_type": "code",
   "execution_count": 25,
   "metadata": {
    "collapsed": false
   },
   "outputs": [
    {
     "data": {
      "text/plain": [
       "(13084, 17)"
      ]
     },
     "execution_count": 25,
     "metadata": {},
     "output_type": "execute_result"
    }
   ],
   "source": [
    "inident_and_suspended_companies = pd.read_csv('../data/2016-12-21-inident-and-suspended-companies.xz',\n",
    "                                              dtype={'sanctioned_cnpj_cpf': np.str,\n",
    "                                                     'process_number': np.str},\n",
    "                                              parse_dates = ['sanction_start_date','sanction_end_date', \n",
    "                                                             'data_source_date', 'published_date'], \n",
    "                                              low_memory=False)\n",
    "inident_and_suspended_companies.fillna('', inplace=True)\n",
    "inident_and_suspended_companies['sanction_start_date'] = pd.to_datetime(inident_and_suspended_companies['sanction_start_date'], format='%Y-%m-%d')\n",
    "inident_and_suspended_companies['sanction_end_date'] = pd.to_datetime(inident_and_suspended_companies['sanction_end_date'], format='%Y-%m-%d')\n",
    "inident_and_suspended_companies.shape"
   ]
  },
  {
   "cell_type": "code",
   "execution_count": 37,
   "metadata": {
    "collapsed": false,
    "scrolled": true
   },
   "outputs": [
    {
     "data": {
      "text/plain": [
       "entity_type                                                                            Física\n",
       "sanctioned_cnpj_cpf                                                            00001540142817\n",
       "name_given_by_sanctioning_body                                                    01540142817\n",
       "company_name_receita_database                                               FAIAD HABIB ZAKIR\n",
       "trading_name_receita_database                                                                \n",
       "process_number                                                           00001655520138260240\n",
       "sanction_type                                                  Proibição - Lei de Improbidade\n",
       "sanction_start_date                                                       2014-08-09 00:00:00\n",
       "sanction_end_date                                                         2019-08-09 00:00:00\n",
       "sanctioning_body                            Tribunal de Justiça do Estado de São Paulo / 1...\n",
       "state_of_sanctioning_body                                                                  SP\n",
       "data_source                                                      Conselho Nacional de Justiça\n",
       "data_source_date                                                          2015-08-05 00:00:00\n",
       "published_date                                                                               \n",
       "publication                                                                                  \n",
       "detailing                                                                                    \n",
       "Abrangência definida em decisão judicial                                                     \n",
       "Name: 0, dtype: object"
      ]
     },
     "execution_count": 37,
     "metadata": {},
     "output_type": "execute_result"
    }
   ],
   "source": [
    "inident_and_suspended_companies.iloc[0]"
   ]
  },
  {
   "cell_type": "code",
   "execution_count": 219,
   "metadata": {
    "collapsed": false,
    "scrolled": true
   },
   "outputs": [],
   "source": [
    "agreements_with_suspended_companies = agreements_with_amendments.merge(inident_and_suspended_companies, \n",
    "                                                                   left_on='amendment_beneficiary', \n",
    "                                                                   right_on='sanctioned_cnpj_cpf')"
   ]
  },
  {
   "cell_type": "code",
   "execution_count": 229,
   "metadata": {
    "collapsed": false,
    "scrolled": false
   },
   "outputs": [
    {
     "data": {
      "text/html": [
       "<div>\n",
       "<table border=\"1\" class=\"dataframe\">\n",
       "  <thead>\n",
       "    <tr style=\"text-align: right;\">\n",
       "      <th></th>\n",
       "      <th>amendment_number</th>\n",
       "      <th>congressperson_name</th>\n",
       "      <th>amendment_beneficiary</th>\n",
       "      <th>DIA_ASSIN_CONV</th>\n",
       "      <th>NR_CONVENIO</th>\n",
       "      <th>SIT_CONVENIO</th>\n",
       "      <th>entity_type</th>\n",
       "      <th>sanctioned_cnpj_cpf</th>\n",
       "      <th>name_given_by_sanctioning_body</th>\n",
       "      <th>company_name_receita_database</th>\n",
       "      <th>...</th>\n",
       "      <th>sanction_start_date</th>\n",
       "      <th>sanction_end_date</th>\n",
       "      <th>sanctioning_body</th>\n",
       "      <th>state_of_sanctioning_body</th>\n",
       "      <th>data_source</th>\n",
       "      <th>data_source_date</th>\n",
       "      <th>published_date</th>\n",
       "      <th>publication</th>\n",
       "      <th>detailing</th>\n",
       "      <th>Abrangência definida em decisão judicial</th>\n",
       "    </tr>\n",
       "  </thead>\n",
       "  <tbody>\n",
       "    <tr>\n",
       "      <th>0</th>\n",
       "      <td>28160003</td>\n",
       "      <td>ROBERTO DE LUCENA</td>\n",
       "      <td>67662437000161</td>\n",
       "      <td>2015-04-11</td>\n",
       "      <td>819313</td>\n",
       "      <td>Em execução</td>\n",
       "      <td>Juridica</td>\n",
       "      <td>67662437000161</td>\n",
       "      <td>Jose Carlos Mendes</td>\n",
       "      <td>MUNICIPIO DE EUCLIDES DA CUNHA PAULISTA</td>\n",
       "      <td>...</td>\n",
       "      <td>2010-11-11</td>\n",
       "      <td>2020-11-11</td>\n",
       "      <td>Justiça Estadual</td>\n",
       "      <td></td>\n",
       "      <td>Conselho Nacional de Justiça</td>\n",
       "      <td>2011-12-31 00:00:00</td>\n",
       "      <td></td>\n",
       "      <td></td>\n",
       "      <td></td>\n",
       "      <td></td>\n",
       "    </tr>\n",
       "    <tr>\n",
       "      <th>1</th>\n",
       "      <td>28070006</td>\n",
       "      <td>MARA GABRILLI</td>\n",
       "      <td>67662437000161</td>\n",
       "      <td>2014-07-16</td>\n",
       "      <td>803313</td>\n",
       "      <td>Em execução</td>\n",
       "      <td>Juridica</td>\n",
       "      <td>67662437000161</td>\n",
       "      <td>Jose Carlos Mendes</td>\n",
       "      <td>MUNICIPIO DE EUCLIDES DA CUNHA PAULISTA</td>\n",
       "      <td>...</td>\n",
       "      <td>2010-11-11</td>\n",
       "      <td>2020-11-11</td>\n",
       "      <td>Justiça Estadual</td>\n",
       "      <td></td>\n",
       "      <td>Conselho Nacional de Justiça</td>\n",
       "      <td>2011-12-31 00:00:00</td>\n",
       "      <td></td>\n",
       "      <td></td>\n",
       "      <td></td>\n",
       "      <td></td>\n",
       "    </tr>\n",
       "    <tr>\n",
       "      <th>2</th>\n",
       "      <td>33600004</td>\n",
       "      <td>SILVIO TORRES</td>\n",
       "      <td>67662437000161</td>\n",
       "      <td>2016-05-17</td>\n",
       "      <td>831772</td>\n",
       "      <td>Em execução</td>\n",
       "      <td>Juridica</td>\n",
       "      <td>67662437000161</td>\n",
       "      <td>Jose Carlos Mendes</td>\n",
       "      <td>MUNICIPIO DE EUCLIDES DA CUNHA PAULISTA</td>\n",
       "      <td>...</td>\n",
       "      <td>2010-11-11</td>\n",
       "      <td>2020-11-11</td>\n",
       "      <td>Justiça Estadual</td>\n",
       "      <td></td>\n",
       "      <td>Conselho Nacional de Justiça</td>\n",
       "      <td>2011-12-31 00:00:00</td>\n",
       "      <td></td>\n",
       "      <td></td>\n",
       "      <td></td>\n",
       "      <td></td>\n",
       "    </tr>\n",
       "    <tr>\n",
       "      <th>4</th>\n",
       "      <td>25410001</td>\n",
       "      <td>CANDIDO VACCAREZZA</td>\n",
       "      <td>67662437000161</td>\n",
       "      <td>2011-12-30</td>\n",
       "      <td>765683</td>\n",
       "      <td>Em execução</td>\n",
       "      <td>Juridica</td>\n",
       "      <td>67662437000161</td>\n",
       "      <td>Jose Carlos Mendes</td>\n",
       "      <td>MUNICIPIO DE EUCLIDES DA CUNHA PAULISTA</td>\n",
       "      <td>...</td>\n",
       "      <td>2010-11-11</td>\n",
       "      <td>2020-11-11</td>\n",
       "      <td>Justiça Estadual</td>\n",
       "      <td></td>\n",
       "      <td>Conselho Nacional de Justiça</td>\n",
       "      <td>2011-12-31 00:00:00</td>\n",
       "      <td></td>\n",
       "      <td></td>\n",
       "      <td></td>\n",
       "      <td></td>\n",
       "    </tr>\n",
       "    <tr>\n",
       "      <th>5</th>\n",
       "      <td>18180001</td>\n",
       "      <td>NELSON MARQUEZELLI</td>\n",
       "      <td>67662437000161</td>\n",
       "      <td>2012-12-31</td>\n",
       "      <td>781641</td>\n",
       "      <td>Em execução</td>\n",
       "      <td>Juridica</td>\n",
       "      <td>67662437000161</td>\n",
       "      <td>Jose Carlos Mendes</td>\n",
       "      <td>MUNICIPIO DE EUCLIDES DA CUNHA PAULISTA</td>\n",
       "      <td>...</td>\n",
       "      <td>2010-11-11</td>\n",
       "      <td>2020-11-11</td>\n",
       "      <td>Justiça Estadual</td>\n",
       "      <td></td>\n",
       "      <td>Conselho Nacional de Justiça</td>\n",
       "      <td>2011-12-31 00:00:00</td>\n",
       "      <td></td>\n",
       "      <td></td>\n",
       "      <td></td>\n",
       "      <td></td>\n",
       "    </tr>\n",
       "    <tr>\n",
       "      <th>11</th>\n",
       "      <td>25310017</td>\n",
       "      <td>PAULO MALUF</td>\n",
       "      <td>45131885000104</td>\n",
       "      <td>2016-11-24</td>\n",
       "      <td>829062</td>\n",
       "      <td>Em execução</td>\n",
       "      <td>Juridica</td>\n",
       "      <td>45131885000104</td>\n",
       "      <td>QUALITY SERVICE LIMPEZA E CONSERVAçãO</td>\n",
       "      <td>MUNICIPIO DE JALES</td>\n",
       "      <td>...</td>\n",
       "      <td>2015-09-24</td>\n",
       "      <td>2020-09-24</td>\n",
       "      <td>Tribunal de Justiça do Estado de São Paulo / 1...</td>\n",
       "      <td>SP</td>\n",
       "      <td>Conselho Nacional de Justiça</td>\n",
       "      <td>2015-11-17 00:00:00</td>\n",
       "      <td></td>\n",
       "      <td></td>\n",
       "      <td></td>\n",
       "      <td></td>\n",
       "    </tr>\n",
       "  </tbody>\n",
       "</table>\n",
       "<p>6 rows × 23 columns</p>\n",
       "</div>"
      ],
      "text/plain": [
       "   amendment_number congressperson_name amendment_beneficiary DIA_ASSIN_CONV  \\\n",
       "0          28160003   ROBERTO DE LUCENA        67662437000161     2015-04-11   \n",
       "1          28070006       MARA GABRILLI        67662437000161     2014-07-16   \n",
       "2          33600004       SILVIO TORRES        67662437000161     2016-05-17   \n",
       "4          25410001  CANDIDO VACCAREZZA        67662437000161     2011-12-30   \n",
       "5          18180001  NELSON MARQUEZELLI        67662437000161     2012-12-31   \n",
       "11         25310017         PAULO MALUF        45131885000104     2016-11-24   \n",
       "\n",
       "   NR_CONVENIO SIT_CONVENIO entity_type sanctioned_cnpj_cpf  \\\n",
       "0       819313  Em execução    Juridica      67662437000161   \n",
       "1       803313  Em execução    Juridica      67662437000161   \n",
       "2       831772  Em execução    Juridica      67662437000161   \n",
       "4       765683  Em execução    Juridica      67662437000161   \n",
       "5       781641  Em execução    Juridica      67662437000161   \n",
       "11      829062  Em execução    Juridica      45131885000104   \n",
       "\n",
       "           name_given_by_sanctioning_body  \\\n",
       "0                      Jose Carlos Mendes   \n",
       "1                      Jose Carlos Mendes   \n",
       "2                      Jose Carlos Mendes   \n",
       "4                      Jose Carlos Mendes   \n",
       "5                      Jose Carlos Mendes   \n",
       "11  QUALITY SERVICE LIMPEZA E CONSERVAçãO   \n",
       "\n",
       "              company_name_receita_database  \\\n",
       "0   MUNICIPIO DE EUCLIDES DA CUNHA PAULISTA   \n",
       "1   MUNICIPIO DE EUCLIDES DA CUNHA PAULISTA   \n",
       "2   MUNICIPIO DE EUCLIDES DA CUNHA PAULISTA   \n",
       "4   MUNICIPIO DE EUCLIDES DA CUNHA PAULISTA   \n",
       "5   MUNICIPIO DE EUCLIDES DA CUNHA PAULISTA   \n",
       "11                       MUNICIPIO DE JALES   \n",
       "\n",
       "                     ...                    sanction_start_date  \\\n",
       "0                    ...                             2010-11-11   \n",
       "1                    ...                             2010-11-11   \n",
       "2                    ...                             2010-11-11   \n",
       "4                    ...                             2010-11-11   \n",
       "5                    ...                             2010-11-11   \n",
       "11                   ...                             2015-09-24   \n",
       "\n",
       "   sanction_end_date                                   sanctioning_body  \\\n",
       "0         2020-11-11                                   Justiça Estadual   \n",
       "1         2020-11-11                                   Justiça Estadual   \n",
       "2         2020-11-11                                   Justiça Estadual   \n",
       "4         2020-11-11                                   Justiça Estadual   \n",
       "5         2020-11-11                                   Justiça Estadual   \n",
       "11        2020-09-24  Tribunal de Justiça do Estado de São Paulo / 1...   \n",
       "\n",
       "   state_of_sanctioning_body                   data_source  \\\n",
       "0                             Conselho Nacional de Justiça   \n",
       "1                             Conselho Nacional de Justiça   \n",
       "2                             Conselho Nacional de Justiça   \n",
       "4                             Conselho Nacional de Justiça   \n",
       "5                             Conselho Nacional de Justiça   \n",
       "11                        SP  Conselho Nacional de Justiça   \n",
       "\n",
       "       data_source_date published_date publication detailing  \\\n",
       "0   2011-12-31 00:00:00                                        \n",
       "1   2011-12-31 00:00:00                                        \n",
       "2   2011-12-31 00:00:00                                        \n",
       "4   2011-12-31 00:00:00                                        \n",
       "5   2011-12-31 00:00:00                                        \n",
       "11  2015-11-17 00:00:00                                        \n",
       "\n",
       "   Abrangência definida em decisão judicial  \n",
       "0                                            \n",
       "1                                            \n",
       "2                                            \n",
       "4                                            \n",
       "5                                            \n",
       "11                                           \n",
       "\n",
       "[6 rows x 23 columns]"
      ]
     },
     "execution_count": 229,
     "metadata": {},
     "output_type": "execute_result"
    }
   ],
   "source": [
    "agreements_with_suspended_companies.query('SIT_CONVENIO == \\'Em execução\\' and \\\n",
    "                                            sanction_start_date <= DIA_ASSIN_CONV and \\\n",
    "                                            DIA_ASSIN_CONV <= sanction_end_date')"
   ]
  }
 ],
 "metadata": {
  "anaconda-cloud": {},
  "kernelspec": {
   "display_name": "Python 3",
   "language": "python",
   "name": "python3"
  },
  "language_info": {
   "codemirror_mode": {
    "name": "ipython",
    "version": 3
   },
   "file_extension": ".py",
   "mimetype": "text/x-python",
   "name": "python",
   "nbconvert_exporter": "python",
   "pygments_lexer": "ipython3",
   "version": "3.5.2"
  }
 },
 "nbformat": 4,
 "nbformat_minor": 2
}
