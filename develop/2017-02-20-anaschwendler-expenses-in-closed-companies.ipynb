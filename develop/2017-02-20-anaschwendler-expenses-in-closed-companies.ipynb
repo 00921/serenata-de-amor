{
 "cells": [
  {
   "cell_type": "markdown",
   "metadata": {
    "deletable": true,
    "editable": true
   },
   "source": [
    "# Expenses in closed companies\n",
    "Recently we find out that there are many companies that are already closed, we are aiming to find if there is expenses made before the situation changed."
   ]
  },
  {
   "cell_type": "code",
   "execution_count": 1,
   "metadata": {
    "collapsed": false,
    "deletable": true,
    "editable": true
   },
   "outputs": [],
   "source": [
    "import pandas as pd\n",
    "import numpy as np\n",
    "from serenata_toolbox.datasets import fetch\n",
    "\n",
    "fetch('2016-09-03-companies.xz', '../data')\n",
    "fetch('2016-11-19-reimbursements.xz', '../data')"
   ]
  },
  {
   "cell_type": "code",
   "execution_count": 2,
   "metadata": {
    "collapsed": false,
    "deletable": true,
    "editable": true
   },
   "outputs": [],
   "source": [
    "companies = pd.read_csv('../data/2016-09-03-companies.xz', low_memory=False)\n",
    "reimbursements = pd.read_csv('../data/2016-11-19-reimbursements.xz',\n",
    "                      dtype={'applicant_id': np.str,\n",
    "                             'cnpj_cpf': np.str,\n",
    "                             'congressperson_id': np.str,\n",
    "                             'subquota_number': np.str},\n",
    "                      low_memory=False)"
   ]
  },
  {
   "cell_type": "markdown",
   "metadata": {},
   "source": [
    "Setting companies situation_date and reimbursements issue_date columns to correct date format, and set the cpnj to a format without dash and dots."
   ]
  },
  {
   "cell_type": "code",
   "execution_count": 3,
   "metadata": {
    "collapsed": false
   },
   "outputs": [],
   "source": [
    "reimbursements['issue_date'] = pd.to_datetime(reimbursements['issue_date'], errors='coerce')\n",
    "reimbursements['issue_date'] = reimbursements['issue_date'].apply(lambda date: date.date())\n",
    "companies['situation_date'] = pd.to_datetime(companies['situation_date'], errors='coerce')\n",
    "companies['situation_date'] = companies['situation_date'].apply(lambda date: date.date())\n",
    "companies['cnpj'] = companies['cnpj'].str.replace(r'\\D', '')"
   ]
  },
  {
   "cell_type": "code",
   "execution_count": 4,
   "metadata": {
    "collapsed": false
   },
   "outputs": [
    {
     "data": {
      "text/plain": [
       "['situation_date',\n",
       " 'type',\n",
       " 'name',\n",
       " 'phone',\n",
       " 'situation',\n",
       " 'neighborhood',\n",
       " 'address',\n",
       " 'number',\n",
       " 'zip_code',\n",
       " 'city',\n",
       " 'state',\n",
       " 'opening',\n",
       " 'legal_entity',\n",
       " 'trade_name',\n",
       " 'cnpj',\n",
       " 'last_updated',\n",
       " 'status',\n",
       " 'additional_address_details',\n",
       " 'email',\n",
       " 'responsible_federative_entity',\n",
       " 'situation_reason',\n",
       " 'special_situation',\n",
       " 'special_situation_date',\n",
       " 'message',\n",
       " 'main_activity_code',\n",
       " 'main_activity']"
      ]
     },
     "execution_count": 4,
     "metadata": {},
     "output_type": "execute_result"
    }
   ],
   "source": [
    "list(companies)[0:26]"
   ]
  },
  {
   "cell_type": "code",
   "execution_count": 5,
   "metadata": {
    "collapsed": false
   },
   "outputs": [
    {
     "data": {
      "text/html": [
       "<div>\n",
       "<table border=\"1\" class=\"dataframe\">\n",
       "  <thead>\n",
       "    <tr style=\"text-align: right;\">\n",
       "      <th></th>\n",
       "      <th>cnpj</th>\n",
       "      <th>situation_date</th>\n",
       "      <th>situation</th>\n",
       "      <th>situation_reason</th>\n",
       "    </tr>\n",
       "  </thead>\n",
       "  <tbody>\n",
       "    <tr>\n",
       "      <th>37</th>\n",
       "      <td>03956142000115</td>\n",
       "      <td>2005-09-20</td>\n",
       "      <td>BAIXADA</td>\n",
       "      <td>EXTINCAO P/ ENC LIQ VOLUNTARIA</td>\n",
       "    </tr>\n",
       "    <tr>\n",
       "      <th>248</th>\n",
       "      <td>08594693000108</td>\n",
       "      <td>2016-06-28</td>\n",
       "      <td>BAIXADA</td>\n",
       "      <td>EXTINCAO P/ ENC LIQ VOLUNTARIA</td>\n",
       "    </tr>\n",
       "    <tr>\n",
       "      <th>329</th>\n",
       "      <td>20768047000107</td>\n",
       "      <td>2016-12-04</td>\n",
       "      <td>BAIXADA</td>\n",
       "      <td>EXTINCAO P/ ENC LIQ VOLUNTARIA</td>\n",
       "    </tr>\n",
       "    <tr>\n",
       "      <th>364</th>\n",
       "      <td>03380051000346</td>\n",
       "      <td>2016-05-01</td>\n",
       "      <td>BAIXADA</td>\n",
       "      <td>EXTINCAO P/ ENC LIQ VOLUNTARIA</td>\n",
       "    </tr>\n",
       "    <tr>\n",
       "      <th>395</th>\n",
       "      <td>17479634000171</td>\n",
       "      <td>2016-06-28</td>\n",
       "      <td>BAIXADA</td>\n",
       "      <td>EXTINCAO P/ ENC LIQ VOLUNTARIA</td>\n",
       "    </tr>\n",
       "  </tbody>\n",
       "</table>\n",
       "</div>"
      ],
      "text/plain": [
       "               cnpj situation_date situation                situation_reason\n",
       "37   03956142000115     2005-09-20   BAIXADA  EXTINCAO P/ ENC LIQ VOLUNTARIA\n",
       "248  08594693000108     2016-06-28   BAIXADA  EXTINCAO P/ ENC LIQ VOLUNTARIA\n",
       "329  20768047000107     2016-12-04   BAIXADA  EXTINCAO P/ ENC LIQ VOLUNTARIA\n",
       "364  03380051000346     2016-05-01   BAIXADA  EXTINCAO P/ ENC LIQ VOLUNTARIA\n",
       "395  17479634000171     2016-06-28   BAIXADA  EXTINCAO P/ ENC LIQ VOLUNTARIA"
      ]
     },
     "execution_count": 5,
     "metadata": {},
     "output_type": "execute_result"
    }
   ],
   "source": [
    "statuses = ['BAIXADA', 'NULA', 'SUSPENSA', 'INAPTA']\n",
    "not_opened = companies[companies['situation'].isin(statuses)]\n",
    "not_opened[['cnpj', 'situation_date','situation', 'situation_reason']].head(5)"
   ]
  },
  {
   "cell_type": "markdown",
   "metadata": {},
   "source": [
    "The column situation_date is the one that is interesting. Expenses made after that date should be considered suspicious."
   ]
  },
  {
   "cell_type": "code",
   "execution_count": 6,
   "metadata": {
    "collapsed": true
   },
   "outputs": [],
   "source": [
    "dataset = pd.merge(reimbursements, not_opened, how='inner',\n",
    "                   left_on='cnpj_cpf', right_on='cnpj')"
   ]
  },
  {
   "cell_type": "code",
   "execution_count": 7,
   "metadata": {
    "collapsed": false
   },
   "outputs": [
    {
     "data": {
      "text/html": [
       "<div>\n",
       "<table border=\"1\" class=\"dataframe\">\n",
       "  <thead>\n",
       "    <tr style=\"text-align: right;\">\n",
       "      <th></th>\n",
       "      <th>issue_date</th>\n",
       "      <th>cnpj</th>\n",
       "      <th>situation_date</th>\n",
       "      <th>situation</th>\n",
       "      <th>situation_reason</th>\n",
       "    </tr>\n",
       "  </thead>\n",
       "  <tbody>\n",
       "    <tr>\n",
       "      <th>0</th>\n",
       "      <td>2009-04-06</td>\n",
       "      <td>02989654001197</td>\n",
       "      <td>2013-01-03</td>\n",
       "      <td>BAIXADA</td>\n",
       "      <td>INCORPORACAO</td>\n",
       "    </tr>\n",
       "    <tr>\n",
       "      <th>1</th>\n",
       "      <td>2009-09-23</td>\n",
       "      <td>02989654001197</td>\n",
       "      <td>2013-01-03</td>\n",
       "      <td>BAIXADA</td>\n",
       "      <td>INCORPORACAO</td>\n",
       "    </tr>\n",
       "    <tr>\n",
       "      <th>2</th>\n",
       "      <td>2009-10-14</td>\n",
       "      <td>02989654001197</td>\n",
       "      <td>2013-01-03</td>\n",
       "      <td>BAIXADA</td>\n",
       "      <td>INCORPORACAO</td>\n",
       "    </tr>\n",
       "    <tr>\n",
       "      <th>3</th>\n",
       "      <td>2009-10-19</td>\n",
       "      <td>02989654001197</td>\n",
       "      <td>2013-01-03</td>\n",
       "      <td>BAIXADA</td>\n",
       "      <td>INCORPORACAO</td>\n",
       "    </tr>\n",
       "    <tr>\n",
       "      <th>4</th>\n",
       "      <td>2009-05-29</td>\n",
       "      <td>02989654001197</td>\n",
       "      <td>2013-01-03</td>\n",
       "      <td>BAIXADA</td>\n",
       "      <td>INCORPORACAO</td>\n",
       "    </tr>\n",
       "    <tr>\n",
       "      <th>5</th>\n",
       "      <td>2009-04-08</td>\n",
       "      <td>02989654001197</td>\n",
       "      <td>2013-01-03</td>\n",
       "      <td>BAIXADA</td>\n",
       "      <td>INCORPORACAO</td>\n",
       "    </tr>\n",
       "    <tr>\n",
       "      <th>6</th>\n",
       "      <td>2009-07-01</td>\n",
       "      <td>02989654001197</td>\n",
       "      <td>2013-01-03</td>\n",
       "      <td>BAIXADA</td>\n",
       "      <td>INCORPORACAO</td>\n",
       "    </tr>\n",
       "    <tr>\n",
       "      <th>7</th>\n",
       "      <td>2009-03-26</td>\n",
       "      <td>02989654001197</td>\n",
       "      <td>2013-01-03</td>\n",
       "      <td>BAIXADA</td>\n",
       "      <td>INCORPORACAO</td>\n",
       "    </tr>\n",
       "    <tr>\n",
       "      <th>8</th>\n",
       "      <td>2009-04-07</td>\n",
       "      <td>02989654001197</td>\n",
       "      <td>2013-01-03</td>\n",
       "      <td>BAIXADA</td>\n",
       "      <td>INCORPORACAO</td>\n",
       "    </tr>\n",
       "    <tr>\n",
       "      <th>9</th>\n",
       "      <td>2009-04-28</td>\n",
       "      <td>02989654001197</td>\n",
       "      <td>2013-01-03</td>\n",
       "      <td>BAIXADA</td>\n",
       "      <td>INCORPORACAO</td>\n",
       "    </tr>\n",
       "  </tbody>\n",
       "</table>\n",
       "</div>"
      ],
      "text/plain": [
       "   issue_date            cnpj situation_date situation situation_reason\n",
       "0  2009-04-06  02989654001197     2013-01-03   BAIXADA     INCORPORACAO\n",
       "1  2009-09-23  02989654001197     2013-01-03   BAIXADA     INCORPORACAO\n",
       "2  2009-10-14  02989654001197     2013-01-03   BAIXADA     INCORPORACAO\n",
       "3  2009-10-19  02989654001197     2013-01-03   BAIXADA     INCORPORACAO\n",
       "4  2009-05-29  02989654001197     2013-01-03   BAIXADA     INCORPORACAO\n",
       "5  2009-04-08  02989654001197     2013-01-03   BAIXADA     INCORPORACAO\n",
       "6  2009-07-01  02989654001197     2013-01-03   BAIXADA     INCORPORACAO\n",
       "7  2009-03-26  02989654001197     2013-01-03   BAIXADA     INCORPORACAO\n",
       "8  2009-04-07  02989654001197     2013-01-03   BAIXADA     INCORPORACAO\n",
       "9  2009-04-28  02989654001197     2013-01-03   BAIXADA     INCORPORACAO"
      ]
     },
     "execution_count": 7,
     "metadata": {},
     "output_type": "execute_result"
    }
   ],
   "source": [
    "columns = ['issue_date','cnpj', 'situation_date','situation', 'situation_reason']\n",
    "dataset = dataset[columns]\n",
    "dataset.head(10)"
   ]
  },
  {
   "cell_type": "markdown",
   "metadata": {},
   "source": [
    "The inner join on merge will give reimbursements that were requested for colsed companies. It is still necessary to check the reimbursement issue_date is \"bigger\" than the situation_date."
   ]
  },
  {
   "cell_type": "code",
   "execution_count": 8,
   "metadata": {
    "collapsed": false
   },
   "outputs": [
    {
     "data": {
      "text/plain": [
       "issue_date              2009-04-06\n",
       "cnpj                02989654001197\n",
       "situation_date          2013-01-03\n",
       "situation                  BAIXADA\n",
       "situation_reason      INCORPORACAO\n",
       "Name: 0, dtype: object"
      ]
     },
     "execution_count": 8,
     "metadata": {},
     "output_type": "execute_result"
    }
   ],
   "source": [
    "dataset.iloc[0]"
   ]
  },
  {
   "cell_type": "code",
   "execution_count": 12,
   "metadata": {
    "collapsed": false
   },
   "outputs": [
    {
     "data": {
      "text/html": [
       "<div>\n",
       "<table border=\"1\" class=\"dataframe\">\n",
       "  <thead>\n",
       "    <tr style=\"text-align: right;\">\n",
       "      <th></th>\n",
       "      <th>issue_date</th>\n",
       "      <th>cnpj</th>\n",
       "      <th>situation_date</th>\n",
       "      <th>situation</th>\n",
       "      <th>situation_reason</th>\n",
       "    </tr>\n",
       "  </thead>\n",
       "  <tbody>\n",
       "    <tr>\n",
       "      <th>2429</th>\n",
       "      <td>2013-01-30</td>\n",
       "      <td>02989654001197</td>\n",
       "      <td>2013-01-03</td>\n",
       "      <td>BAIXADA</td>\n",
       "      <td>INCORPORACAO</td>\n",
       "    </tr>\n",
       "    <tr>\n",
       "      <th>2430</th>\n",
       "      <td>2013-02-02</td>\n",
       "      <td>02989654001197</td>\n",
       "      <td>2013-01-03</td>\n",
       "      <td>BAIXADA</td>\n",
       "      <td>INCORPORACAO</td>\n",
       "    </tr>\n",
       "    <tr>\n",
       "      <th>2431</th>\n",
       "      <td>2013-02-26</td>\n",
       "      <td>02989654001197</td>\n",
       "      <td>2013-01-03</td>\n",
       "      <td>BAIXADA</td>\n",
       "      <td>INCORPORACAO</td>\n",
       "    </tr>\n",
       "    <tr>\n",
       "      <th>2432</th>\n",
       "      <td>2013-03-01</td>\n",
       "      <td>02989654001197</td>\n",
       "      <td>2013-01-03</td>\n",
       "      <td>BAIXADA</td>\n",
       "      <td>INCORPORACAO</td>\n",
       "    </tr>\n",
       "    <tr>\n",
       "      <th>2433</th>\n",
       "      <td>2013-01-28</td>\n",
       "      <td>02989654001197</td>\n",
       "      <td>2013-01-03</td>\n",
       "      <td>BAIXADA</td>\n",
       "      <td>INCORPORACAO</td>\n",
       "    </tr>\n",
       "  </tbody>\n",
       "</table>\n",
       "</div>"
      ],
      "text/plain": [
       "      issue_date            cnpj situation_date situation situation_reason\n",
       "2429  2013-01-30  02989654001197     2013-01-03   BAIXADA     INCORPORACAO\n",
       "2430  2013-02-02  02989654001197     2013-01-03   BAIXADA     INCORPORACAO\n",
       "2431  2013-02-26  02989654001197     2013-01-03   BAIXADA     INCORPORACAO\n",
       "2432  2013-03-01  02989654001197     2013-01-03   BAIXADA     INCORPORACAO\n",
       "2433  2013-01-28  02989654001197     2013-01-03   BAIXADA     INCORPORACAO"
      ]
     },
     "execution_count": 12,
     "metadata": {},
     "output_type": "execute_result"
    }
   ],
   "source": [
    "expenses_in_closed_companies = dataset.query('issue_date > situation_date')\n",
    "expenses_in_closed_companies.head()"
   ]
  }
 ],
 "metadata": {
  "kernelspec": {
   "display_name": "Python 3",
   "language": "python",
   "name": "python3"
  },
  "language_info": {
   "codemirror_mode": {
    "name": "ipython",
    "version": 3
   },
   "file_extension": ".py",
   "mimetype": "text/x-python",
   "name": "python",
   "nbconvert_exporter": "python",
   "pygments_lexer": "ipython3",
   "version": "3.6.0"
  }
 },
 "nbformat": 4,
 "nbformat_minor": 1
}
