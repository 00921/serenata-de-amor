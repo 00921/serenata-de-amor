{
 "cells": [
  {
   "cell_type": "code",
   "execution_count": 1,
   "metadata": {
    "collapsed": false
   },
   "outputs": [
    {
     "data": {
      "text/plain": [
       "(80972, 10)"
      ]
     },
     "execution_count": 1,
     "metadata": {},
     "output_type": "execute_result"
    }
   ],
   "source": [
    "import pandas as pd\n",
    "import numpy as np\n",
    "\n",
    "data = pd.read_csv('../data/amendments.xz', decimal=',', dtype={'proposal_id': np.str,\n",
    "                                                                   'amendment_beneficiary': np.str,\n",
    "                                                                   'amendment_program_code': np.str,\n",
    "                                                                   'amendment_proposal_tranfer_value': np.double,\n",
    "                                                                   'amendment_tranfer_value': np.double})\n",
    "data.shape"
   ]
  },
  {
   "cell_type": "code",
   "execution_count": 2,
   "metadata": {
    "collapsed": false
   },
   "outputs": [
    {
     "data": {
      "text/plain": [
       "Index(['committee', 'individual', 'seat'], dtype='object')"
      ]
     },
     "execution_count": 2,
     "metadata": {},
     "output_type": "execute_result"
    }
   ],
   "source": [
    "data['congressperson_type'] = data['congressperson_type'].astype('category')\n",
    "data['congressperson_type'].cat.categories"
   ]
  },
  {
   "cell_type": "code",
   "execution_count": 3,
   "metadata": {
    "collapsed": false
   },
   "outputs": [
    {
     "data": {
      "text/plain": [
       "Index(['parliamentary amendment beneficiary'], dtype='object')"
      ]
     },
     "execution_count": 3,
     "metadata": {},
     "output_type": "execute_result"
    }
   ],
   "source": [
    "data['proponent_qualification'] = data['proponent_qualification'].astype('category')\n",
    "data['proponent_qualification'].cat.categories"
   ]
  },
  {
   "cell_type": "code",
   "execution_count": 4,
   "metadata": {
    "collapsed": false
   },
   "outputs": [
    {
     "data": {
      "text/plain": [
       "Index(['no', 'yes'], dtype='object')"
      ]
     },
     "execution_count": 4,
     "metadata": {},
     "output_type": "execute_result"
    }
   ],
   "source": [
    "data['tax_indicative'] = data['tax_indicative'].astype('category')\n",
    "data['tax_indicative'].cat.categories"
   ]
  },
  {
   "cell_type": "code",
   "execution_count": 6,
   "metadata": {
    "collapsed": false
   },
   "outputs": [
    {
     "data": {
      "text/plain": [
       "proposal_id                                                      588275\n",
       "proponent_qualification             parliamentary amendment beneficiary\n",
       "amendment_program_code                                    5100020120077\n",
       "amendment_number                                               31250010\n",
       "congressperson_name                                    ANTONIO BALHMANN\n",
       "amendment_beneficiary                                     7535446000160\n",
       "tax_indicative                                                       no\n",
       "congressperson_type                                          individual\n",
       "amendment_proposal_tranfer_value                                 292500\n",
       "amendment_tranfer_value                                          292500\n",
       "Name: 0, dtype: object"
      ]
     },
     "execution_count": 6,
     "metadata": {},
     "output_type": "execute_result"
    }
   ],
   "source": [
    "data.iloc[0]"
   ]
  },
  {
   "cell_type": "code",
   "execution_count": 7,
   "metadata": {
    "collapsed": false
   },
   "outputs": [
    {
     "data": {
      "text/html": [
       "<div>\n",
       "<table border=\"1\" class=\"dataframe\">\n",
       "  <thead>\n",
       "    <tr style=\"text-align: right;\">\n",
       "      <th></th>\n",
       "      <th>proposal_id</th>\n",
       "      <th>proponent_qualification</th>\n",
       "      <th>amendment_program_code</th>\n",
       "      <th>amendment_number</th>\n",
       "      <th>congressperson_name</th>\n",
       "      <th>amendment_beneficiary</th>\n",
       "      <th>tax_indicative</th>\n",
       "      <th>congressperson_type</th>\n",
       "      <th>amendment_proposal_tranfer_value</th>\n",
       "      <th>amendment_tranfer_value</th>\n",
       "    </tr>\n",
       "  </thead>\n",
       "  <tbody>\n",
       "    <tr>\n",
       "      <th>0</th>\n",
       "      <td>588275</td>\n",
       "      <td>parliamentary amendment beneficiary</td>\n",
       "      <td>5100020120077</td>\n",
       "      <td>31250010</td>\n",
       "      <td>ANTONIO BALHMANN</td>\n",
       "      <td>7535446000160</td>\n",
       "      <td>no</td>\n",
       "      <td>individual</td>\n",
       "      <td>292500.0</td>\n",
       "      <td>292500.0</td>\n",
       "    </tr>\n",
       "    <tr>\n",
       "      <th>1</th>\n",
       "      <td>1066705</td>\n",
       "      <td>parliamentary amendment beneficiary</td>\n",
       "      <td>2200020160030</td>\n",
       "      <td>28650006</td>\n",
       "      <td>JOSE STEDILE</td>\n",
       "      <td>94436342000100</td>\n",
       "      <td>yes</td>\n",
       "      <td>individual</td>\n",
       "      <td>243750.0</td>\n",
       "      <td>243750.0</td>\n",
       "    </tr>\n",
       "    <tr>\n",
       "      <th>2</th>\n",
       "      <td>490954</td>\n",
       "      <td>parliamentary amendment beneficiary</td>\n",
       "      <td>2200020110005</td>\n",
       "      <td>10560008</td>\n",
       "      <td>SERGIO SOUZA</td>\n",
       "      <td>75771279000106</td>\n",
       "      <td>no</td>\n",
       "      <td>individual</td>\n",
       "      <td>97500.0</td>\n",
       "      <td>97500.0</td>\n",
       "    </tr>\n",
       "    <tr>\n",
       "      <th>3</th>\n",
       "      <td>646294</td>\n",
       "      <td>parliamentary amendment beneficiary</td>\n",
       "      <td>5600020120020</td>\n",
       "      <td>27650005</td>\n",
       "      <td>RENZO BRAZ</td>\n",
       "      <td>66230384000147</td>\n",
       "      <td>no</td>\n",
       "      <td>individual</td>\n",
       "      <td>265630.0</td>\n",
       "      <td>264245.4</td>\n",
       "    </tr>\n",
       "    <tr>\n",
       "      <th>4</th>\n",
       "      <td>586235</td>\n",
       "      <td>parliamentary amendment beneficiary</td>\n",
       "      <td>5200020120071</td>\n",
       "      <td>26850008</td>\n",
       "      <td>PADRE TON</td>\n",
       "      <td>4092714000128</td>\n",
       "      <td>no</td>\n",
       "      <td>individual</td>\n",
       "      <td>250000.0</td>\n",
       "      <td>250000.0</td>\n",
       "    </tr>\n",
       "  </tbody>\n",
       "</table>\n",
       "</div>"
      ],
      "text/plain": [
       "  proposal_id              proponent_qualification amendment_program_code  \\\n",
       "0      588275  parliamentary amendment beneficiary          5100020120077   \n",
       "1     1066705  parliamentary amendment beneficiary          2200020160030   \n",
       "2      490954  parliamentary amendment beneficiary          2200020110005   \n",
       "3      646294  parliamentary amendment beneficiary          5600020120020   \n",
       "4      586235  parliamentary amendment beneficiary          5200020120071   \n",
       "\n",
       "  amendment_number congressperson_name amendment_beneficiary tax_indicative  \\\n",
       "0         31250010    ANTONIO BALHMANN         7535446000160             no   \n",
       "1         28650006        JOSE STEDILE        94436342000100            yes   \n",
       "2         10560008        SERGIO SOUZA        75771279000106             no   \n",
       "3         27650005          RENZO BRAZ        66230384000147             no   \n",
       "4         26850008           PADRE TON         4092714000128             no   \n",
       "\n",
       "  congressperson_type  amendment_proposal_tranfer_value  \\\n",
       "0          individual                          292500.0   \n",
       "1          individual                          243750.0   \n",
       "2          individual                           97500.0   \n",
       "3          individual                          265630.0   \n",
       "4          individual                          250000.0   \n",
       "\n",
       "   amendment_tranfer_value  \n",
       "0                 292500.0  \n",
       "1                 243750.0  \n",
       "2                  97500.0  \n",
       "3                 264245.4  \n",
       "4                 250000.0  "
      ]
     },
     "execution_count": 7,
     "metadata": {},
     "output_type": "execute_result"
    }
   ],
   "source": [
    "data.head()"
   ]
  },
  {
   "cell_type": "markdown",
   "metadata": {},
   "source": [
    "### Rank of Congresspersons with highest amounts of amendments and their values  "
   ]
  },
  {
   "cell_type": "code",
   "execution_count": 47,
   "metadata": {
    "collapsed": false
   },
   "outputs": [
    {
     "data": {
      "text/html": [
       "<div>\n",
       "<table border=\"1\" class=\"dataframe\">\n",
       "  <thead>\n",
       "    <tr>\n",
       "      <th></th>\n",
       "      <th>proposal_id</th>\n",
       "      <th>amendment_proposal_tranfer_value</th>\n",
       "    </tr>\n",
       "    <tr>\n",
       "      <th></th>\n",
       "      <th>total_proposals</th>\n",
       "      <th>amendment_proposal_tranfer_value</th>\n",
       "    </tr>\n",
       "    <tr>\n",
       "      <th>congressperson_name</th>\n",
       "      <th></th>\n",
       "      <th></th>\n",
       "    </tr>\n",
       "  </thead>\n",
       "  <tbody>\n",
       "    <tr>\n",
       "      <th>LUIS CARLOS HEINZE</th>\n",
       "      <td>388</td>\n",
       "      <td>73776180.37</td>\n",
       "    </tr>\n",
       "    <tr>\n",
       "      <th>MARCO MAIA</th>\n",
       "      <td>354</td>\n",
       "      <td>62910101.03</td>\n",
       "    </tr>\n",
       "    <tr>\n",
       "      <th>ANA AMELIA</th>\n",
       "      <td>336</td>\n",
       "      <td>57655546.43</td>\n",
       "    </tr>\n",
       "    <tr>\n",
       "      <th>DARCISIO PERONDI</th>\n",
       "      <td>327</td>\n",
       "      <td>69749394.78</td>\n",
       "    </tr>\n",
       "    <tr>\n",
       "      <th>PAULO PAIM</th>\n",
       "      <td>317</td>\n",
       "      <td>56328489.70</td>\n",
       "    </tr>\n",
       "  </tbody>\n",
       "</table>\n",
       "</div>"
      ],
      "text/plain": [
       "                        proposal_id amendment_proposal_tranfer_value\n",
       "                    total_proposals amendment_proposal_tranfer_value\n",
       "congressperson_name                                                 \n",
       "LUIS CARLOS HEINZE              388                      73776180.37\n",
       "MARCO MAIA                      354                      62910101.03\n",
       "ANA AMELIA                      336                      57655546.43\n",
       "DARCISIO PERONDI                327                      69749394.78\n",
       "PAULO PAIM                      317                      56328489.70"
      ]
     },
     "execution_count": 47,
     "metadata": {},
     "output_type": "execute_result"
    }
   ],
   "source": [
    "per_congressperson = data[data['congressperson_type'] == 'individual'].groupby(\n",
    "                        'congressperson_name').agg({ 'proposal_id': {\n",
    "                                                        'total_proposals': 'count'\n",
    "                                                        },\n",
    "                                                        'amendment_proposal_tranfer_value': {\n",
    "                                                            'amendment_proposal_tranfer_value': 'sum'\n",
    "                                                        },\n",
    "                                                     })\n",
    "per_congressperson.sort_values(by=[('proposal_id', 'total_proposals')], ascending=False).head()"
   ]
  },
  {
   "cell_type": "markdown",
   "metadata": {},
   "source": [
    "### Rank of Beneficiaries (CNPJs) with highest amounts of amendments and their values  "
   ]
  },
  {
   "cell_type": "code",
   "execution_count": 50,
   "metadata": {
    "collapsed": false
   },
   "outputs": [
    {
     "data": {
      "text/html": [
       "<div>\n",
       "<table border=\"1\" class=\"dataframe\">\n",
       "  <thead>\n",
       "    <tr>\n",
       "      <th></th>\n",
       "      <th>proposal_id</th>\n",
       "      <th>amendment_proposal_tranfer_value</th>\n",
       "    </tr>\n",
       "    <tr>\n",
       "      <th></th>\n",
       "      <th>total_proposals</th>\n",
       "      <th>amendment_proposal_tranfer_value</th>\n",
       "    </tr>\n",
       "    <tr>\n",
       "      <th>amendment_beneficiary</th>\n",
       "      <th></th>\n",
       "      <th></th>\n",
       "    </tr>\n",
       "  </thead>\n",
       "  <tbody>\n",
       "    <tr>\n",
       "      <th>394577000125</th>\n",
       "      <td>271</td>\n",
       "      <td>1.891245e+08</td>\n",
       "    </tr>\n",
       "    <tr>\n",
       "      <th>4034583000122</th>\n",
       "      <td>150</td>\n",
       "      <td>1.056402e+08</td>\n",
       "    </tr>\n",
       "    <tr>\n",
       "      <th>63606479000124</th>\n",
       "      <td>146</td>\n",
       "      <td>1.196833e+08</td>\n",
       "    </tr>\n",
       "    <tr>\n",
       "      <th>5995766000177</th>\n",
       "      <td>129</td>\n",
       "      <td>1.202135e+08</td>\n",
       "    </tr>\n",
       "    <tr>\n",
       "      <th>49150352000112</th>\n",
       "      <td>128</td>\n",
       "      <td>4.766459e+07</td>\n",
       "    </tr>\n",
       "  </tbody>\n",
       "</table>\n",
       "</div>"
      ],
      "text/plain": [
       "                          proposal_id amendment_proposal_tranfer_value\n",
       "                      total_proposals amendment_proposal_tranfer_value\n",
       "amendment_beneficiary                                                 \n",
       "394577000125                      271                     1.891245e+08\n",
       "4034583000122                     150                     1.056402e+08\n",
       "63606479000124                    146                     1.196833e+08\n",
       "5995766000177                     129                     1.202135e+08\n",
       "49150352000112                    128                     4.766459e+07"
      ]
     },
     "execution_count": 50,
     "metadata": {},
     "output_type": "execute_result"
    }
   ],
   "source": [
    "per_beneficiary = data[data['congressperson_type'] == 'individual'].groupby(\n",
    "                                    'amendment_beneficiary').agg({ 'proposal_id': {\n",
    "                                                                    'total_proposals': 'count'\n",
    "                                                                    },\n",
    "                                                                    'amendment_proposal_tranfer_value': {\n",
    "                                                                        'amendment_proposal_tranfer_value': 'sum'\n",
    "                                                                    },\n",
    "                                                                 })\n",
    "per_beneficiary.sort_values(by=[('proposal_id', 'total_proposals')], ascending=False).head()"
   ]
  },
  {
   "cell_type": "markdown",
   "metadata": {},
   "source": [
    "### Rank of pair Congressperson/Beneficiaries with highest amounts of amendments and their values  "
   ]
  },
  {
   "cell_type": "code",
   "execution_count": 55,
   "metadata": {
    "collapsed": false
   },
   "outputs": [
    {
     "data": {
      "text/html": [
       "<div>\n",
       "<table border=\"1\" class=\"dataframe\">\n",
       "  <thead>\n",
       "    <tr>\n",
       "      <th></th>\n",
       "      <th></th>\n",
       "      <th>proposal_id</th>\n",
       "      <th>amendment_proposal_tranfer_value</th>\n",
       "    </tr>\n",
       "    <tr>\n",
       "      <th></th>\n",
       "      <th></th>\n",
       "      <th>total_proposals</th>\n",
       "      <th>amendment_proposal_tranfer_value</th>\n",
       "    </tr>\n",
       "    <tr>\n",
       "      <th>congressperson_name</th>\n",
       "      <th>amendment_beneficiary</th>\n",
       "      <th></th>\n",
       "      <th></th>\n",
       "    </tr>\n",
       "  </thead>\n",
       "  <tbody>\n",
       "    <tr>\n",
       "      <th>JANETE CAPIBERIBE</th>\n",
       "      <th>394577000125</th>\n",
       "      <td>84</td>\n",
       "      <td>3.716454e+07</td>\n",
       "    </tr>\n",
       "    <tr>\n",
       "      <th>PASTOR EURICO</th>\n",
       "      <th>8113327000181</th>\n",
       "      <td>42</td>\n",
       "      <td>2.270611e+08</td>\n",
       "    </tr>\n",
       "    <tr>\n",
       "      <th>SEBASTIAO BALA ROCHA</th>\n",
       "      <th>394577000125</th>\n",
       "      <td>36</td>\n",
       "      <td>3.298000e+07</td>\n",
       "    </tr>\n",
       "    <tr>\n",
       "      <th>WANDENKOLK GONCALVES</th>\n",
       "      <th>5054945000100</th>\n",
       "      <td>32</td>\n",
       "      <td>2.375770e+07</td>\n",
       "    </tr>\n",
       "    <tr>\n",
       "      <th>MARCIO FRANCA</th>\n",
       "      <th>8574719000148</th>\n",
       "      <td>32</td>\n",
       "      <td>1.658709e+08</td>\n",
       "    </tr>\n",
       "    <tr>\n",
       "      <th>MARCELO MATOS</th>\n",
       "      <th>29138336000105</th>\n",
       "      <td>32</td>\n",
       "      <td>3.619101e+07</td>\n",
       "    </tr>\n",
       "    <tr>\n",
       "      <th>RENATO MOLLING</th>\n",
       "      <th>87366159000102</th>\n",
       "      <td>29</td>\n",
       "      <td>2.898496e+07</td>\n",
       "    </tr>\n",
       "    <tr>\n",
       "      <th>JANETE ROCHA PIETA</th>\n",
       "      <th>46319000000150</th>\n",
       "      <td>28</td>\n",
       "      <td>1.983056e+07</td>\n",
       "    </tr>\n",
       "    <tr>\n",
       "      <th>EDINHO ARAUJO</th>\n",
       "      <th>46588950000180</th>\n",
       "      <td>26</td>\n",
       "      <td>4.120000e+07</td>\n",
       "    </tr>\n",
       "    <tr>\n",
       "      <th>DOMINGOS NETO</th>\n",
       "      <th>7849532000147</th>\n",
       "      <td>26</td>\n",
       "      <td>3.117084e+07</td>\n",
       "    </tr>\n",
       "  </tbody>\n",
       "</table>\n",
       "</div>"
      ],
      "text/plain": [
       "                                               proposal_id  \\\n",
       "                                           total_proposals   \n",
       "congressperson_name  amendment_beneficiary                   \n",
       "JANETE CAPIBERIBE    394577000125                       84   \n",
       "PASTOR EURICO        8113327000181                      42   \n",
       "SEBASTIAO BALA ROCHA 394577000125                       36   \n",
       "WANDENKOLK GONCALVES 5054945000100                      32   \n",
       "MARCIO FRANCA        8574719000148                      32   \n",
       "MARCELO MATOS        29138336000105                     32   \n",
       "RENATO MOLLING       87366159000102                     29   \n",
       "JANETE ROCHA PIETA   46319000000150                     28   \n",
       "EDINHO ARAUJO        46588950000180                     26   \n",
       "DOMINGOS NETO        7849532000147                      26   \n",
       "\n",
       "                                           amendment_proposal_tranfer_value  \n",
       "                                           amendment_proposal_tranfer_value  \n",
       "congressperson_name  amendment_beneficiary                                   \n",
       "JANETE CAPIBERIBE    394577000125                              3.716454e+07  \n",
       "PASTOR EURICO        8113327000181                             2.270611e+08  \n",
       "SEBASTIAO BALA ROCHA 394577000125                              3.298000e+07  \n",
       "WANDENKOLK GONCALVES 5054945000100                             2.375770e+07  \n",
       "MARCIO FRANCA        8574719000148                             1.658709e+08  \n",
       "MARCELO MATOS        29138336000105                            3.619101e+07  \n",
       "RENATO MOLLING       87366159000102                            2.898496e+07  \n",
       "JANETE ROCHA PIETA   46319000000150                            1.983056e+07  \n",
       "EDINHO ARAUJO        46588950000180                            4.120000e+07  \n",
       "DOMINGOS NETO        7849532000147                             3.117084e+07  "
      ]
     },
     "execution_count": 55,
     "metadata": {},
     "output_type": "execute_result"
    }
   ],
   "source": [
    "per_congress_person_and_beneficiary = data[data['congressperson_type'] == 'individual'].groupby(\n",
    "                                    ['congressperson_name', 'amendment_beneficiary']\n",
    "                                ).agg({ 'proposal_id': {\n",
    "                                        'total_proposals': 'count'\n",
    "                                        },\n",
    "                                        'amendment_proposal_tranfer_value': {\n",
    "                                            'amendment_proposal_tranfer_value': 'sum'\n",
    "                                        },\n",
    "                                     })\n",
    "per_congress_person_and_beneficiary.sort_values(by=[('proposal_id', 'total_proposals')], ascending=False).head(10)"
   ]
  }
 ],
 "metadata": {
  "anaconda-cloud": {},
  "kernelspec": {
   "display_name": "Python 3",
   "language": "python",
   "name": "python3"
  },
  "language_info": {
   "codemirror_mode": {
    "name": "ipython",
    "version": 3
   },
   "file_extension": ".py",
   "mimetype": "text/x-python",
   "name": "python",
   "nbconvert_exporter": "python",
   "pygments_lexer": "ipython3",
   "version": "3.5.2"
  }
 },
 "nbformat": 4,
 "nbformat_minor": 2
}
