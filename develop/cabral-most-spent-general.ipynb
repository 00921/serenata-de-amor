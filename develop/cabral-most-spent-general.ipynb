{
 "cells": [
  {
   "cell_type": "code",
   "execution_count": 1,
   "metadata": {
    "collapsed": false
   },
   "outputs": [
    {
     "name": "stderr",
     "output_type": "stream",
     "text": [
      "/home/cabral/anaconda3/lib/python3.5/site-packages/IPython/html.py:14: ShimWarning: The `IPython.html` package has been deprecated. You should import from `notebook` instead. `IPython.html.widgets` has moved to `ipywidgets`.\n",
      "  \"`IPython.html.widgets` has moved to `ipywidgets`.\", ShimWarning)\n"
     ]
    }
   ],
   "source": [
    "%matplotlib notebook\n",
    "import matplotlib.pyplot as plt\n",
    "import numpy as np\n",
    "import pandas as pd\n",
    "import seaborn as sns"
   ]
  },
  {
   "cell_type": "code",
   "execution_count": 2,
   "metadata": {
    "collapsed": true
   },
   "outputs": [],
   "source": [
    "data = pd.read_csv('../data/2016-08-08-last-year.xz',\n",
    "                   parse_dates=[16],\n",
    "                   dtype={'document_id': np.str,\n",
    "                          'congressperson_id': np.str,\n",
    "                          'congressperson_document': np.str,\n",
    "                          'term_id': np.str,\n",
    "                          'cnpj_cpf': np.str,\n",
    "                          'reimbursement_number': np.str})"
   ]
  },
  {
   "cell_type": "markdown",
   "metadata": {},
   "source": [
    "### Reaching for subquota description"
   ]
  },
  {
   "cell_type": "code",
   "execution_count": 7,
   "metadata": {
    "collapsed": false
   },
   "outputs": [
    {
     "data": {
      "text/plain": [
       "['document_id',\n",
       " 'congressperson_name',\n",
       " 'congressperson_id',\n",
       " 'congressperson_document',\n",
       " 'term',\n",
       " 'state',\n",
       " 'party',\n",
       " 'term_id',\n",
       " 'subquota_number',\n",
       " 'subquota_description',\n",
       " 'subquota_group_id',\n",
       " 'subquota_group_description',\n",
       " 'supplier',\n",
       " 'cnpj_cpf',\n",
       " 'document_number',\n",
       " 'document_type',\n",
       " 'issue_date',\n",
       " 'document_value',\n",
       " 'remark_value',\n",
       " 'net_value',\n",
       " 'month',\n",
       " 'year',\n",
       " 'installment',\n",
       " 'passenger',\n",
       " 'leg_of_the_trip',\n",
       " 'batch_number',\n",
       " 'reimbursement_number',\n",
       " 'reimbursement_value',\n",
       " 'applicant_id']"
      ]
     },
     "execution_count": 7,
     "metadata": {},
     "output_type": "execute_result"
    }
   ],
   "source": [
    "list(data.columns.values)"
   ]
  },
  {
   "cell_type": "code",
   "execution_count": 11,
   "metadata": {
    "collapsed": false
   },
   "outputs": [
    {
     "name": "stdout",
     "output_type": "stream",
     "text": [
      "['Maintenance of office supporting parliamentary activity'\n",
      " 'Fuels and lubricants' 'Consultancy, research and technical work'\n",
      " 'Publicity of parliamentary activity'\n",
      " 'Security service provided by specialized company' 'Flight tickets'\n",
      " 'Telecommunication' 'Postal services' 'Congressperson meal'\n",
      " 'Automotive vehicle renting or charter' 'Watercraft renting or charter'\n",
      " 'Taxi, toll and parking' 'Flight ticket issue'\n",
      " 'Lodging, except for congressperson from Distrito Federal'\n",
      " 'Aircraft renting or charter of aircraft'\n",
      " 'Terrestrial, maritime and fluvial tickets' 'Publication subscriptions'\n",
      " 'Participation in course, talk or similar event']\n"
     ]
    }
   ],
   "source": [
    "subquota_list = data['subquota_description'].unique()\n",
    "print (subquota_list)"
   ]
  },
  {
   "cell_type": "code",
   "execution_count": 13,
   "metadata": {
    "collapsed": false
   },
   "outputs": [
    {
     "data": {
      "text/plain": [
       "18"
      ]
     },
     "execution_count": 13,
     "metadata": {},
     "output_type": "execute_result"
    }
   ],
   "source": [
    "len(subquota_list)"
   ]
  },
  {
   "cell_type": "markdown",
   "metadata": {},
   "source": [
    "### End of subquota listings - WIP"
   ]
  },
  {
   "cell_type": "markdown",
   "metadata": {},
   "source": [
    "### Checking net values from all the receipts"
   ]
  },
  {
   "cell_type": "code",
   "execution_count": 14,
   "metadata": {
    "collapsed": false
   },
   "outputs": [
    {
     "data": {
      "text/plain": [
       "count    374484.000000\n",
       "mean        570.566565\n",
       "std        1993.167639\n",
       "min       -9240.770000\n",
       "25%          45.000000\n",
       "50%         134.310000\n",
       "75%         481.000000\n",
       "max      189600.000000\n",
       "Name: net_value, dtype: float64"
      ]
     },
     "execution_count": 14,
     "metadata": {},
     "output_type": "execute_result"
    }
   ],
   "source": [
    "data.net_value.describe()"
   ]
  },
  {
   "cell_type": "code",
   "execution_count": 15,
   "metadata": {
    "collapsed": false
   },
   "outputs": [
    {
     "name": "stdout",
     "output_type": "stream",
     "text": [
      "374484 total cnpj/cpfs, 24530 are unique\n"
     ]
    }
   ],
   "source": [
    "grouped = data.groupby('cnpj_cpf', as_index=False)\n",
    "\n",
    "print('{} total cnpj/cpfs, {} are unique'.format(len(data), len(grouped)))"
   ]
  },
  {
   "cell_type": "markdown",
   "metadata": {},
   "source": [
    "### Creating a dataframe with the first supplier name for each cnpj_cpf:\n"
   ]
  },
  {
   "cell_type": "code",
   "execution_count": 16,
   "metadata": {
    "collapsed": false
   },
   "outputs": [
    {
     "data": {
      "text/html": [
       "<div>\n",
       "<table border=\"1\" class=\"dataframe\">\n",
       "  <thead>\n",
       "    <tr style=\"text-align: right;\">\n",
       "      <th></th>\n",
       "      <th>cnpj_cpf</th>\n",
       "      <th>supplier_name</th>\n",
       "    </tr>\n",
       "  </thead>\n",
       "  <tbody>\n",
       "    <tr>\n",
       "      <th>0</th>\n",
       "      <td>00001172000180</td>\n",
       "      <td>DIÁRIOS ASSOCIADOS</td>\n",
       "    </tr>\n",
       "    <tr>\n",
       "      <th>1</th>\n",
       "      <td>00001388000226</td>\n",
       "      <td>DISTRIBUIDORA BRASILIA DE VEICULOS S/A</td>\n",
       "    </tr>\n",
       "    <tr>\n",
       "      <th>2</th>\n",
       "      <td>00001388000307</td>\n",
       "      <td>DISTRIBUIDORA BRASÍLIA DE VEICULOS S/A</td>\n",
       "    </tr>\n",
       "    <tr>\n",
       "      <th>3</th>\n",
       "      <td>00001388000579</td>\n",
       "      <td>DISTRIBUIDORA BRASÍLIA DE VEÍCULOS S/A</td>\n",
       "    </tr>\n",
       "    <tr>\n",
       "      <th>4</th>\n",
       "      <td>00001974000190</td>\n",
       "      <td>POSTO 81 LTDA</td>\n",
       "    </tr>\n",
       "  </tbody>\n",
       "</table>\n",
       "</div>"
      ],
      "text/plain": [
       "         cnpj_cpf                           supplier_name\n",
       "0  00001172000180                      DIÁRIOS ASSOCIADOS\n",
       "1  00001388000226  DISTRIBUIDORA BRASILIA DE VEICULOS S/A\n",
       "2  00001388000307  DISTRIBUIDORA BRASÍLIA DE VEICULOS S/A\n",
       "3  00001388000579  DISTRIBUIDORA BRASÍLIA DE VEÍCULOS S/A\n",
       "4  00001974000190                           POSTO 81 LTDA"
      ]
     },
     "execution_count": 16,
     "metadata": {},
     "output_type": "execute_result"
    }
   ],
   "source": [
    "cnpj_cpfs = []\n",
    "names = []\n",
    "for group in grouped:\n",
    "    cnpj_cpfs.append(group[0])\n",
    "    names.append(group[1].iloc[0].supplier)\n",
    "\n",
    "names = pd.DataFrame({'cnpj_cpf': cnpj_cpfs, 'supplier_name': names})\n",
    "names.head()\n",
    "\n"
   ]
  },
  {
   "cell_type": "markdown",
   "metadata": {},
   "source": [
    "### CNPJs/CPFs that received most payments "
   ]
  },
  {
   "cell_type": "code",
   "execution_count": 20,
   "metadata": {
    "collapsed": false
   },
   "outputs": [
    {
     "data": {
      "text/html": [
       "<div>\n",
       "<table border=\"1\" class=\"dataframe\">\n",
       "  <thead>\n",
       "    <tr style=\"text-align: right;\">\n",
       "      <th></th>\n",
       "      <th>cnpj_cpf</th>\n",
       "      <th>net_value</th>\n",
       "      <th>supplier_name</th>\n",
       "    </tr>\n",
       "  </thead>\n",
       "  <tbody>\n",
       "    <tr>\n",
       "      <th>0</th>\n",
       "      <td>02012862000160</td>\n",
       "      <td>23639959.33</td>\n",
       "      <td>TAM LINHAS AÉREAS.</td>\n",
       "    </tr>\n",
       "    <tr>\n",
       "      <th>1</th>\n",
       "      <td>07575651000159</td>\n",
       "      <td>15170377.15</td>\n",
       "      <td>Cia Aérea - GOL</td>\n",
       "    </tr>\n",
       "    <tr>\n",
       "      <th>2</th>\n",
       "      <td>09296295000160</td>\n",
       "      <td>5763747.30</td>\n",
       "      <td>Cia Aérea - AZUL</td>\n",
       "    </tr>\n",
       "    <tr>\n",
       "      <th>3</th>\n",
       "      <td>02575829000148</td>\n",
       "      <td>4991633.14</td>\n",
       "      <td>Cia Aérea - AVIANCA</td>\n",
       "    </tr>\n",
       "    <tr>\n",
       "      <th>4</th>\n",
       "      <td>02558157000162</td>\n",
       "      <td>3365216.83</td>\n",
       "      <td>Telefonica Brasil S.A - VIVO</td>\n",
       "    </tr>\n",
       "    <tr>\n",
       "      <th>5</th>\n",
       "      <td>22005529000130</td>\n",
       "      <td>962800.01</td>\n",
       "      <td>DOUGLAS CUNHA DA SILVA ME</td>\n",
       "    </tr>\n",
       "    <tr>\n",
       "      <th>6</th>\n",
       "      <td>15193908000136</td>\n",
       "      <td>788299.96</td>\n",
       "      <td>JOSELY FERNANDA DO NASCIMENTO</td>\n",
       "    </tr>\n",
       "    <tr>\n",
       "      <th>7</th>\n",
       "      <td>17589509000114</td>\n",
       "      <td>679350.00</td>\n",
       "      <td>FATIMA FERREIRA DOS SANTOS ME</td>\n",
       "    </tr>\n",
       "    <tr>\n",
       "      <th>8</th>\n",
       "      <td>13230334000101</td>\n",
       "      <td>655780.00</td>\n",
       "      <td>InCine Video Ltda - ME</td>\n",
       "    </tr>\n",
       "    <tr>\n",
       "      <th>9</th>\n",
       "      <td>00512777000135</td>\n",
       "      <td>513128.80</td>\n",
       "      <td>Cia Aérea - PASSAREDO</td>\n",
       "    </tr>\n",
       "  </tbody>\n",
       "</table>\n",
       "</div>"
      ],
      "text/plain": [
       "         cnpj_cpf    net_value                  supplier_name\n",
       "0  02012862000160  23639959.33             TAM LINHAS AÉREAS.\n",
       "1  07575651000159  15170377.15                Cia Aérea - GOL\n",
       "2  09296295000160   5763747.30               Cia Aérea - AZUL\n",
       "3  02575829000148   4991633.14            Cia Aérea - AVIANCA\n",
       "4  02558157000162   3365216.83   Telefonica Brasil S.A - VIVO\n",
       "5  22005529000130    962800.01      DOUGLAS CUNHA DA SILVA ME\n",
       "6  15193908000136    788299.96  JOSELY FERNANDA DO NASCIMENTO\n",
       "7  17589509000114    679350.00  FATIMA FERREIRA DOS SANTOS ME\n",
       "8  13230334000101    655780.00         InCine Video Ltda - ME\n",
       "9  00512777000135    513128.80          Cia Aérea - PASSAREDO"
      ]
     },
     "execution_count": 20,
     "metadata": {},
     "output_type": "execute_result"
    }
   ],
   "source": [
    "spent = grouped.agg({'net_value': np.nansum}).sort_values(by='net_value', ascending=False)\n",
    "\n",
    "spent = pd.merge(spent, names, on='cnpj_cpf')\n",
    "spent.head(10)"
   ]
  },
  {
   "cell_type": "markdown",
   "metadata": {},
   "source": [
    "# Stopying now - starting investigation for each micro-enterprise(ME) listed"
   ]
  },
  {
   "cell_type": "code",
   "execution_count": null,
   "metadata": {
    "collapsed": true
   },
   "outputs": [],
   "source": []
  }
 ],
 "metadata": {
  "kernelspec": {
   "display_name": "Python 3",
   "language": "python",
   "name": "python3"
  },
  "language_info": {
   "codemirror_mode": {
    "name": "ipython",
    "version": 3
   },
   "file_extension": ".py",
   "mimetype": "text/x-python",
   "name": "python",
   "nbconvert_exporter": "python",
   "pygments_lexer": "ipython3",
   "version": "3.5.2"
  }
 },
 "nbformat": 4,
 "nbformat_minor": 1
}
