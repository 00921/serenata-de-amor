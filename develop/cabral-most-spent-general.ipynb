{
 "cells": [
  {
   "cell_type": "code",
   "execution_count": 1,
   "metadata": {
    "collapsed": false
   },
   "outputs": [
    {
     "name": "stderr",
     "output_type": "stream",
     "text": [
      "/home/cabral/anaconda3/lib/python3.5/site-packages/IPython/html.py:14: ShimWarning: The `IPython.html` package has been deprecated. You should import from `notebook` instead. `IPython.html.widgets` has moved to `ipywidgets`.\n",
      "  \"`IPython.html.widgets` has moved to `ipywidgets`.\", ShimWarning)\n"
     ]
    }
   ],
   "source": [
    "%matplotlib notebook\n",
    "import matplotlib.pyplot as plt\n",
    "import numpy as np\n",
    "import pandas as pd\n",
    "import seaborn as sns"
   ]
  },
  {
   "cell_type": "code",
   "execution_count": 2,
   "metadata": {
    "collapsed": true
   },
   "outputs": [],
   "source": [
    "data = pd.read_csv('../data/2016-08-08-last-year.xz',\n",
    "                   parse_dates=[16],\n",
    "                   dtype={'document_id': np.str,\n",
    "                          'congressperson_id': np.str,\n",
    "                          'congressperson_document': np.str,\n",
    "                          'term_id': np.str,\n",
    "                          'cnpj_cpf': np.str,\n",
    "                          'reimbursement_number': np.str})"
   ]
  },
  {
   "cell_type": "code",
   "execution_count": 3,
   "metadata": {
    "collapsed": false
   },
   "outputs": [],
   "source": [
    "subquota_list = data['subquota_description'].unique()"
   ]
  },
  {
   "cell_type": "code",
   "execution_count": 4,
   "metadata": {
    "collapsed": false
   },
   "outputs": [
    {
     "name": "stdout",
     "output_type": "stream",
     "text": [
      "Security service provided by specialized company\n"
     ]
    }
   ],
   "source": [
    "len(subquota_list)\n",
    "print (subquota_list.item(4))"
   ]
  },
  {
   "cell_type": "markdown",
   "metadata": {},
   "source": [
    "### Checking net values from all the receipts"
   ]
  },
  {
   "cell_type": "code",
   "execution_count": 5,
   "metadata": {
    "collapsed": false
   },
   "outputs": [
    {
     "data": {
      "text/plain": [
       "count    374484.000000\n",
       "mean        570.566565\n",
       "std        1993.167639\n",
       "min       -9240.770000\n",
       "25%          45.000000\n",
       "50%         134.310000\n",
       "75%         481.000000\n",
       "max      189600.000000\n",
       "Name: net_value, dtype: float64"
      ]
     },
     "execution_count": 5,
     "metadata": {},
     "output_type": "execute_result"
    }
   ],
   "source": [
    "data.net_value.describe()"
   ]
  },
  {
   "cell_type": "code",
   "execution_count": 6,
   "metadata": {
    "collapsed": false
   },
   "outputs": [
    {
     "name": "stdout",
     "output_type": "stream",
     "text": [
      "374484 total cnpj/cpfs, 24530 are unique\n"
     ]
    }
   ],
   "source": [
    "grouped = data.groupby('cnpj_cpf', as_index=False)\n",
    "\n",
    "print('{} total cnpj/cpfs, {} are unique'.format(len(data), len(grouped)))"
   ]
  },
  {
   "cell_type": "markdown",
   "metadata": {},
   "source": [
    "### Creating a dataframe with the first supplier name for each cnpj_cpf:\n"
   ]
  },
  {
   "cell_type": "code",
   "execution_count": 7,
   "metadata": {
    "collapsed": false
   },
   "outputs": [
    {
     "data": {
      "text/html": [
       "<div>\n",
       "<table border=\"1\" class=\"dataframe\">\n",
       "  <thead>\n",
       "    <tr style=\"text-align: right;\">\n",
       "      <th></th>\n",
       "      <th>cnpj_cpf</th>\n",
       "      <th>supplier_name</th>\n",
       "    </tr>\n",
       "  </thead>\n",
       "  <tbody>\n",
       "    <tr>\n",
       "      <th>0</th>\n",
       "      <td>00001172000180</td>\n",
       "      <td>DIÁRIOS ASSOCIADOS</td>\n",
       "    </tr>\n",
       "    <tr>\n",
       "      <th>1</th>\n",
       "      <td>00001388000226</td>\n",
       "      <td>DISTRIBUIDORA BRASILIA DE VEICULOS S/A</td>\n",
       "    </tr>\n",
       "    <tr>\n",
       "      <th>2</th>\n",
       "      <td>00001388000307</td>\n",
       "      <td>DISTRIBUIDORA BRASÍLIA DE VEICULOS S/A</td>\n",
       "    </tr>\n",
       "    <tr>\n",
       "      <th>3</th>\n",
       "      <td>00001388000579</td>\n",
       "      <td>DISTRIBUIDORA BRASÍLIA DE VEÍCULOS S/A</td>\n",
       "    </tr>\n",
       "    <tr>\n",
       "      <th>4</th>\n",
       "      <td>00001974000190</td>\n",
       "      <td>POSTO 81 LTDA</td>\n",
       "    </tr>\n",
       "  </tbody>\n",
       "</table>\n",
       "</div>"
      ],
      "text/plain": [
       "         cnpj_cpf                           supplier_name\n",
       "0  00001172000180                      DIÁRIOS ASSOCIADOS\n",
       "1  00001388000226  DISTRIBUIDORA BRASILIA DE VEICULOS S/A\n",
       "2  00001388000307  DISTRIBUIDORA BRASÍLIA DE VEICULOS S/A\n",
       "3  00001388000579  DISTRIBUIDORA BRASÍLIA DE VEÍCULOS S/A\n",
       "4  00001974000190                           POSTO 81 LTDA"
      ]
     },
     "execution_count": 7,
     "metadata": {},
     "output_type": "execute_result"
    }
   ],
   "source": [
    "cnpj_cpfs = []\n",
    "names = []\n",
    "for group in grouped:\n",
    "    cnpj_cpfs.append(group[0])\n",
    "    names.append(group[1].iloc[0].supplier)\n",
    "\n",
    "names = pd.DataFrame({'cnpj_cpf': cnpj_cpfs, 'supplier_name': names})\n",
    "names.head()\n",
    "\n"
   ]
  },
  {
   "cell_type": "markdown",
   "metadata": {},
   "source": [
    "## CNPJs/CPFs that received most payments "
   ]
  },
  {
   "cell_type": "code",
   "execution_count": 8,
   "metadata": {
    "collapsed": false
   },
   "outputs": [
    {
     "data": {
      "text/html": [
       "<div>\n",
       "<table border=\"1\" class=\"dataframe\">\n",
       "  <thead>\n",
       "    <tr style=\"text-align: right;\">\n",
       "      <th></th>\n",
       "      <th>cnpj_cpf</th>\n",
       "      <th>net_value</th>\n",
       "      <th>supplier_name</th>\n",
       "    </tr>\n",
       "  </thead>\n",
       "  <tbody>\n",
       "    <tr>\n",
       "      <th>0</th>\n",
       "      <td>02012862000160</td>\n",
       "      <td>23639959.33</td>\n",
       "      <td>TAM LINHAS AÉREAS.</td>\n",
       "    </tr>\n",
       "    <tr>\n",
       "      <th>1</th>\n",
       "      <td>07575651000159</td>\n",
       "      <td>15170377.15</td>\n",
       "      <td>Cia Aérea - GOL</td>\n",
       "    </tr>\n",
       "    <tr>\n",
       "      <th>2</th>\n",
       "      <td>09296295000160</td>\n",
       "      <td>5763747.30</td>\n",
       "      <td>Cia Aérea - AZUL</td>\n",
       "    </tr>\n",
       "    <tr>\n",
       "      <th>3</th>\n",
       "      <td>02575829000148</td>\n",
       "      <td>4991633.14</td>\n",
       "      <td>Cia Aérea - AVIANCA</td>\n",
       "    </tr>\n",
       "    <tr>\n",
       "      <th>4</th>\n",
       "      <td>02558157000162</td>\n",
       "      <td>3365216.83</td>\n",
       "      <td>Telefonica Brasil S.A - VIVO</td>\n",
       "    </tr>\n",
       "    <tr>\n",
       "      <th>5</th>\n",
       "      <td>22005529000130</td>\n",
       "      <td>962800.01</td>\n",
       "      <td>DOUGLAS CUNHA DA SILVA ME</td>\n",
       "    </tr>\n",
       "    <tr>\n",
       "      <th>6</th>\n",
       "      <td>15193908000136</td>\n",
       "      <td>788299.96</td>\n",
       "      <td>JOSELY FERNANDA DO NASCIMENTO</td>\n",
       "    </tr>\n",
       "    <tr>\n",
       "      <th>7</th>\n",
       "      <td>17589509000114</td>\n",
       "      <td>679350.00</td>\n",
       "      <td>FATIMA FERREIRA DOS SANTOS ME</td>\n",
       "    </tr>\n",
       "    <tr>\n",
       "      <th>8</th>\n",
       "      <td>13230334000101</td>\n",
       "      <td>655780.00</td>\n",
       "      <td>InCine Video Ltda - ME</td>\n",
       "    </tr>\n",
       "    <tr>\n",
       "      <th>9</th>\n",
       "      <td>00512777000135</td>\n",
       "      <td>513128.80</td>\n",
       "      <td>Cia Aérea - PASSAREDO</td>\n",
       "    </tr>\n",
       "  </tbody>\n",
       "</table>\n",
       "</div>"
      ],
      "text/plain": [
       "         cnpj_cpf    net_value                  supplier_name\n",
       "0  02012862000160  23639959.33             TAM LINHAS AÉREAS.\n",
       "1  07575651000159  15170377.15                Cia Aérea - GOL\n",
       "2  09296295000160   5763747.30               Cia Aérea - AZUL\n",
       "3  02575829000148   4991633.14            Cia Aérea - AVIANCA\n",
       "4  02558157000162   3365216.83   Telefonica Brasil S.A - VIVO\n",
       "5  22005529000130    962800.01      DOUGLAS CUNHA DA SILVA ME\n",
       "6  15193908000136    788299.96  JOSELY FERNANDA DO NASCIMENTO\n",
       "7  17589509000114    679350.00  FATIMA FERREIRA DOS SANTOS ME\n",
       "8  13230334000101    655780.00         InCine Video Ltda - ME\n",
       "9  00512777000135    513128.80          Cia Aérea - PASSAREDO"
      ]
     },
     "execution_count": 8,
     "metadata": {},
     "output_type": "execute_result"
    }
   ],
   "source": [
    "spent = grouped.agg({'net_value': np.nansum}).sort_values(by='net_value', ascending=False)\n",
    "\n",
    "spent = pd.merge(spent, names, on='cnpj_cpf')\n",
    "spent.head(10)"
   ]
  },
  {
   "cell_type": "markdown",
   "metadata": {},
   "source": [
    "#### CNPJ/CPFs that received most payments divided per subquota"
   ]
  },
  {
   "cell_type": "code",
   "execution_count": 29,
   "metadata": {
    "collapsed": false
   },
   "outputs": [
    {
     "name": "stdout",
     "output_type": "stream",
     "text": [
      "Maintenance of office supporting parliamentary activity have 21519 total cnpj/cpfs, 2239 are unique\n",
      "Fuels and lubricants have 74690 total cnpj/cpfs, 9762 are unique\n",
      "Consultancy, research and technical work have 3096 total cnpj/cpfs, 711 are unique\n",
      "Publicity of parliamentary activity have 10208 total cnpj/cpfs, 2565 are unique\n",
      "Security service provided by specialized company have 852 total cnpj/cpfs, 113 are unique\n",
      "Flight tickets have 3182 total cnpj/cpfs, 98 are unique\n",
      "Telecommunication have 37241 total cnpj/cpfs, 185 are unique\n",
      "Postal services have 31919 total cnpj/cpfs, 373 are unique\n",
      "Congressperson meal have 33540 total cnpj/cpfs, 5926 are unique\n",
      "Automotive vehicle renting or charter have 5850 total cnpj/cpfs, 552 are unique\n",
      "Watercraft renting or charter have 41 total cnpj/cpfs, 24 are unique\n",
      "Taxi, toll and parking have 28077 total cnpj/cpfs, 1082 are unique\n",
      "Flight ticket issue have 116993 total cnpj/cpfs, 5 are unique\n",
      "Lodging, except for congressperson from Distrito Federal have 5394 total cnpj/cpfs, 1673 are unique\n",
      "Aircraft renting or charter of aircraft have 322 total cnpj/cpfs, 60 are unique\n",
      "Terrestrial, maritime and fluvial tickets have 983 total cnpj/cpfs, 165 are unique\n",
      "Publication subscriptions have 574 total cnpj/cpfs, 201 are unique\n",
      "Participation in course, talk or similar event have 3 total cnpj/cpfs, 3 are unique\n"
     ]
    }
   ],
   "source": [
    "subquota = dict()\n",
    "sub_spent = dict()\n",
    "sub_visit = dict()\n",
    "for x in range(0, 18):\n",
    "    foo = data[data.subquota_description == subquota_list.item(x) ]\n",
    "    grouped = foo.groupby('cnpj_cpf', as_index=False)\n",
    "    print(subquota_list.item(x) + ' have ' + '{} total cnpj/cpfs, {} are unique'.format(len(foo), len(grouped)))\n",
    "\n",
    "    cnpj_cpfs = []\n",
    "    names = []\n",
    "    for group in grouped:\n",
    "        cnpj_cpfs.append(group[0])\n",
    "        names.append(group[1].iloc[0].supplier)\n",
    "\n",
    "    names = pd.DataFrame({'cnpj_cpf': cnpj_cpfs, 'supplier_name': names})\n",
    "    subquota[x] = names.head(10)\n",
    "    #listing the ones with most spent amount of money\n",
    "    spent = grouped.agg({'net_value': np.nansum}).sort_values(by='net_value', ascending=False)\n",
    "    spent = pd.merge(spent, names, on='cnpj_cpf')\n",
    "    sub_spent[x] = spent.head(10)\n",
    "    #show the list with enterprises who received most number of visits\n",
    "    visits = grouped['cnpj_cpf'].agg({'visits': len}).sort_values(by='visits', ascending=False)\n",
    "    visits = pd.merge(visits, names, on='cnpj_cpf')\n",
    "    sub_visit[x] = visits.head(10)\n",
    "\n",
    "\n",
    "    "
   ]
  },
  {
   "cell_type": "markdown",
   "metadata": {},
   "source": [
    "# Dictionary for subquota"
   ]
  },
  {
   "cell_type": "code",
   "execution_count": 23,
   "metadata": {
    "collapsed": false
   },
   "outputs": [
    {
     "name": "stdout",
     "output_type": "stream",
     "text": [
      "0 for : Maintenance of office supporting parliamentary activity\n",
      "1 for : Fuels and lubricants\n",
      "2 for : Consultancy, research and technical work\n",
      "3 for : Publicity of parliamentary activity\n",
      "4 for : Security service provided by specialized company\n",
      "5 for : Flight tickets\n",
      "6 for : Telecommunication\n",
      "7 for : Postal services\n",
      "8 for : Congressperson meal\n",
      "9 for : Automotive vehicle renting or charter\n",
      "10 for : Watercraft renting or charter\n",
      "11 for : Taxi, toll and parking\n",
      "12 for : Flight ticket issue\n",
      "13 for : Lodging, except for congressperson from Distrito Federal\n",
      "14 for : Aircraft renting or charter of aircraft\n",
      "15 for : Terrestrial, maritime and fluvial tickets\n",
      "16 for : Publication subscriptions\n",
      "17 for : Participation in course, talk or similar event\n",
      "search using \"subquota[your selected number]\"\n"
     ]
    }
   ],
   "source": [
    "for x in range(0,18):\n",
    "    # print (x + ' = ' + subquota_list.item(x))\n",
    "    print ( '{} for : '.format(x) + subquota_list.item(x))\n",
    "print ('search using \"subquota[your selected number]\"')"
   ]
  },
  {
   "cell_type": "markdown",
   "metadata": {},
   "source": [
    "### Use the cell below to search and understand each subquota"
   ]
  },
  {
   "cell_type": "code",
   "execution_count": 44,
   "metadata": {
    "collapsed": true
   },
   "outputs": [],
   "source": [
    "#function to return all the info\n",
    "def subquota_info(x):\n",
    "    #return sub_visit[x], sub_spent[x]\n",
    "    from IPython.display import display\n",
    "    display(sub_visit[x])\n",
    "    display(sub_spent[x])"
   ]
  },
  {
   "cell_type": "code",
   "execution_count": 49,
   "metadata": {
    "collapsed": false
   },
   "outputs": [
    {
     "data": {
      "text/html": [
       "<div>\n",
       "<table border=\"1\" class=\"dataframe\">\n",
       "  <thead>\n",
       "    <tr style=\"text-align: right;\">\n",
       "      <th></th>\n",
       "      <th>cnpj_cpf</th>\n",
       "      <th>visits</th>\n",
       "      <th>supplier_name</th>\n",
       "    </tr>\n",
       "  </thead>\n",
       "  <tbody>\n",
       "    <tr>\n",
       "      <th>0</th>\n",
       "      <td>00762199000276</td>\n",
       "      <td>77</td>\n",
       "      <td>RCD EMPREENDIMENTOS LTDA</td>\n",
       "    </tr>\n",
       "    <tr>\n",
       "      <th>1</th>\n",
       "      <td>18287639000165</td>\n",
       "      <td>76</td>\n",
       "      <td>FLOR DO CERRADO HOSPEDAGEM</td>\n",
       "    </tr>\n",
       "    <tr>\n",
       "      <th>2</th>\n",
       "      <td>08928877000159</td>\n",
       "      <td>72</td>\n",
       "      <td>IBIS FLORIANÓPOLIS FLEX HOTELARIA</td>\n",
       "    </tr>\n",
       "    <tr>\n",
       "      <th>3</th>\n",
       "      <td>26418749000147</td>\n",
       "      <td>54</td>\n",
       "      <td>PAULO OCTAVIO HOTEIS E TURISMO LTDA</td>\n",
       "    </tr>\n",
       "    <tr>\n",
       "      <th>4</th>\n",
       "      <td>75817999000165</td>\n",
       "      <td>52</td>\n",
       "      <td>HOTEL BRÜGGEMANN DE TURISMO LTDA</td>\n",
       "    </tr>\n",
       "    <tr>\n",
       "      <th>5</th>\n",
       "      <td>76755404000157</td>\n",
       "      <td>47</td>\n",
       "      <td>PARANOA HOTEIS LTDA</td>\n",
       "    </tr>\n",
       "    <tr>\n",
       "      <th>6</th>\n",
       "      <td>04356463000141</td>\n",
       "      <td>35</td>\n",
       "      <td>BRISTOL HOTEL LTDA</td>\n",
       "    </tr>\n",
       "    <tr>\n",
       "      <th>7</th>\n",
       "      <td>00366518000143</td>\n",
       "      <td>33</td>\n",
       "      <td>IRFATUR TUR E HOTEL SA ARACOARA</td>\n",
       "    </tr>\n",
       "    <tr>\n",
       "      <th>8</th>\n",
       "      <td>10532251000170</td>\n",
       "      <td>32</td>\n",
       "      <td>BMF HOTEL E TURISMO LTDA</td>\n",
       "    </tr>\n",
       "    <tr>\n",
       "      <th>9</th>\n",
       "      <td>02924895000186</td>\n",
       "      <td>30</td>\n",
       "      <td>ECONOTEL</td>\n",
       "    </tr>\n",
       "  </tbody>\n",
       "</table>\n",
       "</div>"
      ],
      "text/plain": [
       "         cnpj_cpf  visits                        supplier_name\n",
       "0  00762199000276      77             RCD EMPREENDIMENTOS LTDA\n",
       "1  18287639000165      76           FLOR DO CERRADO HOSPEDAGEM\n",
       "2  08928877000159      72    IBIS FLORIANÓPOLIS FLEX HOTELARIA\n",
       "3  26418749000147      54  PAULO OCTAVIO HOTEIS E TURISMO LTDA\n",
       "4  75817999000165      52     HOTEL BRÜGGEMANN DE TURISMO LTDA\n",
       "5  76755404000157      47                  PARANOA HOTEIS LTDA\n",
       "6  04356463000141      35                   BRISTOL HOTEL LTDA\n",
       "7  00366518000143      33      IRFATUR TUR E HOTEL SA ARACOARA\n",
       "8  10532251000170      32             BMF HOTEL E TURISMO LTDA\n",
       "9  02924895000186      30                             ECONOTEL"
      ]
     },
     "metadata": {},
     "output_type": "display_data"
    },
    {
     "data": {
      "text/html": [
       "<div>\n",
       "<table border=\"1\" class=\"dataframe\">\n",
       "  <thead>\n",
       "    <tr style=\"text-align: right;\">\n",
       "      <th></th>\n",
       "      <th>cnpj_cpf</th>\n",
       "      <th>net_value</th>\n",
       "      <th>supplier_name</th>\n",
       "    </tr>\n",
       "  </thead>\n",
       "  <tbody>\n",
       "    <tr>\n",
       "      <th>0</th>\n",
       "      <td>76755404000157</td>\n",
       "      <td>66114.15</td>\n",
       "      <td>PARANOA HOTEIS LTDA</td>\n",
       "    </tr>\n",
       "    <tr>\n",
       "      <th>1</th>\n",
       "      <td>07721300000109</td>\n",
       "      <td>40529.59</td>\n",
       "      <td>LUZEIROS HOTÉIS S/A</td>\n",
       "    </tr>\n",
       "    <tr>\n",
       "      <th>2</th>\n",
       "      <td>16978175000108</td>\n",
       "      <td>34840.82</td>\n",
       "      <td>Adria viagens e turismo LTDA ME</td>\n",
       "    </tr>\n",
       "    <tr>\n",
       "      <th>3</th>\n",
       "      <td>26418749000147</td>\n",
       "      <td>33612.95</td>\n",
       "      <td>PAULO OCTAVIO HOTEIS E TURISMO LTDA</td>\n",
       "    </tr>\n",
       "    <tr>\n",
       "      <th>4</th>\n",
       "      <td>01982156000188</td>\n",
       "      <td>31582.00</td>\n",
       "      <td>PAIAGUAS HOTÉIS S/A</td>\n",
       "    </tr>\n",
       "    <tr>\n",
       "      <th>5</th>\n",
       "      <td>00762199000276</td>\n",
       "      <td>31494.94</td>\n",
       "      <td>RCD EMPREENDIMENTOS LTDA</td>\n",
       "    </tr>\n",
       "    <tr>\n",
       "      <th>6</th>\n",
       "      <td>04443021000213</td>\n",
       "      <td>26650.00</td>\n",
       "      <td>EUROPA INVESTIMENTOS LTDA</td>\n",
       "    </tr>\n",
       "    <tr>\n",
       "      <th>7</th>\n",
       "      <td>18287639000165</td>\n",
       "      <td>21985.00</td>\n",
       "      <td>FLOR DO CERRADO HOSPEDAGEM</td>\n",
       "    </tr>\n",
       "    <tr>\n",
       "      <th>8</th>\n",
       "      <td>08928877000159</td>\n",
       "      <td>15941.05</td>\n",
       "      <td>IBIS FLORIANÓPOLIS FLEX HOTELARIA</td>\n",
       "    </tr>\n",
       "    <tr>\n",
       "      <th>9</th>\n",
       "      <td>04356463000141</td>\n",
       "      <td>15642.37</td>\n",
       "      <td>BRISTOL HOTEL LTDA</td>\n",
       "    </tr>\n",
       "  </tbody>\n",
       "</table>\n",
       "</div>"
      ],
      "text/plain": [
       "         cnpj_cpf  net_value                        supplier_name\n",
       "0  76755404000157   66114.15                  PARANOA HOTEIS LTDA\n",
       "1  07721300000109   40529.59                  LUZEIROS HOTÉIS S/A\n",
       "2  16978175000108   34840.82      Adria viagens e turismo LTDA ME\n",
       "3  26418749000147   33612.95  PAULO OCTAVIO HOTEIS E TURISMO LTDA\n",
       "4  01982156000188   31582.00                  PAIAGUAS HOTÉIS S/A\n",
       "5  00762199000276   31494.94             RCD EMPREENDIMENTOS LTDA\n",
       "6  04443021000213   26650.00            EUROPA INVESTIMENTOS LTDA\n",
       "7  18287639000165   21985.00           FLOR DO CERRADO HOSPEDAGEM\n",
       "8  08928877000159   15941.05    IBIS FLORIANÓPOLIS FLEX HOTELARIA\n",
       "9  04356463000141   15642.37                   BRISTOL HOTEL LTDA"
      ]
     },
     "metadata": {},
     "output_type": "display_data"
    }
   ],
   "source": [
    "subquota_info(13)"
   ]
  },
  {
   "cell_type": "code",
   "execution_count": null,
   "metadata": {
    "collapsed": true
   },
   "outputs": [],
   "source": []
  }
 ],
 "metadata": {
  "kernelspec": {
   "display_name": "Python 3",
   "language": "python",
   "name": "python3"
  },
  "language_info": {
   "codemirror_mode": {
    "name": "ipython",
    "version": 3
   },
   "file_extension": ".py",
   "mimetype": "text/x-python",
   "name": "python",
   "nbconvert_exporter": "python",
   "pygments_lexer": "ipython3",
   "version": "3.5.2"
  }
 },
 "nbformat": 4,
 "nbformat_minor": 1
}
